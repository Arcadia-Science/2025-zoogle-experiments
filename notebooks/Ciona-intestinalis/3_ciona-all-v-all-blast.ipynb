{
 "cells": [
  {
   "cell_type": "markdown",
   "metadata": {},
   "source": [
    "# 3. Building a mapping between Ciona KY identifiers and UniProt identifiers.\n",
    "\n",
    "This notebook is used to build a crude mapping between Ciona KY identifiers and UniProt identifiers using all-vs-all BLAST. Running this notebook requires setting up a `conda` environment with `blast` installed. You can use the `envs/blast.yml` file to create such an environment using the following command from the root directory:\n",
    "\n",
    "```{bash}\n",
    "conda env create -f envs/blast.yml\n",
    "```\n",
    "\n",
    "## 3.1. Build a BLAST database from the KY21 gene set.\n",
    "\n",
    "The Ciona reference proteome in UniProt and the KY21 proteome are downloaded from the [Ghost database](http://ghost.zool.kyoto-u.ac.jp/download_ht.html) as part of the snakemake workflow."
   ]
  },
  {
   "cell_type": "code",
   "execution_count": 1,
   "metadata": {},
   "outputs": [
    {
     "name": "stdout",
     "output_type": "stream",
     "text": [
      "\n",
      "\n",
      "Building a new DB, current time: 05/08/2025 09:42:10\n",
      "New DB name:   /Users/dennis/Code/2025-zoogle-collabs/data/Ciona_gene_models/HT.KY21Gene.protein.2.fasta.blastdb\n",
      "New DB title:  ../../data/Ciona_gene_models/HT.KY21Gene.protein.2.fasta\n",
      "Sequence type: Protein\n",
      "Keep MBits: T\n",
      "Maximum file size: 3000000000B\n",
      "Adding sequences from FASTA; added 55505 sequences in 1.25157 seconds.\n",
      "\n",
      "\n"
     ]
    }
   ],
   "source": [
    "from pathlib import Path\n",
    "\n",
    "data_dir = Path(\"../../data/Ciona_gene_models\")\n",
    "ky21_fasta_filename = \"HT.KY21Gene.protein.2.fasta\"\n",
    "\n",
    "reference = data_dir / ky21_fasta_filename\n",
    "blastdb = data_dir / f\"{ky21_fasta_filename}.blastdb\"\n",
    "\n",
    "!makeblastdb -in $reference -parse_seqids -dbtype prot -out $blastdb"
   ]
  },
  {
   "cell_type": "markdown",
   "metadata": {},
   "source": [
    "## 3.2. Run BLAST between the KY21 and Ciona reference proteomes.\n",
    "\n",
    "Specify the number of threads to use using the `num_threads` variable. This can take a while (15min+) to run."
   ]
  },
  {
   "cell_type": "code",
   "execution_count": 2,
   "metadata": {},
   "outputs": [],
   "source": [
    "query_fasta_filename = \"Ciona_intestinalis.faa\"\n",
    "query = data_dir / query_fasta_filename\n",
    "output = data_dir / f\"{ky21_fasta_filename}.{query_fasta_filename}.blastout\"\n",
    "num_threads = 10\n",
    "\n",
    "!blastp -query $query -db $blastdb -out $output -outfmt 6 -num_threads $num_threads"
   ]
  },
  {
   "cell_type": "markdown",
   "metadata": {},
   "source": [
    "To process the BLAST results, run the `4_ciona-blast-processing.ipynb` notebook."
   ]
  }
 ],
 "metadata": {
  "kernelspec": {
   "display_name": "2025-zoogle",
   "language": "python",
   "name": "python3"
  },
  "language_info": {
   "codemirror_mode": {
    "name": "ipython",
    "version": 3
   },
   "file_extension": ".py",
   "mimetype": "text/x-python",
   "name": "python",
   "nbconvert_exporter": "python",
   "pygments_lexer": "ipython3",
   "version": "3.12.0"
  }
 },
 "nbformat": 4,
 "nbformat_minor": 2
}
