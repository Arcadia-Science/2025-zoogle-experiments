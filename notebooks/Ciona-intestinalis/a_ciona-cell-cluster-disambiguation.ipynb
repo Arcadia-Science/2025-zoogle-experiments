{
 "cells": [
  {
   "cell_type": "markdown",
   "metadata": {},
   "source": [
    "# a. Disambiguation of conflicts in data between Cao et al. 2019 and Pierkarz reanalysis\n",
    "\n",
    "When attempting to merge cell annotations from the Cao et al. 2019 dataset with the Pierkarz remapping of data to the KY2021 reference genome, we encountered a number of conflicts where some developmental stages and replicates in the Pierkarz dataset appeared to share very few cell barcodes in common with the same stage and replicates in the Cao et al. dataset.\n",
    "\n",
    "To resolve these conflicts, we needed to disambiguate the stage and replicate names in the Pierkarz dataset.\n",
    "\n",
    "This notebook demonstrates the process of disambiguation we used to resolve the conflicts, which involved agnostically searching for overlaps in cell barcodes between the two datasets. Because cell barcodes are infrequently shared between stages, we used a Sankey diagram to visualize the mapping between the two datasets. \n",
    "\n",
    "## a.1 Loading necessary functions\n",
    "The underlying code is found in the `zoogletools.ciona.disambiguation` module."
   ]
  },
  {
   "cell_type": "code",
   "execution_count": 1,
   "metadata": {},
   "outputs": [
    {
     "name": "stderr",
     "output_type": "stream",
     "text": [
      "/Users/dennis/miniconda3/envs/2025-zoogle/lib/python3.12/site-packages/anndata/utils.py:434: FutureWarning: Importing read_csv from `anndata` is deprecated. Import anndata.io.read_csv instead.\n",
      "  warnings.warn(msg, FutureWarning)\n",
      "/Users/dennis/miniconda3/envs/2025-zoogle/lib/python3.12/site-packages/anndata/utils.py:434: FutureWarning: Importing read_text from `anndata` is deprecated. Import anndata.io.read_text instead.\n",
      "  warnings.warn(msg, FutureWarning)\n",
      "/Users/dennis/miniconda3/envs/2025-zoogle/lib/python3.12/site-packages/anndata/utils.py:434: FutureWarning: Importing read_excel from `anndata` is deprecated. Import anndata.io.read_excel instead.\n",
      "  warnings.warn(msg, FutureWarning)\n",
      "/Users/dennis/miniconda3/envs/2025-zoogle/lib/python3.12/site-packages/anndata/utils.py:434: FutureWarning: Importing read_mtx from `anndata` is deprecated. Import anndata.io.read_mtx instead.\n",
      "  warnings.warn(msg, FutureWarning)\n",
      "/Users/dennis/miniconda3/envs/2025-zoogle/lib/python3.12/site-packages/anndata/utils.py:434: FutureWarning: Importing read_loom from `anndata` is deprecated. Import anndata.io.read_loom instead.\n",
      "  warnings.warn(msg, FutureWarning)\n",
      "/Users/dennis/miniconda3/envs/2025-zoogle/lib/python3.12/site-packages/anndata/utils.py:434: FutureWarning: Importing read_hdf from `anndata` is deprecated. Import anndata.io.read_hdf instead.\n",
      "  warnings.warn(msg, FutureWarning)\n",
      "/Users/dennis/miniconda3/envs/2025-zoogle/lib/python3.12/site-packages/anndata/utils.py:434: FutureWarning: Importing read_umi_tools from `anndata` is deprecated. Import anndata.io.read_umi_tools instead.\n",
      "  warnings.warn(msg, FutureWarning)\n"
     ]
    }
   ],
   "source": [
    "import zoogletools as zt"
   ]
  },
  {
   "cell_type": "markdown",
   "metadata": {},
   "source": [
    "## a.2 Loading cell barcodes\n",
    "\n",
    "Next, we load the cell barcodes from the Cao et al. 2019 dataset and the Pierkarz dataset.\n",
    "\n",
    "An idiosyncrasy of the Cao et al. dataset is that technical replicates for stages latTI and latTII have \"-1\" and \"-2\" appended to the barcode, respectively. When loading the Piekarz dataset, we account for this by appending \"-1\" and \"-2\" to the barcode for the latTI and latTII stages, respectively.\n",
    "\n",
    "In addition, some of the column names, replicate notation, and file names in the Piekarz dataset are internally inconsistent, so we format them to be consistent with each other."
   ]
  },
  {
   "cell_type": "code",
   "execution_count": 2,
   "metadata": {},
   "outputs": [
    {
     "data": {
      "text/html": [
       "<div>\n",
       "<style scoped>\n",
       "    .dataframe tbody tr th:only-of-type {\n",
       "        vertical-align: middle;\n",
       "    }\n",
       "\n",
       "    .dataframe tbody tr th {\n",
       "        vertical-align: top;\n",
       "    }\n",
       "\n",
       "    .dataframe thead th {\n",
       "        text-align: right;\n",
       "    }\n",
       "</style>\n",
       "<table border=\"1\" class=\"dataframe\">\n",
       "  <thead>\n",
       "    <tr style=\"text-align: right;\">\n",
       "      <th></th>\n",
       "      <th>stage_replicate</th>\n",
       "      <th>barcode</th>\n",
       "    </tr>\n",
       "  </thead>\n",
       "  <tbody>\n",
       "    <tr>\n",
       "      <th>1</th>\n",
       "      <td>Cao_iniG_rep1</td>\n",
       "      <td>AAACCTGTCAGTTTGG</td>\n",
       "    </tr>\n",
       "    <tr>\n",
       "      <th>2</th>\n",
       "      <td>Cao_iniG_rep1</td>\n",
       "      <td>AAACGGGTCTGTCCGT</td>\n",
       "    </tr>\n",
       "    <tr>\n",
       "      <th>3</th>\n",
       "      <td>Cao_iniG_rep1</td>\n",
       "      <td>AAAGATGAGTTGAGAT</td>\n",
       "    </tr>\n",
       "    <tr>\n",
       "      <th>4</th>\n",
       "      <td>Cao_iniG_rep1</td>\n",
       "      <td>AAATGCCGTCGCATAT</td>\n",
       "    </tr>\n",
       "    <tr>\n",
       "      <th>5</th>\n",
       "      <td>Cao_iniG_rep1</td>\n",
       "      <td>AAATGCCGTGTTTGGT</td>\n",
       "    </tr>\n",
       "    <tr>\n",
       "      <th>...</th>\n",
       "      <td>...</td>\n",
       "      <td>...</td>\n",
       "    </tr>\n",
       "    <tr>\n",
       "      <th>90575</th>\n",
       "      <td>Cao_larva_rep1</td>\n",
       "      <td>TCGTAGAGTACCGAGA-2</td>\n",
       "    </tr>\n",
       "    <tr>\n",
       "      <th>90576</th>\n",
       "      <td>Cao_larva_rep1</td>\n",
       "      <td>TGAGAGGCACGAGAGT-2</td>\n",
       "    </tr>\n",
       "    <tr>\n",
       "      <th>90577</th>\n",
       "      <td>Cao_larva_rep1</td>\n",
       "      <td>TGGGCGTTCGCCTGAG-2</td>\n",
       "    </tr>\n",
       "    <tr>\n",
       "      <th>90578</th>\n",
       "      <td>Cao_larva_rep1</td>\n",
       "      <td>TGTTCCGAGTGTCCAT-2</td>\n",
       "    </tr>\n",
       "    <tr>\n",
       "      <th>90579</th>\n",
       "      <td>Cao_larva_rep1</td>\n",
       "      <td>TTTCCTCGTAGAGGAA-2</td>\n",
       "    </tr>\n",
       "  </tbody>\n",
       "</table>\n",
       "<p>90579 rows × 2 columns</p>\n",
       "</div>"
      ],
      "text/plain": [
       "      stage_replicate             barcode\n",
       "1       Cao_iniG_rep1    AAACCTGTCAGTTTGG\n",
       "2       Cao_iniG_rep1    AAACGGGTCTGTCCGT\n",
       "3       Cao_iniG_rep1    AAAGATGAGTTGAGAT\n",
       "4       Cao_iniG_rep1    AAATGCCGTCGCATAT\n",
       "5       Cao_iniG_rep1    AAATGCCGTGTTTGGT\n",
       "...               ...                 ...\n",
       "90575  Cao_larva_rep1  TCGTAGAGTACCGAGA-2\n",
       "90576  Cao_larva_rep1  TGAGAGGCACGAGAGT-2\n",
       "90577  Cao_larva_rep1  TGGGCGTTCGCCTGAG-2\n",
       "90578  Cao_larva_rep1  TGTTCCGAGTGTCCAT-2\n",
       "90579  Cao_larva_rep1  TTTCCTCGTAGAGGAA-2\n",
       "\n",
       "[90579 rows x 2 columns]"
      ]
     },
     "metadata": {},
     "output_type": "display_data"
    },
    {
     "data": {
      "text/html": [
       "<div>\n",
       "<style scoped>\n",
       "    .dataframe tbody tr th:only-of-type {\n",
       "        vertical-align: middle;\n",
       "    }\n",
       "\n",
       "    .dataframe tbody tr th {\n",
       "        vertical-align: top;\n",
       "    }\n",
       "\n",
       "    .dataframe thead th {\n",
       "        text-align: right;\n",
       "    }\n",
       "</style>\n",
       "<table border=\"1\" class=\"dataframe\">\n",
       "  <thead>\n",
       "    <tr style=\"text-align: right;\">\n",
       "      <th></th>\n",
       "      <th>stage_replicate</th>\n",
       "      <th>barcode</th>\n",
       "    </tr>\n",
       "  </thead>\n",
       "  <tbody>\n",
       "    <tr>\n",
       "      <th>0</th>\n",
       "      <td>Piekarz_iniG_rep1</td>\n",
       "      <td>AAACCTGAGCAGGCTA</td>\n",
       "    </tr>\n",
       "    <tr>\n",
       "      <th>1</th>\n",
       "      <td>Piekarz_iniG_rep1</td>\n",
       "      <td>AAACCTGCAGCGTAAG</td>\n",
       "    </tr>\n",
       "    <tr>\n",
       "      <th>2</th>\n",
       "      <td>Piekarz_iniG_rep1</td>\n",
       "      <td>AAACCTGCAGCTGTTA</td>\n",
       "    </tr>\n",
       "    <tr>\n",
       "      <th>3</th>\n",
       "      <td>Piekarz_iniG_rep1</td>\n",
       "      <td>AAACCTGGTGACGGTA</td>\n",
       "    </tr>\n",
       "    <tr>\n",
       "      <th>4</th>\n",
       "      <td>Piekarz_iniG_rep1</td>\n",
       "      <td>AAACCTGGTGTGGCTC</td>\n",
       "    </tr>\n",
       "    <tr>\n",
       "      <th>...</th>\n",
       "      <td>...</td>\n",
       "      <td>...</td>\n",
       "    </tr>\n",
       "    <tr>\n",
       "      <th>4008</th>\n",
       "      <td>Piekarz_larva_rep2</td>\n",
       "      <td>TTTGTCACATGGGAAC</td>\n",
       "    </tr>\n",
       "    <tr>\n",
       "      <th>4009</th>\n",
       "      <td>Piekarz_larva_rep2</td>\n",
       "      <td>TTTGTCAGTCCTCTTG</td>\n",
       "    </tr>\n",
       "    <tr>\n",
       "      <th>4010</th>\n",
       "      <td>Piekarz_larva_rep2</td>\n",
       "      <td>TTTGTCATCCGCAAGC</td>\n",
       "    </tr>\n",
       "    <tr>\n",
       "      <th>4011</th>\n",
       "      <td>Piekarz_larva_rep2</td>\n",
       "      <td>TTTGTCATCGGAGGTA</td>\n",
       "    </tr>\n",
       "    <tr>\n",
       "      <th>4012</th>\n",
       "      <td>Piekarz_larva_rep2</td>\n",
       "      <td>TTTGTCATCTCGTATT</td>\n",
       "    </tr>\n",
       "  </tbody>\n",
       "</table>\n",
       "<p>84529 rows × 2 columns</p>\n",
       "</div>"
      ],
      "text/plain": [
       "         stage_replicate           barcode\n",
       "0      Piekarz_iniG_rep1  AAACCTGAGCAGGCTA\n",
       "1      Piekarz_iniG_rep1  AAACCTGCAGCGTAAG\n",
       "2      Piekarz_iniG_rep1  AAACCTGCAGCTGTTA\n",
       "3      Piekarz_iniG_rep1  AAACCTGGTGACGGTA\n",
       "4      Piekarz_iniG_rep1  AAACCTGGTGTGGCTC\n",
       "...                  ...               ...\n",
       "4008  Piekarz_larva_rep2  TTTGTCACATGGGAAC\n",
       "4009  Piekarz_larva_rep2  TTTGTCAGTCCTCTTG\n",
       "4010  Piekarz_larva_rep2  TTTGTCATCCGCAAGC\n",
       "4011  Piekarz_larva_rep2  TTTGTCATCGGAGGTA\n",
       "4012  Piekarz_larva_rep2  TTTGTCATCTCGTATT\n",
       "\n",
       "[84529 rows x 2 columns]"
      ]
     },
     "metadata": {},
     "output_type": "display_data"
    },
    {
     "data": {
      "text/html": [
       "<div>\n",
       "<style scoped>\n",
       "    .dataframe tbody tr th:only-of-type {\n",
       "        vertical-align: middle;\n",
       "    }\n",
       "\n",
       "    .dataframe tbody tr th {\n",
       "        vertical-align: top;\n",
       "    }\n",
       "\n",
       "    .dataframe thead th {\n",
       "        text-align: right;\n",
       "    }\n",
       "</style>\n",
       "<table border=\"1\" class=\"dataframe\">\n",
       "  <thead>\n",
       "    <tr style=\"text-align: right;\">\n",
       "      <th></th>\n",
       "      <th>stage_replicate_cao</th>\n",
       "      <th>barcode</th>\n",
       "      <th>stage_replicate_piekarz</th>\n",
       "    </tr>\n",
       "  </thead>\n",
       "  <tbody>\n",
       "    <tr>\n",
       "      <th>0</th>\n",
       "      <td>Cao_iniG_rep1</td>\n",
       "      <td>AAACCTGTCAGTTTGG</td>\n",
       "      <td>Piekarz_iniG_rep1</td>\n",
       "    </tr>\n",
       "    <tr>\n",
       "      <th>1</th>\n",
       "      <td>Cao_iniG_rep1</td>\n",
       "      <td>AAACGGGTCTGTCCGT</td>\n",
       "      <td>Piekarz_iniG_rep1</td>\n",
       "    </tr>\n",
       "    <tr>\n",
       "      <th>2</th>\n",
       "      <td>Cao_iniG_rep1</td>\n",
       "      <td>AAAGATGAGTTGAGAT</td>\n",
       "      <td>Piekarz_latTI_rep2</td>\n",
       "    </tr>\n",
       "    <tr>\n",
       "      <th>3</th>\n",
       "      <td>Cao_iniG_rep1</td>\n",
       "      <td>AAATGCCGTCGCATAT</td>\n",
       "      <td>Piekarz_iniG_rep1</td>\n",
       "    </tr>\n",
       "    <tr>\n",
       "      <th>4</th>\n",
       "      <td>Cao_iniG_rep1</td>\n",
       "      <td>AACTTTCTCTTTAGGG</td>\n",
       "      <td>Piekarz_iniG_rep1</td>\n",
       "    </tr>\n",
       "    <tr>\n",
       "      <th>...</th>\n",
       "      <td>...</td>\n",
       "      <td>...</td>\n",
       "      <td>...</td>\n",
       "    </tr>\n",
       "    <tr>\n",
       "      <th>82989</th>\n",
       "      <td>Cao_larva_rep1</td>\n",
       "      <td>CAGCCGATCGTTTATC-2</td>\n",
       "      <td>Piekarz_latTI_rep1</td>\n",
       "    </tr>\n",
       "    <tr>\n",
       "      <th>82990</th>\n",
       "      <td>Cao_larva_rep1</td>\n",
       "      <td>CAGTAACGTTTCCACC-2</td>\n",
       "      <td>Piekarz_latTI_rep1</td>\n",
       "    </tr>\n",
       "    <tr>\n",
       "      <th>82991</th>\n",
       "      <td>Cao_larva_rep1</td>\n",
       "      <td>TTGACTTCAGTAACGG-2</td>\n",
       "      <td>Piekarz_latTI_rep1</td>\n",
       "    </tr>\n",
       "    <tr>\n",
       "      <th>82992</th>\n",
       "      <td>Cao_larva_rep1</td>\n",
       "      <td>GGCGACTTCTACCTGC-2</td>\n",
       "      <td>Piekarz_latTI_rep1</td>\n",
       "    </tr>\n",
       "    <tr>\n",
       "      <th>82993</th>\n",
       "      <td>Cao_larva_rep1</td>\n",
       "      <td>GACGTTACAATGTTGC-2</td>\n",
       "      <td>Piekarz_latTI_rep1</td>\n",
       "    </tr>\n",
       "  </tbody>\n",
       "</table>\n",
       "<p>82994 rows × 3 columns</p>\n",
       "</div>"
      ],
      "text/plain": [
       "      stage_replicate_cao             barcode stage_replicate_piekarz\n",
       "0           Cao_iniG_rep1    AAACCTGTCAGTTTGG       Piekarz_iniG_rep1\n",
       "1           Cao_iniG_rep1    AAACGGGTCTGTCCGT       Piekarz_iniG_rep1\n",
       "2           Cao_iniG_rep1    AAAGATGAGTTGAGAT      Piekarz_latTI_rep2\n",
       "3           Cao_iniG_rep1    AAATGCCGTCGCATAT       Piekarz_iniG_rep1\n",
       "4           Cao_iniG_rep1    AACTTTCTCTTTAGGG       Piekarz_iniG_rep1\n",
       "...                   ...                 ...                     ...\n",
       "82989      Cao_larva_rep1  CAGCCGATCGTTTATC-2      Piekarz_latTI_rep1\n",
       "82990      Cao_larva_rep1  CAGTAACGTTTCCACC-2      Piekarz_latTI_rep1\n",
       "82991      Cao_larva_rep1  TTGACTTCAGTAACGG-2      Piekarz_latTI_rep1\n",
       "82992      Cao_larva_rep1  GGCGACTTCTACCTGC-2      Piekarz_latTI_rep1\n",
       "82993      Cao_larva_rep1  GACGTTACAATGTTGC-2      Piekarz_latTI_rep1\n",
       "\n",
       "[82994 rows x 3 columns]"
      ]
     },
     "metadata": {},
     "output_type": "display_data"
    }
   ],
   "source": [
    "cao_cell_barcodes = zt.ciona.disambiguation.load_cao_cell_barcodes()\n",
    "piekarz_cell_barcodes = zt.ciona.disambiguation.load_piekarz_cell_barcodes()\n",
    "\n",
    "display(cao_cell_barcodes)\n",
    "display(piekarz_cell_barcodes)\n",
    "\n",
    "merged_cell_barcodes = cao_cell_barcodes.merge(\n",
    "    piekarz_cell_barcodes, on=[\"barcode\"], suffixes=[\"_cao\", \"_piekarz\"]\n",
    ")\n",
    "display(merged_cell_barcodes)"
   ]
  },
  {
   "cell_type": "markdown",
   "metadata": {},
   "source": [
    "## a.3 Visualizing the mapping between the two datasets\n",
    "\n",
    "Finally, we visualize the mapping between the two datasets using a Sankey diagram.\n",
    "\n",
    "Based on this diagramm, we can see the following things that we need to correct in the mapping:\n",
    "- Piekarz's \"latN\" == Cao's \"earTI\". Replicates are 1:1.  \n",
    "\n",
    "- Piekarz's \"iniTI\" == Cao's \"latN\". Replicates are 1:1. \n",
    "\n",
    "- Piekarz's \"earTI rep1\" == Cao's \"iniTI rep1\".  \n",
    "-Piekarz's \"earTI rep2\" == Cao's \"iniTI rep3\".\n",
    "\n",
    "- Piekarz's \"latTI_rep2\" == Cao's \"latTI rep1\".  \n",
    "- Piekarz's \"latTI_rep1\" == Cao's \"latTI rep2\" (after accounting for technical replicate hyphens for \"-1\" and \"-2\").\n",
    "\n",
    "- Piekarz's \"latTII_rep1\" == Cao's \"latTII rep1\" (after accounting for technical replicate hyphens for \"-1\" and \"-2\").\n",
    "- Piekarz's \"latTII_rep2\" == Cao's \"latTII rep2\".\n",
    "\n",
    "- Piekarz's \"larva rep1\" == Cao's \"larva rep3\".\n",
    "- Piekarz's \"larva rep2\" == Cao's \"larva rep4\".\n",
    "\n",
    "- Cao's \"larva rep1\" does not appear to be present in the Pierkarz dataset."
   ]
  },
  {
   "cell_type": "code",
   "execution_count": 3,
   "metadata": {},
   "outputs": [
    {
     "name": "stderr",
     "output_type": "stream",
     "text": [
      "/Users/dennis/Code/2025-zoogle-collabs/zoogletools/ciona/disambiguation.py:152: FutureWarning: The default of observed=False is deprecated and will be changed to True in a future version of pandas. Pass observed=False to retain current behavior or observed=True to adopt the future default and silence this warning.\n",
      "  value_counts = merged_cell_barcodes.groupby(\n",
      "/Users/dennis/Code/2025-zoogle-collabs/zoogletools/ciona/disambiguation.py:170: FutureWarning: The default of observed=False is deprecated and will be changed to True in a future version of pandas. Pass observed=False to retain current behavior or observed=True to adopt the future default and silence this warning.\n",
      "  source_y = get_cumulative_positions(value_counts.groupby(level=0).sum())\n",
      "/Users/dennis/Code/2025-zoogle-collabs/zoogletools/ciona/disambiguation.py:171: FutureWarning: The default of observed=False is deprecated and will be changed to True in a future version of pandas. Pass observed=False to retain current behavior or observed=True to adopt the future default and silence this warning.\n",
      "  target_y = get_cumulative_positions(value_counts.groupby(level=1).sum())\n",
      "/Users/dennis/Code/2025-zoogle-collabs/zoogletools/ciona/disambiguation.py:178: FutureWarning: The default of observed=False is deprecated and will be changed to True in a future version of pandas. Pass observed=False to retain current behavior or observed=True to adopt the future default and silence this warning.\n",
      "  for group in [value_counts.groupby(level=0), value_counts.groupby(level=1)]:\n"
     ]
    },
    {
     "data": {
      "application/vnd.plotly.v1+json": {
       "config": {
        "plotlyServerURL": "https://plot.ly"
       },
       "data": [
        {
         "arrangement": "snap",
         "link": {
          "color": [
           "rgba(186,176,168,0.7)",
           "rgba(237,230,218,0.2)",
           "rgba(237,230,218,0.2)",
           "rgba(237,230,218,0.2)",
           "rgba(237,230,218,0.2)",
           "rgba(237,230,218,0.2)",
           "rgba(237,230,218,0.2)",
           "rgba(237,230,218,0.2)",
           "rgba(237,230,218,0.2)",
           "rgba(237,230,218,0.2)",
           "rgba(237,230,218,0.2)",
           "rgba(237,230,218,0.2)",
           "rgba(237,230,218,0.2)",
           "rgba(237,230,218,0.2)",
           "rgba(237,230,218,0.2)",
           "rgba(237,230,218,0.2)",
           "rgba(237,230,218,0.2)",
           "rgba(237,230,218,0.2)",
           "rgba(237,230,218,0.2)",
           "rgba(237,230,218,0.2)",
           "rgba(237,230,218,0.2)",
           "rgba(186,176,168,0.7)",
           "rgba(237,230,218,0.2)",
           "rgba(237,230,218,0.2)",
           "rgba(237,230,218,0.2)",
           "rgba(237,230,218,0.2)",
           "rgba(237,230,218,0.2)",
           "rgba(237,230,218,0.2)",
           "rgba(237,230,218,0.2)",
           "rgba(237,230,218,0.2)",
           "rgba(237,230,218,0.2)",
           "rgba(237,230,218,0.2)",
           "rgba(237,230,218,0.2)",
           "rgba(237,230,218,0.2)",
           "rgba(237,230,218,0.2)",
           "rgba(237,230,218,0.2)",
           "rgba(237,230,218,0.2)",
           "rgba(237,230,218,0.2)",
           "rgba(237,230,218,0.2)",
           "rgba(237,230,218,0.2)",
           "rgba(237,230,218,0.2)",
           "rgba(237,230,218,0.2)",
           "rgba(186,176,168,0.7)",
           "rgba(237,230,218,0.2)",
           "rgba(237,230,218,0.2)",
           "rgba(237,230,218,0.2)",
           "rgba(237,230,218,0.2)",
           "rgba(237,230,218,0.2)",
           "rgba(237,230,218,0.2)",
           "rgba(237,230,218,0.2)",
           "rgba(237,230,218,0.2)",
           "rgba(237,230,218,0.2)",
           "rgba(237,230,218,0.2)",
           "rgba(237,230,218,0.2)",
           "rgba(237,230,218,0.2)",
           "rgba(237,230,218,0.2)",
           "rgba(237,230,218,0.2)",
           "rgba(237,230,218,0.2)",
           "rgba(237,230,218,0.2)",
           "rgba(237,230,218,0.2)",
           "rgba(237,230,218,0.2)",
           "rgba(237,230,218,0.2)",
           "rgba(237,230,218,0.2)",
           "rgba(186,176,168,0.7)",
           "rgba(237,230,218,0.2)",
           "rgba(237,230,218,0.2)",
           "rgba(237,230,218,0.2)",
           "rgba(237,230,218,0.2)",
           "rgba(237,230,218,0.2)",
           "rgba(237,230,218,0.2)",
           "rgba(237,230,218,0.2)",
           "rgba(237,230,218,0.2)",
           "rgba(237,230,218,0.2)",
           "rgba(237,230,218,0.2)",
           "rgba(237,230,218,0.2)",
           "rgba(237,230,218,0.2)",
           "rgba(237,230,218,0.2)",
           "rgba(237,230,218,0.2)",
           "rgba(237,230,218,0.2)",
           "rgba(237,230,218,0.2)",
           "rgba(237,230,218,0.2)",
           "rgba(237,230,218,0.2)",
           "rgba(237,230,218,0.2)",
           "rgba(237,230,218,0.2)",
           "rgba(186,176,168,0.7)",
           "rgba(237,230,218,0.2)",
           "rgba(237,230,218,0.2)",
           "rgba(237,230,218,0.2)",
           "rgba(237,230,218,0.2)",
           "rgba(237,230,218,0.2)",
           "rgba(237,230,218,0.2)",
           "rgba(237,230,218,0.2)",
           "rgba(237,230,218,0.2)",
           "rgba(237,230,218,0.2)",
           "rgba(237,230,218,0.2)",
           "rgba(237,230,218,0.2)",
           "rgba(237,230,218,0.2)",
           "rgba(237,230,218,0.2)",
           "rgba(237,230,218,0.2)",
           "rgba(237,230,218,0.2)",
           "rgba(237,230,218,0.2)",
           "rgba(237,230,218,0.2)",
           "rgba(237,230,218,0.2)",
           "rgba(237,230,218,0.2)",
           "rgba(237,230,218,0.2)",
           "rgba(186,176,168,0.7)",
           "rgba(237,230,218,0.2)",
           "rgba(237,230,218,0.2)",
           "rgba(237,230,218,0.2)",
           "rgba(237,230,218,0.2)",
           "rgba(237,230,218,0.2)",
           "rgba(237,230,218,0.2)",
           "rgba(237,230,218,0.2)",
           "rgba(237,230,218,0.2)",
           "rgba(237,230,218,0.2)",
           "rgba(237,230,218,0.2)",
           "rgba(237,230,218,0.2)",
           "rgba(237,230,218,0.2)",
           "rgba(237,230,218,0.2)",
           "rgba(237,230,218,0.2)",
           "rgba(237,230,218,0.2)",
           "rgba(237,230,218,0.2)",
           "rgba(237,230,218,0.2)",
           "rgba(237,230,218,0.2)",
           "rgba(237,230,218,0.2)",
           "rgba(237,230,218,0.2)",
           "rgba(237,230,218,0.2)",
           "rgba(237,230,218,0.2)",
           "rgba(186,176,168,0.7)",
           "rgba(237,230,218,0.2)",
           "rgba(237,230,218,0.2)",
           "rgba(237,230,218,0.2)",
           "rgba(237,230,218,0.2)",
           "rgba(237,230,218,0.2)",
           "rgba(237,230,218,0.2)",
           "rgba(237,230,218,0.2)",
           "rgba(237,230,218,0.2)",
           "rgba(237,230,218,0.2)",
           "rgba(237,230,218,0.2)",
           "rgba(237,230,218,0.2)",
           "rgba(237,230,218,0.2)",
           "rgba(237,230,218,0.2)",
           "rgba(237,230,218,0.2)",
           "rgba(237,230,218,0.2)",
           "rgba(237,230,218,0.2)",
           "rgba(237,230,218,0.2)",
           "rgba(237,230,218,0.2)",
           "rgba(237,230,218,0.2)",
           "rgba(237,230,218,0.2)",
           "rgba(186,176,168,0.7)",
           "rgba(237,230,218,0.2)",
           "rgba(237,230,218,0.2)",
           "rgba(237,230,218,0.2)",
           "rgba(237,230,218,0.2)",
           "rgba(237,230,218,0.2)",
           "rgba(237,230,218,0.2)",
           "rgba(237,230,218,0.2)",
           "rgba(237,230,218,0.2)",
           "rgba(237,230,218,0.2)",
           "rgba(237,230,218,0.2)",
           "rgba(237,230,218,0.2)",
           "rgba(237,230,218,0.2)",
           "rgba(237,230,218,0.2)",
           "rgba(237,230,218,0.2)",
           "rgba(237,230,218,0.2)",
           "rgba(237,230,218,0.2)",
           "rgba(237,230,218,0.2)",
           "rgba(237,230,218,0.2)",
           "rgba(237,230,218,0.2)",
           "rgba(237,230,218,0.2)",
           "rgba(186,176,168,0.7)",
           "rgba(237,230,218,0.2)",
           "rgba(237,230,218,0.2)",
           "rgba(237,230,218,0.2)",
           "rgba(237,230,218,0.2)",
           "rgba(237,230,218,0.2)",
           "rgba(237,230,218,0.2)",
           "rgba(237,230,218,0.2)",
           "rgba(237,230,218,0.2)",
           "rgba(237,230,218,0.2)",
           "rgba(237,230,218,0.2)",
           "rgba(237,230,218,0.2)",
           "rgba(237,230,218,0.2)",
           "rgba(237,230,218,0.2)",
           "rgba(237,230,218,0.2)",
           "rgba(237,230,218,0.2)",
           "rgba(237,230,218,0.2)",
           "rgba(237,230,218,0.2)",
           "rgba(237,230,218,0.2)",
           "rgba(237,230,218,0.2)",
           "rgba(237,230,218,0.2)",
           "rgba(186,176,168,0.7)",
           "rgba(237,230,218,0.2)",
           "rgba(237,230,218,0.2)",
           "rgba(237,230,218,0.2)",
           "rgba(237,230,218,0.2)",
           "rgba(237,230,218,0.2)",
           "rgba(237,230,218,0.2)",
           "rgba(237,230,218,0.2)",
           "rgba(237,230,218,0.2)",
           "rgba(237,230,218,0.2)",
           "rgba(237,230,218,0.2)",
           "rgba(237,230,218,0.2)",
           "rgba(237,230,218,0.2)",
           "rgba(237,230,218,0.2)",
           "rgba(237,230,218,0.2)",
           "rgba(186,176,168,0.7)",
           "rgba(237,230,218,0.2)",
           "rgba(237,230,218,0.2)",
           "rgba(237,230,218,0.2)",
           "rgba(237,230,218,0.2)",
           "rgba(237,230,218,0.2)",
           "rgba(237,230,218,0.2)",
           "rgba(237,230,218,0.2)",
           "rgba(237,230,218,0.2)",
           "rgba(237,230,218,0.2)",
           "rgba(237,230,218,0.2)",
           "rgba(237,230,218,0.2)",
           "rgba(237,230,218,0.2)",
           "rgba(237,230,218,0.2)",
           "rgba(237,230,218,0.2)",
           "rgba(237,230,218,0.2)",
           "rgba(237,230,218,0.2)",
           "rgba(237,230,218,0.2)",
           "rgba(237,230,218,0.2)",
           "rgba(237,230,218,0.2)",
           "rgba(237,230,218,0.2)",
           "rgba(186,176,168,0.7)",
           "rgba(237,230,218,0.2)",
           "rgba(237,230,218,0.2)",
           "rgba(237,230,218,0.2)",
           "rgba(237,230,218,0.2)",
           "rgba(237,230,218,0.2)",
           "rgba(237,230,218,0.2)",
           "rgba(237,230,218,0.2)",
           "rgba(237,230,218,0.2)",
           "rgba(237,230,218,0.2)",
           "rgba(237,230,218,0.2)",
           "rgba(237,230,218,0.2)",
           "rgba(237,230,218,0.2)",
           "rgba(237,230,218,0.2)",
           "rgba(237,230,218,0.2)",
           "rgba(237,230,218,0.2)",
           "rgba(237,230,218,0.2)",
           "rgba(237,230,218,0.2)",
           "rgba(237,230,218,0.2)",
           "rgba(237,230,218,0.2)",
           "rgba(237,230,218,0.2)",
           "rgba(237,230,218,0.2)",
           "rgba(237,230,218,0.2)",
           "rgba(237,230,218,0.2)",
           "rgba(237,230,218,0.2)",
           "rgba(186,176,168,0.7)",
           "rgba(237,230,218,0.2)",
           "rgba(237,230,218,0.2)",
           "rgba(237,230,218,0.2)",
           "rgba(237,230,218,0.2)",
           "rgba(237,230,218,0.2)",
           "rgba(237,230,218,0.2)",
           "rgba(237,230,218,0.2)",
           "rgba(237,230,218,0.2)",
           "rgba(237,230,218,0.2)",
           "rgba(237,230,218,0.2)",
           "rgba(237,230,218,0.2)",
           "rgba(237,230,218,0.2)",
           "rgba(237,230,218,0.2)",
           "rgba(237,230,218,0.2)",
           "rgba(237,230,218,0.2)",
           "rgba(237,230,218,0.2)",
           "rgba(237,230,218,0.2)",
           "rgba(237,230,218,0.2)",
           "rgba(237,230,218,0.2)",
           "rgba(237,230,218,0.2)",
           "rgba(186,176,168,0.7)",
           "rgba(237,230,218,0.2)",
           "rgba(237,230,218,0.2)",
           "rgba(237,230,218,0.2)",
           "rgba(237,230,218,0.2)",
           "rgba(237,230,218,0.2)",
           "rgba(237,230,218,0.2)",
           "rgba(237,230,218,0.2)",
           "rgba(237,230,218,0.2)",
           "rgba(237,230,218,0.2)",
           "rgba(237,230,218,0.2)",
           "rgba(237,230,218,0.2)",
           "rgba(237,230,218,0.2)",
           "rgba(237,230,218,0.2)",
           "rgba(237,230,218,0.2)",
           "rgba(237,230,218,0.2)",
           "rgba(237,230,218,0.2)",
           "rgba(237,230,218,0.2)",
           "rgba(237,230,218,0.2)",
           "rgba(237,230,218,0.2)",
           "rgba(237,230,218,0.2)",
           "rgba(237,230,218,0.2)",
           "rgba(186,176,168,0.7)",
           "rgba(237,230,218,0.2)",
           "rgba(237,230,218,0.2)",
           "rgba(237,230,218,0.2)",
           "rgba(237,230,218,0.2)",
           "rgba(237,230,218,0.2)",
           "rgba(237,230,218,0.2)",
           "rgba(237,230,218,0.2)",
           "rgba(237,230,218,0.2)",
           "rgba(237,230,218,0.2)",
           "rgba(237,230,218,0.2)",
           "rgba(237,230,218,0.2)",
           "rgba(237,230,218,0.2)",
           "rgba(237,230,218,0.2)",
           "rgba(237,230,218,0.2)",
           "rgba(237,230,218,0.2)",
           "rgba(237,230,218,0.2)",
           "rgba(237,230,218,0.2)",
           "rgba(237,230,218,0.2)",
           "rgba(186,176,168,0.7)",
           "rgba(237,230,218,0.2)",
           "rgba(237,230,218,0.2)",
           "rgba(237,230,218,0.2)",
           "rgba(237,230,218,0.2)",
           "rgba(237,230,218,0.2)",
           "rgba(237,230,218,0.2)",
           "rgba(237,230,218,0.2)",
           "rgba(237,230,218,0.2)",
           "rgba(237,230,218,0.2)",
           "rgba(237,230,218,0.2)",
           "rgba(237,230,218,0.2)",
           "rgba(237,230,218,0.2)",
           "rgba(237,230,218,0.2)",
           "rgba(237,230,218,0.2)",
           "rgba(237,230,218,0.2)",
           "rgba(237,230,218,0.2)",
           "rgba(237,230,218,0.2)",
           "rgba(237,230,218,0.2)",
           "rgba(237,230,218,0.2)",
           "rgba(237,230,218,0.2)",
           "rgba(237,230,218,0.2)",
           "rgba(186,176,168,0.7)",
           "rgba(237,230,218,0.2)",
           "rgba(237,230,218,0.2)",
           "rgba(237,230,218,0.2)",
           "rgba(237,230,218,0.2)",
           "rgba(237,230,218,0.2)",
           "rgba(237,230,218,0.2)",
           "rgba(237,230,218,0.2)",
           "rgba(237,230,218,0.2)",
           "rgba(237,230,218,0.2)",
           "rgba(237,230,218,0.2)",
           "rgba(237,230,218,0.2)",
           "rgba(237,230,218,0.2)",
           "rgba(237,230,218,0.2)",
           "rgba(237,230,218,0.2)",
           "rgba(237,230,218,0.2)",
           "rgba(237,230,218,0.2)",
           "rgba(237,230,218,0.2)",
           "rgba(237,230,218,0.2)",
           "rgba(237,230,218,0.2)",
           "rgba(237,230,218,0.2)",
           "rgba(186,176,168,0.7)",
           "rgba(237,230,218,0.2)",
           "rgba(237,230,218,0.2)",
           "rgba(237,230,218,0.2)",
           "rgba(237,230,218,0.2)",
           "rgba(237,230,218,0.2)",
           "rgba(237,230,218,0.2)",
           "rgba(237,230,218,0.2)",
           "rgba(237,230,218,0.2)",
           "rgba(237,230,218,0.2)",
           "rgba(237,230,218,0.2)",
           "rgba(237,230,218,0.2)",
           "rgba(237,230,218,0.2)",
           "rgba(237,230,218,0.2)",
           "rgba(237,230,218,0.2)",
           "rgba(237,230,218,0.2)",
           "rgba(237,230,218,0.2)",
           "rgba(186,176,168,0.7)",
           "rgba(237,230,218,0.2)",
           "rgba(237,230,218,0.2)",
           "rgba(237,230,218,0.2)",
           "rgba(237,230,218,0.2)",
           "rgba(237,230,218,0.2)",
           "rgba(237,230,218,0.2)",
           "rgba(237,230,218,0.2)",
           "rgba(237,230,218,0.2)",
           "rgba(237,230,218,0.2)",
           "rgba(237,230,218,0.2)",
           "rgba(237,230,218,0.2)",
           "rgba(237,230,218,0.2)",
           "rgba(237,230,218,0.2)",
           "rgba(237,230,218,0.2)",
           "rgba(237,230,218,0.2)",
           "rgba(237,230,218,0.2)",
           "rgba(237,230,218,0.2)",
           "rgba(237,230,218,0.2)",
           "rgba(237,230,218,0.2)",
           "rgba(237,230,218,0.2)",
           "rgba(237,230,218,0.2)",
           "rgba(237,230,218,0.2)",
           "rgba(237,230,218,0.2)",
           "rgba(186,176,168,0.7)",
           "rgba(237,230,218,0.2)",
           "rgba(237,230,218,0.2)",
           "rgba(237,230,218,0.2)",
           "rgba(237,230,218,0.2)",
           "rgba(237,230,218,0.2)",
           "rgba(237,230,218,0.2)",
           "rgba(237,230,218,0.2)",
           "rgba(237,230,218,0.2)",
           "rgba(237,230,218,0.2)",
           "rgba(237,230,218,0.2)",
           "rgba(237,230,218,0.2)",
           "rgba(237,230,218,0.2)",
           "rgba(237,230,218,0.2)",
           "rgba(237,230,218,0.2)",
           "rgba(237,230,218,0.2)",
           "rgba(237,230,218,0.2)",
           "rgba(237,230,218,0.2)",
           "rgba(237,230,218,0.2)",
           "rgba(237,230,218,0.2)",
           "rgba(237,230,218,0.2)",
           "rgba(186,176,168,0.7)"
          ],
          "source": [
           0,
           0,
           0,
           0,
           0,
           0,
           0,
           0,
           0,
           0,
           0,
           0,
           0,
           0,
           0,
           0,
           0,
           0,
           0,
           0,
           1,
           1,
           1,
           1,
           1,
           1,
           1,
           1,
           1,
           1,
           1,
           1,
           1,
           1,
           1,
           1,
           1,
           1,
           1,
           1,
           2,
           2,
           2,
           2,
           2,
           2,
           2,
           2,
           2,
           2,
           2,
           2,
           2,
           2,
           2,
           2,
           2,
           2,
           2,
           2,
           3,
           3,
           3,
           3,
           3,
           3,
           3,
           3,
           3,
           3,
           3,
           3,
           3,
           3,
           3,
           3,
           3,
           3,
           3,
           3,
           4,
           4,
           4,
           4,
           4,
           4,
           4,
           4,
           4,
           4,
           4,
           4,
           4,
           4,
           4,
           4,
           4,
           4,
           4,
           4,
           5,
           5,
           5,
           5,
           5,
           5,
           5,
           5,
           5,
           5,
           5,
           5,
           5,
           5,
           5,
           5,
           5,
           5,
           5,
           5,
           6,
           6,
           6,
           6,
           6,
           6,
           6,
           6,
           6,
           6,
           6,
           6,
           6,
           6,
           6,
           6,
           6,
           6,
           6,
           6,
           7,
           7,
           7,
           7,
           7,
           7,
           7,
           7,
           7,
           7,
           7,
           7,
           7,
           7,
           7,
           7,
           7,
           7,
           7,
           7,
           8,
           8,
           8,
           8,
           8,
           8,
           8,
           8,
           8,
           8,
           8,
           8,
           8,
           8,
           8,
           8,
           8,
           8,
           8,
           8,
           9,
           9,
           9,
           9,
           9,
           9,
           9,
           9,
           9,
           9,
           9,
           9,
           9,
           9,
           9,
           9,
           9,
           9,
           9,
           9,
           10,
           10,
           10,
           10,
           10,
           10,
           10,
           10,
           10,
           10,
           10,
           10,
           10,
           10,
           10,
           10,
           10,
           10,
           10,
           10,
           11,
           11,
           11,
           11,
           11,
           11,
           11,
           11,
           11,
           11,
           11,
           11,
           11,
           11,
           11,
           11,
           11,
           11,
           11,
           11,
           12,
           12,
           12,
           12,
           12,
           12,
           12,
           12,
           12,
           12,
           12,
           12,
           12,
           12,
           12,
           12,
           12,
           12,
           12,
           12,
           13,
           13,
           13,
           13,
           13,
           13,
           13,
           13,
           13,
           13,
           13,
           13,
           13,
           13,
           13,
           13,
           13,
           13,
           13,
           13,
           14,
           14,
           14,
           14,
           14,
           14,
           14,
           14,
           14,
           14,
           14,
           14,
           14,
           14,
           14,
           14,
           14,
           14,
           14,
           14,
           15,
           15,
           15,
           15,
           15,
           15,
           15,
           15,
           15,
           15,
           15,
           15,
           15,
           15,
           15,
           15,
           15,
           15,
           15,
           15,
           16,
           16,
           16,
           16,
           16,
           16,
           16,
           16,
           16,
           16,
           16,
           16,
           16,
           16,
           16,
           16,
           16,
           16,
           16,
           16,
           17,
           17,
           17,
           17,
           17,
           17,
           17,
           17,
           17,
           17,
           17,
           17,
           17,
           17,
           17,
           17,
           17,
           17,
           17,
           17,
           18,
           18,
           18,
           18,
           18,
           18,
           18,
           18,
           18,
           18,
           18,
           18,
           18,
           18,
           18,
           18,
           18,
           18,
           18,
           18,
           19,
           19,
           19,
           19,
           19,
           19,
           19,
           19,
           19,
           19,
           19,
           19,
           19,
           19,
           19,
           19,
           19,
           19,
           19,
           19,
           20,
           20,
           20,
           20,
           20,
           20,
           20,
           20,
           20,
           20,
           20,
           20,
           20,
           20,
           20,
           20,
           20,
           20,
           20,
           20
          ],
          "target": [
           21,
           22,
           23,
           24,
           25,
           26,
           27,
           28,
           29,
           30,
           31,
           32,
           33,
           34,
           35,
           36,
           37,
           38,
           39,
           40,
           21,
           22,
           23,
           24,
           25,
           26,
           27,
           28,
           29,
           30,
           31,
           32,
           33,
           34,
           35,
           36,
           37,
           38,
           39,
           40,
           21,
           22,
           23,
           24,
           25,
           26,
           27,
           28,
           29,
           30,
           31,
           32,
           33,
           34,
           35,
           36,
           37,
           38,
           39,
           40,
           21,
           22,
           23,
           24,
           25,
           26,
           27,
           28,
           29,
           30,
           31,
           32,
           33,
           34,
           35,
           36,
           37,
           38,
           39,
           40,
           21,
           22,
           23,
           24,
           25,
           26,
           27,
           28,
           29,
           30,
           31,
           32,
           33,
           34,
           35,
           36,
           37,
           38,
           39,
           40,
           21,
           22,
           23,
           24,
           25,
           26,
           27,
           28,
           29,
           30,
           31,
           32,
           33,
           34,
           35,
           36,
           37,
           38,
           39,
           40,
           21,
           22,
           23,
           24,
           25,
           26,
           27,
           28,
           29,
           30,
           31,
           32,
           33,
           34,
           35,
           36,
           37,
           38,
           39,
           40,
           21,
           22,
           23,
           24,
           25,
           26,
           27,
           28,
           29,
           30,
           31,
           32,
           33,
           34,
           35,
           36,
           37,
           38,
           39,
           40,
           21,
           22,
           23,
           24,
           25,
           26,
           27,
           28,
           29,
           30,
           31,
           32,
           33,
           34,
           35,
           36,
           37,
           38,
           39,
           40,
           21,
           22,
           23,
           24,
           25,
           26,
           27,
           28,
           29,
           30,
           31,
           32,
           33,
           34,
           35,
           36,
           37,
           38,
           39,
           40,
           21,
           22,
           23,
           24,
           25,
           26,
           27,
           28,
           29,
           30,
           31,
           32,
           33,
           34,
           35,
           36,
           37,
           38,
           39,
           40,
           21,
           22,
           23,
           24,
           25,
           26,
           27,
           28,
           29,
           30,
           31,
           32,
           33,
           34,
           35,
           36,
           37,
           38,
           39,
           40,
           21,
           22,
           23,
           24,
           25,
           26,
           27,
           28,
           29,
           30,
           31,
           32,
           33,
           34,
           35,
           36,
           37,
           38,
           39,
           40,
           21,
           22,
           23,
           24,
           25,
           26,
           27,
           28,
           29,
           30,
           31,
           32,
           33,
           34,
           35,
           36,
           37,
           38,
           39,
           40,
           21,
           22,
           23,
           24,
           25,
           26,
           27,
           28,
           29,
           30,
           31,
           32,
           33,
           34,
           35,
           36,
           37,
           38,
           39,
           40,
           21,
           22,
           23,
           24,
           25,
           26,
           27,
           28,
           29,
           30,
           31,
           32,
           33,
           34,
           35,
           36,
           37,
           38,
           39,
           40,
           21,
           22,
           23,
           24,
           25,
           26,
           27,
           28,
           29,
           30,
           31,
           32,
           33,
           34,
           35,
           36,
           37,
           38,
           39,
           40,
           21,
           22,
           23,
           24,
           25,
           26,
           27,
           28,
           29,
           30,
           31,
           32,
           33,
           34,
           35,
           36,
           37,
           38,
           39,
           40,
           21,
           22,
           23,
           24,
           25,
           26,
           27,
           28,
           29,
           30,
           31,
           32,
           33,
           34,
           35,
           36,
           37,
           38,
           39,
           40,
           21,
           22,
           23,
           24,
           25,
           26,
           27,
           28,
           29,
           30,
           31,
           32,
           33,
           34,
           35,
           36,
           37,
           38,
           39,
           40,
           21,
           22,
           23,
           24,
           25,
           26,
           27,
           28,
           29,
           30,
           31,
           32,
           33,
           34,
           35,
           36,
           37,
           38,
           39,
           40
          ],
          "value": {
           "bdata": "gwQCAAIADAAEAAwABAASAAkAEAAGAAkABwALAAAABwAAABgABAAKAAcAbAQCAAQAAgAHAAEACgABAAkAAgACAAcACwAAAAoAAAAIAAAABwADAAIA2gQCAAIACQACAA0AAwAJAAUABAAMAAQAAAAEAAAACgAAAAYADwAEAAIAXggGAA8ABwAOAAgABwAFAAcAEwAYAAAAFQAAABYABAAKAAgAAgADAAYAJwcFAAMAEQACAA8ACQAGAAsABwAAAA0AAAAYAAYAAQAXAAcACgAQAAQArRQLACwAEwAuAAsAGwAoABsAAAAkAAAARAALABIACAACAAMACAACABMACAAXAI4KFQAPAA8AFAASAAAACwAAABsABgALABcACQAKAAgAEQAuAA0ALQAVAAkWEQAfACEAIQAAACMAAABIAAsAEAANAAIABQAFAAgADQACABEADwARAHUJBwAIAAsAAAASAAAAFwAFAAcAGAADAAQACQAIABsAAwAaABAAHgAHAIoMGwAKAAAAGwAAAB4ABwAIAAcAAQACAAgAAwALAMcFCAAIAA0AAgAEAAgABgAAAAgAAAAOAAEACAAeAAsADgAOABEALAAJAPIVFwArABEAGgAkACIAAAAfAAAAOwAJAA8AFQAJAAwAFAALACcACQAjABQAHwAIABYAQBMdAAAAEgAAADUABwAXAA8ACwAEABgABwAbAAYAJAATACAACwAKACAAzw8AABgAAAAsAAMAEgASAAoABAAVABAAHwAHAB4ACwAhABEAGwATABYAAACMEgAAKgAKAAkAAAAAAAAAAAAAAAAAAAAAAAAAAAAAAAAAAAAAAIw1AABDAAAAAAAAAAAAAAAAAAAAAAAAAAAAAAAAAAAAAAAAAAAAAABDAAAAqxoAAAAAAAAaAAUACAAPABMAOQALACkAFQA6ABMAFwAtACEAAAAlAAAArBYIABYAAAAAAAAAAAAAAAAAAAAAAAAAAAAAAAAAAAAAAEoAAAAdAAAAAAAAAA0AAgAEAAoACwAfAAcAFwAQAB0ACwARAB0AEAAAABkAAAAjAO8EEwAYAAwACQAOAAgAHwAMACQAEQAdAAoAEQAkAB0AAAAUAAAAMgALAJgK",
           "dtype": "i2"
          }
         },
         "node": {
          "color": [
           "#F898AE",
           "#F898AE",
           "#C85152",
           "#C85152",
           "#F28360",
           "#F28360",
           "#FFB984",
           "#FFB984",
           "#F7B846",
           "#F7B846",
           "#97CD78",
           "#97CD78",
           "#3B9886",
           "#3B9886",
           "#73B5E3",
           "#73B5E3",
           "#5088C5",
           "#5088C5",
           "#7A77AB",
           "#7A77AB",
           "#7A77AB",
           "#F898AE",
           "#F898AE",
           "#C85152",
           "#C85152",
           "#F28360",
           "#F28360",
           "#FFB984",
           "#FFB984",
           "#F7B846",
           "#F7B846",
           "#97CD78",
           "#97CD78",
           "#3B9886",
           "#3B9886",
           "#73B5E3",
           "#73B5E3",
           "#5088C5",
           "#5088C5",
           "#7A77AB",
           "#7A77AB"
          ],
          "label": [
           "Cao_iniG_rep1",
           "Cao_iniG_rep2",
           "Cao_midG_rep1",
           "Cao_midG_rep2",
           "Cao_earN_rep1",
           "Cao_earN_rep2",
           "Cao_latN_rep1",
           "Cao_latN_rep2",
           "Cao_iniTI_rep1",
           "Cao_iniTI_rep3",
           "Cao_earTI_rep1",
           "Cao_earTI_rep2",
           "Cao_midTII_rep1",
           "Cao_midTII_rep2",
           "Cao_latTI_rep1",
           "Cao_latTI_rep2",
           "Cao_latTII_rep1",
           "Cao_latTII_rep2",
           "Cao_larva_rep1",
           "Cao_larva_rep3",
           "Cao_larva_rep4",
           "Piekarz_iniG_rep1",
           "Piekarz_iniG_rep2",
           "Piekarz_midG_rep1",
           "Piekarz_midG_rep2",
           "Piekarz_earN_rep1",
           "Piekarz_earN_rep2",
           "Piekarz_latN_rep1",
           "Piekarz_latN_rep2",
           "Piekarz_iniTI_rep1",
           "Piekarz_iniTI_rep2",
           "Piekarz_earTI_rep1",
           "Piekarz_earTI_rep2",
           "Piekarz_midTII_rep1",
           "Piekarz_midTII_rep2",
           "Piekarz_latTI_rep1",
           "Piekarz_latTI_rep2",
           "Piekarz_latTII_rep1",
           "Piekarz_latTII_rep2",
           "Piekarz_larva_rep1",
           "Piekarz_larva_rep2"
          ],
          "line": {
           "color": "white",
           "width": 0
          },
          "pad": 15,
          "thickness": 20,
          "x": [
           0.001,
           0.001,
           0.001,
           0.001,
           0.001,
           0.001,
           0.001,
           0.001,
           0.001,
           0.001,
           0.001,
           0.001,
           0.001,
           0.001,
           0.001,
           0.001,
           0.001,
           0.001,
           0.001,
           0.001,
           0.001,
           0.999,
           0.999,
           0.999,
           0.999,
           0.999,
           0.999,
           0.999,
           0.999,
           0.999,
           0.999,
           0.999,
           0.999,
           0.999,
           0.999,
           0.999,
           0.999,
           0.999,
           0.999,
           0.999,
           0.999
          ],
          "y": [
           0.001,
           0.014723955948622792,
           0.03077330891389739,
           0.05887172566691568,
           0.08259633226498302,
           0.15140853555678724,
           0.18657975275321106,
           0.2598501096464805,
           0.29114152830325085,
           0.3330240740294479,
           0.3521941345157481,
           0.4250909704315975,
           0.4888907631877003,
           0.5415451719401403,
           0.6026941706629395,
           0.7686700243391088,
           0.8517362700918139,
           0.9270670168927875,
           0.9283080704629251,
           0.947116659035593,
           0.9841916283104802,
           0.001,
           0.014772152203773767,
           0.030917897679350315,
           0.05908860881509507,
           0.0828975588596766,
           0.1517820565342073,
           0.17098826421187074,
           0.24393329638287106,
           0.2792491023447478,
           0.3524953611104417,
           0.38373858351206114,
           0.42547654047280525,
           0.4895414126322385,
           0.5422199195122539,
           0.7090874039087163,
           0.770453285779695,
           0.8538689543822445,
           0.9310914041978938,
           0.9475504253319517,
           0.9827336915921633
          ]
         },
         "type": "sankey"
        }
       ],
       "layout": {
        "font": {
         "size": 10
        },
        "height": 800,
        "margin": {
         "l": 30,
         "r": 30,
         "t": 30
        },
        "template": {
         "layout": {
          "bargap": 0.2,
          "coloraxis": {
           "colorbar": {
            "outlinecolor": "white",
            "thickness": 15,
            "tickfont": {
             "family": "SuisseIntlMono",
             "size": 14.5
            },
            "ticks": "outside",
            "title": {
             "font": {
              "family": "SuisseIntl-SemiBold",
              "size": 15
             },
             "side": "right"
            }
           }
          },
          "colorscale": {
           "diverging": [
            [
             0,
             "#964222"
            ],
            [
             0.00392156862745098,
             "#974323"
            ],
            [
             0.00784313725490196,
             "#984424"
            ],
            [
             0.011764705882352941,
             "#994625"
            ],
            [
             0.01568627450980392,
             "#9a4726"
            ],
            [
             0.0196078431372549,
             "#9b4827"
            ],
            [
             0.023529411764705882,
             "#9c4928"
            ],
            [
             0.027450980392156862,
             "#9e4b29"
            ],
            [
             0.03137254901960784,
             "#9f4c2a"
            ],
            [
             0.03529411764705882,
             "#a04d2b"
            ],
            [
             0.0392156862745098,
             "#a14e2c"
            ],
            [
             0.043137254901960784,
             "#a24f2d"
            ],
            [
             0.047058823529411764,
             "#a3512e"
            ],
            [
             0.050980392156862744,
             "#a4522f"
            ],
            [
             0.054901960784313725,
             "#a55330"
            ],
            [
             0.058823529411764705,
             "#a65431"
            ],
            [
             0.06274509803921569,
             "#a75632"
            ],
            [
             0.06666666666666667,
             "#a85733"
            ],
            [
             0.07058823529411765,
             "#a95834"
            ],
            [
             0.07450980392156863,
             "#ab5935"
            ],
            [
             0.0784313725490196,
             "#ac5b36"
            ],
            [
             0.08235294117647059,
             "#ad5c37"
            ],
            [
             0.08627450980392157,
             "#ae5d38"
            ],
            [
             0.09019607843137255,
             "#af5e39"
            ],
            [
             0.09411764705882353,
             "#b05f3a"
            ],
            [
             0.09803921568627451,
             "#b1613b"
            ],
            [
             0.10196078431372549,
             "#b2623c"
            ],
            [
             0.10588235294117647,
             "#b3633d"
            ],
            [
             0.10980392156862745,
             "#b4643e"
            ],
            [
             0.11372549019607843,
             "#b5663f"
            ],
            [
             0.11764705882352941,
             "#b66740"
            ],
            [
             0.12156862745098039,
             "#b86841"
            ],
            [
             0.12549019607843137,
             "#b96942"
            ],
            [
             0.12941176470588237,
             "#ba6a43"
            ],
            [
             0.13333333333333333,
             "#bb6c44"
            ],
            [
             0.13725490196078433,
             "#bc6d45"
            ],
            [
             0.1411764705882353,
             "#bd6e46"
            ],
            [
             0.1450980392156863,
             "#be6f47"
            ],
            [
             0.14901960784313725,
             "#bf7148"
            ],
            [
             0.15294117647058825,
             "#c07249"
            ],
            [
             0.1568627450980392,
             "#c1734a"
            ],
            [
             0.1607843137254902,
             "#c2744b"
            ],
            [
             0.16470588235294117,
             "#c3764c"
            ],
            [
             0.16862745098039217,
             "#c5774d"
            ],
            [
             0.17254901960784313,
             "#c6784e"
            ],
            [
             0.17647058823529413,
             "#c7794f"
            ],
            [
             0.1803921568627451,
             "#c87a50"
            ],
            [
             0.1843137254901961,
             "#c97c51"
            ],
            [
             0.18823529411764706,
             "#ca7d52"
            ],
            [
             0.19215686274509805,
             "#cb7e53"
            ],
            [
             0.19607843137254902,
             "#cc7f55"
            ],
            [
             0.2,
             "#cd8156"
            ],
            [
             0.20392156862745098,
             "#ce8257"
            ],
            [
             0.20784313725490197,
             "#cf8358"
            ],
            [
             0.21176470588235294,
             "#d08459"
            ],
            [
             0.21568627450980393,
             "#d2855a"
            ],
            [
             0.2196078431372549,
             "#d3875b"
            ],
            [
             0.2235294117647059,
             "#d4885c"
            ],
            [
             0.22745098039215686,
             "#d5895d"
            ],
            [
             0.23137254901960785,
             "#d68a5e"
            ],
            [
             0.23529411764705882,
             "#d78c5f"
            ],
            [
             0.23921568627450981,
             "#d88d60"
            ],
            [
             0.24313725490196078,
             "#d98e61"
            ],
            [
             0.24705882352941178,
             "#da8f62"
            ],
            [
             0.25098039215686274,
             "#db9063"
            ],
            [
             0.2549019607843137,
             "#dc9264"
            ],
            [
             0.25882352941176473,
             "#dd9365"
            ],
            [
             0.2627450980392157,
             "#df9466"
            ],
            [
             0.26666666666666666,
             "#e09567"
            ],
            [
             0.27058823529411763,
             "#e19768"
            ],
            [
             0.27450980392156865,
             "#e29869"
            ],
            [
             0.2784313725490196,
             "#e3996a"
            ],
            [
             0.2823529411764706,
             "#e49a6b"
            ],
            [
             0.28627450980392155,
             "#e59c6c"
            ],
            [
             0.2901960784313726,
             "#e69d6d"
            ],
            [
             0.29411764705882354,
             "#e79e6e"
            ],
            [
             0.2980392156862745,
             "#e89f6f"
            ],
            [
             0.30196078431372547,
             "#e9a070"
            ],
            [
             0.3058823529411765,
             "#eaa271"
            ],
            [
             0.30980392156862746,
             "#eba372"
            ],
            [
             0.3137254901960784,
             "#eda473"
            ],
            [
             0.3176470588235294,
             "#eea574"
            ],
            [
             0.3215686274509804,
             "#efa775"
            ],
            [
             0.3254901960784314,
             "#f0a876"
            ],
            [
             0.32941176470588235,
             "#f1a977"
            ],
            [
             0.3333333333333333,
             "#f2aa78"
            ],
            [
             0.33725490196078434,
             "#f3ab79"
            ],
            [
             0.3411764705882353,
             "#f4ad7a"
            ],
            [
             0.34509803921568627,
             "#f5ae7b"
            ],
            [
             0.34901960784313724,
             "#f6af7c"
            ],
            [
             0.35294117647058826,
             "#f7b07d"
            ],
            [
             0.3568627450980392,
             "#f8b27e"
            ],
            [
             0.3607843137254902,
             "#fab37f"
            ],
            [
             0.36470588235294116,
             "#fbb480"
            ],
            [
             0.3686274509803922,
             "#fcb581"
            ],
            [
             0.37254901960784315,
             "#fdb782"
            ],
            [
             0.3764705882352941,
             "#feb883"
            ],
            [
             0.3803921568627451,
             "#ffb984"
            ],
            [
             0.3843137254901961,
             "#ffbb87"
            ],
            [
             0.38823529411764707,
             "#ffbd8b"
            ],
            [
             0.39215686274509803,
             "#febf8f"
            ],
            [
             0.396078431372549,
             "#fec192"
            ],
            [
             0.4,
             "#fec396"
            ],
            [
             0.403921568627451,
             "#fec599"
            ],
            [
             0.40784313725490196,
             "#fdc69d"
            ],
            [
             0.4117647058823529,
             "#fdc8a1"
            ],
            [
             0.41568627450980394,
             "#fdcaa4"
            ],
            [
             0.4196078431372549,
             "#fdcca8"
            ],
            [
             0.4235294117647059,
             "#fcceab"
            ],
            [
             0.42745098039215684,
             "#fcd0af"
            ],
            [
             0.43137254901960786,
             "#fcd2b2"
            ],
            [
             0.43529411764705883,
             "#fcd4b6"
            ],
            [
             0.4392156862745098,
             "#fcd6ba"
            ],
            [
             0.44313725490196076,
             "#fbd8bd"
            ],
            [
             0.4470588235294118,
             "#fbdac1"
            ],
            [
             0.45098039215686275,
             "#fbdcc4"
            ],
            [
             0.4549019607843137,
             "#fbdec8"
            ],
            [
             0.4588235294117647,
             "#fae0cb"
            ],
            [
             0.4627450980392157,
             "#fae2cf"
            ],
            [
             0.4666666666666667,
             "#fae4d3"
            ],
            [
             0.47058823529411764,
             "#fae5d6"
            ],
            [
             0.4745098039215686,
             "#f9e7da"
            ],
            [
             0.47843137254901963,
             "#f9e9dd"
            ],
            [
             0.4823529411764706,
             "#f9ebe1"
            ],
            [
             0.48627450980392156,
             "#f9ede4"
            ],
            [
             0.49019607843137253,
             "#f9efe8"
            ],
            [
             0.49411764705882355,
             "#f8f1ec"
            ],
            [
             0.4980392156862745,
             "#f8f3ef"
            ],
            [
             0.5019607843137255,
             "#f6faee"
            ],
            [
             0.5058823529411764,
             "#f5f9ed"
            ],
            [
             0.5098039215686274,
             "#f3f8eb"
            ],
            [
             0.5137254901960784,
             "#f2f6e9"
            ],
            [
             0.5176470588235295,
             "#f1f5e8"
            ],
            [
             0.5215686274509804,
             "#eff4e6"
            ],
            [
             0.5254901960784314,
             "#eef2e4"
            ],
            [
             0.5294117647058824,
             "#ecf1e3"
            ],
            [
             0.5333333333333333,
             "#ebf0e1"
            ],
            [
             0.5372549019607843,
             "#e9eedf"
            ],
            [
             0.5411764705882353,
             "#e8edde"
            ],
            [
             0.5450980392156862,
             "#e6ecdc"
            ],
            [
             0.5490196078431373,
             "#e5eadb"
            ],
            [
             0.5529411764705883,
             "#e4e9d9"
            ],
            [
             0.5568627450980392,
             "#e2e8d7"
            ],
            [
             0.5607843137254902,
             "#e1e6d6"
            ],
            [
             0.5647058823529412,
             "#dfe5d4"
            ],
            [
             0.5686274509803921,
             "#dee4d2"
            ],
            [
             0.5725490196078431,
             "#dce2d1"
            ],
            [
             0.5764705882352941,
             "#dbe1cf"
            ],
            [
             0.5803921568627451,
             "#d9e0cd"
            ],
            [
             0.5843137254901961,
             "#d8decc"
            ],
            [
             0.5882352941176471,
             "#d7ddca"
            ],
            [
             0.592156862745098,
             "#d5dcc8"
            ],
            [
             0.596078431372549,
             "#d4dac7"
            ],
            [
             0.6,
             "#d2d9c5"
            ],
            [
             0.6039215686274509,
             "#d1d8c4"
            ],
            [
             0.6078431372549019,
             "#cfd6c2"
            ],
            [
             0.611764705882353,
             "#ced5c0"
            ],
            [
             0.615686274509804,
             "#ccd4bf"
            ],
            [
             0.6196078431372549,
             "#cbd2bd"
            ],
            [
             0.6235294117647059,
             "#cad1bb"
            ],
            [
             0.6274509803921569,
             "#c8d0ba"
            ],
            [
             0.6313725490196078,
             "#c7ceb8"
            ],
            [
             0.6352941176470588,
             "#c5cdb6"
            ],
            [
             0.6392156862745098,
             "#c4ccb5"
            ],
            [
             0.6431372549019608,
             "#c2cab3"
            ],
            [
             0.6470588235294118,
             "#c1c9b2"
            ],
            [
             0.6509803921568628,
             "#bfc8b0"
            ],
            [
             0.6549019607843137,
             "#bec6ae"
            ],
            [
             0.6588235294117647,
             "#bdc5ad"
            ],
            [
             0.6627450980392157,
             "#bbc4ab"
            ],
            [
             0.6666666666666666,
             "#bac2a9"
            ],
            [
             0.6705882352941176,
             "#b8c1a8"
            ],
            [
             0.6745098039215687,
             "#b7c0a6"
            ],
            [
             0.6784313725490196,
             "#b5bea4"
            ],
            [
             0.6823529411764706,
             "#b4bda3"
            ],
            [
             0.6862745098039216,
             "#b2bca3"
            ],
            [
             0.6901960784313725,
             "#b0bba2"
            ],
            [
             0.6941176470588235,
             "#afbaa1"
            ],
            [
             0.6980392156862745,
             "#adb9a0"
            ],
            [
             0.7019607843137254,
             "#abb89f"
            ],
            [
             0.7058823529411765,
             "#aab79e"
            ],
            [
             0.7098039215686275,
             "#a8b69d"
            ],
            [
             0.7137254901960784,
             "#a6b59d"
            ],
            [
             0.7176470588235294,
             "#a4b49c"
            ],
            [
             0.7215686274509804,
             "#a3b39b"
            ],
            [
             0.7254901960784313,
             "#a1b29a"
            ],
            [
             0.7294117647058823,
             "#9fb199"
            ],
            [
             0.7333333333333333,
             "#9eb098"
            ],
            [
             0.7372549019607844,
             "#9caf97"
            ],
            [
             0.7411764705882353,
             "#9aae97"
            ],
            [
             0.7450980392156863,
             "#99ad96"
            ],
            [
             0.7490196078431373,
             "#97ac95"
            ],
            [
             0.7529411764705882,
             "#95ab94"
            ],
            [
             0.7568627450980392,
             "#93aa93"
            ],
            [
             0.7607843137254902,
             "#92a992"
            ],
            [
             0.7647058823529411,
             "#90a891"
            ],
            [
             0.7686274509803922,
             "#8ea791"
            ],
            [
             0.7725490196078432,
             "#8da690"
            ],
            [
             0.7764705882352941,
             "#8ba58f"
            ],
            [
             0.7803921568627451,
             "#89a48e"
            ],
            [
             0.7843137254901961,
             "#88a38d"
            ],
            [
             0.788235294117647,
             "#86a28c"
            ],
            [
             0.792156862745098,
             "#84a18b"
            ],
            [
             0.796078431372549,
             "#82a08b"
            ],
            [
             0.8,
             "#819f8a"
            ],
            [
             0.803921568627451,
             "#7f9e89"
            ],
            [
             0.807843137254902,
             "#7d9d88"
            ],
            [
             0.8117647058823529,
             "#7c9c87"
            ],
            [
             0.8156862745098039,
             "#7a9b86"
            ],
            [
             0.8196078431372549,
             "#789a85"
            ],
            [
             0.8235294117647058,
             "#779985"
            ],
            [
             0.8274509803921568,
             "#759884"
            ],
            [
             0.8313725490196079,
             "#739783"
            ],
            [
             0.8352941176470589,
             "#719682"
            ],
            [
             0.8392156862745098,
             "#709581"
            ],
            [
             0.8431372549019608,
             "#6e9480"
            ],
            [
             0.8470588235294118,
             "#6c937f"
            ],
            [
             0.8509803921568627,
             "#6b927f"
            ],
            [
             0.8549019607843137,
             "#69917e"
            ],
            [
             0.8588235294117647,
             "#67907d"
            ],
            [
             0.8627450980392157,
             "#668f7c"
            ],
            [
             0.8666666666666667,
             "#648e7b"
            ],
            [
             0.8705882352941177,
             "#628d7a"
            ],
            [
             0.8745098039215686,
             "#608b79"
            ],
            [
             0.8784313725490196,
             "#5f8a79"
            ],
            [
             0.8823529411764706,
             "#5d8978"
            ],
            [
             0.8862745098039215,
             "#5b8877"
            ],
            [
             0.8901960784313725,
             "#5a8776"
            ],
            [
             0.8941176470588236,
             "#588675"
            ],
            [
             0.8980392156862745,
             "#568574"
            ],
            [
             0.9019607843137255,
             "#558473"
            ],
            [
             0.9058823529411765,
             "#538373"
            ],
            [
             0.9098039215686274,
             "#518272"
            ],
            [
             0.9137254901960784,
             "#4f8171"
            ],
            [
             0.9176470588235294,
             "#4e8070"
            ],
            [
             0.9215686274509803,
             "#4c7f6f"
            ],
            [
             0.9254901960784314,
             "#4a7e6e"
            ],
            [
             0.9294117647058824,
             "#497d6d"
            ],
            [
             0.9333333333333333,
             "#477c6d"
            ],
            [
             0.9372549019607843,
             "#457b6c"
            ],
            [
             0.9411764705882353,
             "#447a6b"
            ],
            [
             0.9450980392156862,
             "#42796a"
            ],
            [
             0.9490196078431372,
             "#407869"
            ],
            [
             0.9529411764705882,
             "#3e7768"
            ],
            [
             0.9568627450980393,
             "#3d7667"
            ],
            [
             0.9607843137254902,
             "#3b7567"
            ],
            [
             0.9647058823529412,
             "#397466"
            ],
            [
             0.9686274509803922,
             "#387365"
            ],
            [
             0.9725490196078431,
             "#367264"
            ],
            [
             0.9764705882352941,
             "#347163"
            ],
            [
             0.9803921568627451,
             "#337062"
            ],
            [
             0.984313725490196,
             "#316f61"
            ],
            [
             0.9882352941176471,
             "#2f6e61"
            ],
            [
             0.9921568627450981,
             "#2d6d60"
            ],
            [
             0.996078431372549,
             "#2c6c5f"
            ],
            [
             1,
             "#2a6b5e"
            ]
           ],
           "sequential": [
            [
             0,
             "#341e60"
            ],
            [
             0.00392156862745098,
             "#351f61"
            ],
            [
             0.00784313725490196,
             "#351f62"
            ],
            [
             0.011764705882352941,
             "#362062"
            ],
            [
             0.01568627450980392,
             "#362163"
            ],
            [
             0.0196078431372549,
             "#372164"
            ],
            [
             0.023529411764705882,
             "#372265"
            ],
            [
             0.027450980392156862,
             "#382366"
            ],
            [
             0.03137254901960784,
             "#392366"
            ],
            [
             0.03529411764705882,
             "#392467"
            ],
            [
             0.0392156862745098,
             "#3a2568"
            ],
            [
             0.043137254901960784,
             "#3a2669"
            ],
            [
             0.047058823529411764,
             "#3b266a"
            ],
            [
             0.050980392156862744,
             "#3c276a"
            ],
            [
             0.054901960784313725,
             "#3c286b"
            ],
            [
             0.058823529411764705,
             "#3d286c"
            ],
            [
             0.06274509803921569,
             "#3d296d"
            ],
            [
             0.06666666666666667,
             "#3e2a6e"
            ],
            [
             0.07058823529411765,
             "#3e2a6e"
            ],
            [
             0.07450980392156863,
             "#3f2b6f"
            ],
            [
             0.0784313725490196,
             "#402c70"
            ],
            [
             0.08235294117647059,
             "#402c71"
            ],
            [
             0.08627450980392157,
             "#412d71"
            ],
            [
             0.09019607843137255,
             "#412e72"
            ],
            [
             0.09411764705882353,
             "#422e73"
            ],
            [
             0.09803921568627451,
             "#422f74"
            ],
            [
             0.10196078431372549,
             "#433075"
            ],
            [
             0.10588235294117647,
             "#443175"
            ],
            [
             0.10980392156862745,
             "#443176"
            ],
            [
             0.11372549019607843,
             "#453277"
            ],
            [
             0.11764705882352941,
             "#453378"
            ],
            [
             0.12156862745098039,
             "#463379"
            ],
            [
             0.12549019607843137,
             "#473479"
            ],
            [
             0.12941176470588237,
             "#47357a"
            ],
            [
             0.13333333333333333,
             "#48357b"
            ],
            [
             0.13725490196078433,
             "#48367c"
            ],
            [
             0.1411764705882353,
             "#49377d"
            ],
            [
             0.1450980392156863,
             "#49377d"
            ],
            [
             0.14901960784313725,
             "#4a387e"
            ],
            [
             0.15294117647058825,
             "#4b397f"
            ],
            [
             0.1568627450980392,
             "#4b3980"
            ],
            [
             0.1607843137254902,
             "#4c3a81"
            ],
            [
             0.16470588235294117,
             "#4c3b81"
            ],
            [
             0.16862745098039217,
             "#4d3c82"
            ],
            [
             0.17254901960784313,
             "#4d3c83"
            ],
            [
             0.17647058823529413,
             "#4e3d84"
            ],
            [
             0.1803921568627451,
             "#4f3e85"
            ],
            [
             0.1843137254901961,
             "#4f3e85"
            ],
            [
             0.18823529411764706,
             "#503f86"
            ],
            [
             0.19215686274509805,
             "#504087"
            ],
            [
             0.19607843137254902,
             "#514088"
            ],
            [
             0.2,
             "#514189"
            ],
            [
             0.20392156862745098,
             "#524289"
            ],
            [
             0.20784313725490197,
             "#53428a"
            ],
            [
             0.21176470588235294,
             "#53438b"
            ],
            [
             0.21568627450980393,
             "#54448c"
            ],
            [
             0.2196078431372549,
             "#55448c"
            ],
            [
             0.2235294117647059,
             "#56458c"
            ],
            [
             0.22745098039215686,
             "#57458c"
            ],
            [
             0.23137254901960785,
             "#58468c"
            ],
            [
             0.23529411764705882,
             "#5a468c"
            ],
            [
             0.23921568627450981,
             "#5b478c"
            ],
            [
             0.24313725490196078,
             "#5c478c"
            ],
            [
             0.24705882352941178,
             "#5d488c"
            ],
            [
             0.25098039215686274,
             "#5e488c"
            ],
            [
             0.2549019607843137,
             "#5f498c"
            ],
            [
             0.25882352941176473,
             "#61498c"
            ],
            [
             0.2627450980392157,
             "#624a8c"
            ],
            [
             0.26666666666666666,
             "#634a8b"
            ],
            [
             0.27058823529411763,
             "#644b8b"
            ],
            [
             0.27450980392156865,
             "#654b8b"
            ],
            [
             0.2784313725490196,
             "#674c8b"
            ],
            [
             0.2823529411764706,
             "#684c8b"
            ],
            [
             0.28627450980392155,
             "#694d8b"
            ],
            [
             0.2901960784313726,
             "#6a4d8b"
            ],
            [
             0.29411764705882354,
             "#6b4e8b"
            ],
            [
             0.2980392156862745,
             "#6d4e8b"
            ],
            [
             0.30196078431372547,
             "#6e4f8b"
            ],
            [
             0.3058823529411765,
             "#6f4f8b"
            ],
            [
             0.30980392156862746,
             "#70508b"
            ],
            [
             0.3137254901960784,
             "#71508b"
            ],
            [
             0.3176470588235294,
             "#72518b"
            ],
            [
             0.3215686274509804,
             "#74518b"
            ],
            [
             0.3254901960784314,
             "#75528b"
            ],
            [
             0.32941176470588235,
             "#76528b"
            ],
            [
             0.3333333333333333,
             "#77528b"
            ],
            [
             0.33725490196078434,
             "#78538b"
            ],
            [
             0.3411764705882353,
             "#7a538b"
            ],
            [
             0.34509803921568627,
             "#7b548b"
            ],
            [
             0.34901960784313724,
             "#7c548b"
            ],
            [
             0.35294117647058826,
             "#7d558b"
            ],
            [
             0.3568627450980392,
             "#7e558b"
            ],
            [
             0.3607843137254902,
             "#7f568a"
            ],
            [
             0.36470588235294116,
             "#81568a"
            ],
            [
             0.3686274509803922,
             "#82578a"
            ],
            [
             0.37254901960784315,
             "#83578a"
            ],
            [
             0.3764705882352941,
             "#84588a"
            ],
            [
             0.3803921568627451,
             "#85588a"
            ],
            [
             0.3843137254901961,
             "#87598a"
            ],
            [
             0.38823529411764707,
             "#88598a"
            ],
            [
             0.39215686274509803,
             "#895a8a"
            ],
            [
             0.396078431372549,
             "#8a5a8a"
            ],
            [
             0.4,
             "#8b5b8a"
            ],
            [
             0.403921568627451,
             "#8d5b8a"
            ],
            [
             0.40784313725490196,
             "#8e5c8a"
            ],
            [
             0.4117647058823529,
             "#8f5c8a"
            ],
            [
             0.41568627450980394,
             "#905d8a"
            ],
            [
             0.4196078431372549,
             "#915d8a"
            ],
            [
             0.4235294117647059,
             "#925e8a"
            ],
            [
             0.42745098039215684,
             "#945e8a"
            ],
            [
             0.43137254901960786,
             "#955f8a"
            ],
            [
             0.43529411764705883,
             "#965f8a"
            ],
            [
             0.4392156862745098,
             "#97608a"
            ],
            [
             0.44313725490196076,
             "#98608a"
            ],
            [
             0.4470588235294118,
             "#9a618a"
            ],
            [
             0.45098039215686275,
             "#9b618a"
            ],
            [
             0.4549019607843137,
             "#9c6289"
            ],
            [
             0.4588235294117647,
             "#9d6289"
            ],
            [
             0.4627450980392157,
             "#9e6389"
            ],
            [
             0.4666666666666667,
             "#a06389"
            ],
            [
             0.47058823529411764,
             "#a16489"
            ],
            [
             0.4745098039215686,
             "#a26489"
            ],
            [
             0.47843137254901963,
             "#a36589"
            ],
            [
             0.4823529411764706,
             "#a46589"
            ],
            [
             0.48627450980392156,
             "#a56689"
            ],
            [
             0.49019607843137253,
             "#a76689"
            ],
            [
             0.49411764705882355,
             "#a86789"
            ],
            [
             0.4980392156862745,
             "#a96789"
            ],
            [
             0.5019607843137255,
             "#aa6889"
            ],
            [
             0.5058823529411764,
             "#ab6989"
            ],
            [
             0.5098039215686274,
             "#ac6989"
            ],
            [
             0.5137254901960784,
             "#ac6a89"
            ],
            [
             0.5176470588235295,
             "#ad6b89"
            ],
            [
             0.5215686274509804,
             "#ae6c88"
            ],
            [
             0.5254901960784314,
             "#af6d88"
            ],
            [
             0.5294117647058824,
             "#b06d88"
            ],
            [
             0.5333333333333333,
             "#b16e88"
            ],
            [
             0.5372549019607843,
             "#b16f88"
            ],
            [
             0.5411764705882353,
             "#b27088"
            ],
            [
             0.5450980392156862,
             "#b37188"
            ],
            [
             0.5490196078431373,
             "#b47188"
            ],
            [
             0.5529411764705883,
             "#b57288"
            ],
            [
             0.5568627450980392,
             "#b67388"
            ],
            [
             0.5607843137254902,
             "#b67488"
            ],
            [
             0.5647058823529412,
             "#b77587"
            ],
            [
             0.5686274509803921,
             "#b87587"
            ],
            [
             0.5725490196078431,
             "#b97687"
            ],
            [
             0.5764705882352941,
             "#ba7787"
            ],
            [
             0.5803921568627451,
             "#bb7887"
            ],
            [
             0.5843137254901961,
             "#bb7887"
            ],
            [
             0.5882352941176471,
             "#bc7987"
            ],
            [
             0.592156862745098,
             "#bd7a87"
            ],
            [
             0.596078431372549,
             "#be7b87"
            ],
            [
             0.6,
             "#bf7c87"
            ],
            [
             0.6039215686274509,
             "#c07c87"
            ],
            [
             0.6078431372549019,
             "#c07d86"
            ],
            [
             0.611764705882353,
             "#c17e86"
            ],
            [
             0.615686274509804,
             "#c27f86"
            ],
            [
             0.6196078431372549,
             "#c38086"
            ],
            [
             0.6235294117647059,
             "#c48086"
            ],
            [
             0.6274509803921569,
             "#c58186"
            ],
            [
             0.6313725490196078,
             "#c58286"
            ],
            [
             0.6352941176470588,
             "#c68386"
            ],
            [
             0.6392156862745098,
             "#c78486"
            ],
            [
             0.6431372549019608,
             "#c88486"
            ],
            [
             0.6470588235294118,
             "#c98586"
            ],
            [
             0.6509803921568628,
             "#ca8685"
            ],
            [
             0.6549019607843137,
             "#ca8785"
            ],
            [
             0.6588235294117647,
             "#cb8885"
            ],
            [
             0.6627450980392157,
             "#cc8885"
            ],
            [
             0.6666666666666666,
             "#cd8985"
            ],
            [
             0.6705882352941176,
             "#ce8a85"
            ],
            [
             0.6745098039215687,
             "#cf8b85"
            ],
            [
             0.6784313725490196,
             "#cf8c85"
            ],
            [
             0.6823529411764706,
             "#d08c85"
            ],
            [
             0.6862745098039216,
             "#d18d85"
            ],
            [
             0.6901960784313725,
             "#d28e85"
            ],
            [
             0.6941176470588235,
             "#d38f84"
            ],
            [
             0.6980392156862745,
             "#d49084"
            ],
            [
             0.7019607843137254,
             "#d49084"
            ],
            [
             0.7058823529411765,
             "#d59184"
            ],
            [
             0.7098039215686275,
             "#d69284"
            ],
            [
             0.7137254901960784,
             "#d79384"
            ],
            [
             0.7176470588235294,
             "#d89484"
            ],
            [
             0.7215686274509804,
             "#d99484"
            ],
            [
             0.7254901960784313,
             "#d99584"
            ],
            [
             0.7294117647058823,
             "#da9684"
            ],
            [
             0.7333333333333333,
             "#db9784"
            ],
            [
             0.7372549019607844,
             "#dc9783"
            ],
            [
             0.7411764705882353,
             "#dd9883"
            ],
            [
             0.7450980392156863,
             "#de9983"
            ],
            [
             0.7490196078431373,
             "#de9a83"
            ],
            [
             0.7529411764705882,
             "#df9b83"
            ],
            [
             0.7568627450980392,
             "#e09b83"
            ],
            [
             0.7607843137254902,
             "#e19c83"
            ],
            [
             0.7647058823529411,
             "#e29d83"
            ],
            [
             0.7686274509803922,
             "#e39e83"
            ],
            [
             0.7725490196078432,
             "#e39f83"
            ],
            [
             0.7764705882352941,
             "#e49f83"
            ],
            [
             0.7803921568627451,
             "#e5a082"
            ],
            [
             0.7843137254901961,
             "#e6a182"
            ],
            [
             0.788235294117647,
             "#e7a282"
            ],
            [
             0.792156862745098,
             "#e8a382"
            ],
            [
             0.796078431372549,
             "#e8a382"
            ],
            [
             0.8,
             "#e9a482"
            ],
            [
             0.803921568627451,
             "#e9a583"
            ],
            [
             0.807843137254902,
             "#eaa784"
            ],
            [
             0.8117647058823529,
             "#eaa885"
            ],
            [
             0.8156862745098039,
             "#eaa986"
            ],
            [
             0.8196078431372549,
             "#eaaa87"
            ],
            [
             0.8235294117647058,
             "#eaab88"
            ],
            [
             0.8274509803921568,
             "#ebac89"
            ],
            [
             0.8313725490196079,
             "#ebae8a"
            ],
            [
             0.8352941176470589,
             "#ebaf8b"
            ],
            [
             0.8392156862745098,
             "#ebb08c"
            ],
            [
             0.8431372549019608,
             "#ecb18d"
            ],
            [
             0.8470588235294118,
             "#ecb28d"
            ],
            [
             0.8509803921568627,
             "#ecb38e"
            ],
            [
             0.8549019607843137,
             "#ecb48f"
            ],
            [
             0.8588235294117647,
             "#edb690"
            ],
            [
             0.8627450980392157,
             "#edb791"
            ],
            [
             0.8666666666666667,
             "#edb892"
            ],
            [
             0.8705882352941177,
             "#edb993"
            ],
            [
             0.8745098039215686,
             "#eeba94"
            ],
            [
             0.8784313725490196,
             "#eebb95"
            ],
            [
             0.8823529411764706,
             "#eebc96"
            ],
            [
             0.8862745098039215,
             "#eebe97"
            ],
            [
             0.8901960784313725,
             "#eebf98"
            ],
            [
             0.8941176470588236,
             "#efc099"
            ],
            [
             0.8980392156862745,
             "#efc19a"
            ],
            [
             0.9019607843137255,
             "#efc29b"
            ],
            [
             0.9058823529411765,
             "#efc39c"
            ],
            [
             0.9098039215686274,
             "#f0c59c"
            ],
            [
             0.9137254901960784,
             "#f0c69d"
            ],
            [
             0.9176470588235294,
             "#f0c79e"
            ],
            [
             0.9215686274509803,
             "#f0c89f"
            ],
            [
             0.9254901960784314,
             "#f1c9a0"
            ],
            [
             0.9294117647058824,
             "#f1caa1"
            ],
            [
             0.9333333333333333,
             "#f1cba2"
            ],
            [
             0.9372549019607843,
             "#f1cda3"
            ],
            [
             0.9411764705882353,
             "#f1cea4"
            ],
            [
             0.9450980392156862,
             "#f2cfa5"
            ],
            [
             0.9490196078431372,
             "#f2d0a6"
            ],
            [
             0.9529411764705882,
             "#f2d1a7"
            ],
            [
             0.9568627450980393,
             "#f2d2a8"
            ],
            [
             0.9607843137254902,
             "#f3d3a9"
            ],
            [
             0.9647058823529412,
             "#f3d5aa"
            ],
            [
             0.9686274509803922,
             "#f3d6ab"
            ],
            [
             0.9725490196078431,
             "#f3d7ab"
            ],
            [
             0.9764705882352941,
             "#f4d8ac"
            ],
            [
             0.9803921568627451,
             "#f4d9ad"
            ],
            [
             0.984313725490196,
             "#f4daae"
            ],
            [
             0.9882352941176471,
             "#f4dcaf"
            ],
            [
             0.9921568627450981,
             "#f5ddb0"
            ],
            [
             0.996078431372549,
             "#f5deb1"
            ],
            [
             1,
             "#f5dfb2"
            ]
           ],
           "sequentialminus": [
            [
             0,
             "#f5dfb2"
            ],
            [
             0.00392156862745098,
             "#f5deb1"
            ],
            [
             0.00784313725490196,
             "#f5ddb0"
            ],
            [
             0.011764705882352941,
             "#f4dcaf"
            ],
            [
             0.01568627450980392,
             "#f4daae"
            ],
            [
             0.0196078431372549,
             "#f4d9ad"
            ],
            [
             0.023529411764705882,
             "#f4d8ac"
            ],
            [
             0.027450980392156862,
             "#f3d7ab"
            ],
            [
             0.03137254901960784,
             "#f3d6ab"
            ],
            [
             0.03529411764705882,
             "#f3d5aa"
            ],
            [
             0.0392156862745098,
             "#f3d3a9"
            ],
            [
             0.043137254901960784,
             "#f2d2a8"
            ],
            [
             0.047058823529411764,
             "#f2d1a7"
            ],
            [
             0.050980392156862744,
             "#f2d0a6"
            ],
            [
             0.054901960784313725,
             "#f2cfa5"
            ],
            [
             0.058823529411764705,
             "#f1cea4"
            ],
            [
             0.06274509803921569,
             "#f1cda3"
            ],
            [
             0.06666666666666667,
             "#f1cba2"
            ],
            [
             0.07058823529411765,
             "#f1caa1"
            ],
            [
             0.07450980392156863,
             "#f1c9a0"
            ],
            [
             0.0784313725490196,
             "#f0c89f"
            ],
            [
             0.08235294117647059,
             "#f0c79e"
            ],
            [
             0.08627450980392157,
             "#f0c69d"
            ],
            [
             0.09019607843137255,
             "#f0c59c"
            ],
            [
             0.09411764705882353,
             "#efc39c"
            ],
            [
             0.09803921568627451,
             "#efc29b"
            ],
            [
             0.10196078431372549,
             "#efc19a"
            ],
            [
             0.10588235294117647,
             "#efc099"
            ],
            [
             0.10980392156862745,
             "#eebf98"
            ],
            [
             0.11372549019607843,
             "#eebe97"
            ],
            [
             0.11764705882352941,
             "#eebc96"
            ],
            [
             0.12156862745098039,
             "#eebb95"
            ],
            [
             0.12549019607843137,
             "#eeba94"
            ],
            [
             0.12941176470588237,
             "#edb993"
            ],
            [
             0.13333333333333333,
             "#edb892"
            ],
            [
             0.13725490196078433,
             "#edb791"
            ],
            [
             0.1411764705882353,
             "#edb690"
            ],
            [
             0.1450980392156863,
             "#ecb48f"
            ],
            [
             0.14901960784313725,
             "#ecb38e"
            ],
            [
             0.15294117647058825,
             "#ecb28d"
            ],
            [
             0.1568627450980392,
             "#ecb18d"
            ],
            [
             0.1607843137254902,
             "#ebb08c"
            ],
            [
             0.16470588235294117,
             "#ebaf8b"
            ],
            [
             0.16862745098039217,
             "#ebae8a"
            ],
            [
             0.17254901960784313,
             "#ebac89"
            ],
            [
             0.17647058823529413,
             "#eaab88"
            ],
            [
             0.1803921568627451,
             "#eaaa87"
            ],
            [
             0.1843137254901961,
             "#eaa986"
            ],
            [
             0.18823529411764706,
             "#eaa885"
            ],
            [
             0.19215686274509805,
             "#eaa784"
            ],
            [
             0.19607843137254902,
             "#e9a583"
            ],
            [
             0.2,
             "#e9a482"
            ],
            [
             0.20392156862745098,
             "#e8a382"
            ],
            [
             0.20784313725490197,
             "#e8a382"
            ],
            [
             0.21176470588235294,
             "#e7a282"
            ],
            [
             0.21568627450980393,
             "#e6a182"
            ],
            [
             0.2196078431372549,
             "#e5a082"
            ],
            [
             0.2235294117647059,
             "#e49f83"
            ],
            [
             0.22745098039215686,
             "#e39f83"
            ],
            [
             0.23137254901960785,
             "#e39e83"
            ],
            [
             0.23529411764705882,
             "#e29d83"
            ],
            [
             0.23921568627450981,
             "#e19c83"
            ],
            [
             0.24313725490196078,
             "#e09b83"
            ],
            [
             0.24705882352941178,
             "#df9b83"
            ],
            [
             0.25098039215686274,
             "#de9a83"
            ],
            [
             0.2549019607843137,
             "#de9983"
            ],
            [
             0.25882352941176473,
             "#dd9883"
            ],
            [
             0.2627450980392157,
             "#dc9783"
            ],
            [
             0.26666666666666666,
             "#db9784"
            ],
            [
             0.27058823529411763,
             "#da9684"
            ],
            [
             0.27450980392156865,
             "#d99584"
            ],
            [
             0.2784313725490196,
             "#d99484"
            ],
            [
             0.2823529411764706,
             "#d89484"
            ],
            [
             0.28627450980392155,
             "#d79384"
            ],
            [
             0.2901960784313726,
             "#d69284"
            ],
            [
             0.29411764705882354,
             "#d59184"
            ],
            [
             0.2980392156862745,
             "#d49084"
            ],
            [
             0.30196078431372547,
             "#d49084"
            ],
            [
             0.3058823529411765,
             "#d38f84"
            ],
            [
             0.30980392156862746,
             "#d28e85"
            ],
            [
             0.3137254901960784,
             "#d18d85"
            ],
            [
             0.3176470588235294,
             "#d08c85"
            ],
            [
             0.3215686274509804,
             "#cf8c85"
            ],
            [
             0.3254901960784314,
             "#cf8b85"
            ],
            [
             0.32941176470588235,
             "#ce8a85"
            ],
            [
             0.3333333333333333,
             "#cd8985"
            ],
            [
             0.33725490196078434,
             "#cc8885"
            ],
            [
             0.3411764705882353,
             "#cb8885"
            ],
            [
             0.34509803921568627,
             "#ca8785"
            ],
            [
             0.34901960784313724,
             "#ca8685"
            ],
            [
             0.35294117647058826,
             "#c98586"
            ],
            [
             0.3568627450980392,
             "#c88486"
            ],
            [
             0.3607843137254902,
             "#c78486"
            ],
            [
             0.36470588235294116,
             "#c68386"
            ],
            [
             0.3686274509803922,
             "#c58286"
            ],
            [
             0.37254901960784315,
             "#c58186"
            ],
            [
             0.3764705882352941,
             "#c48086"
            ],
            [
             0.3803921568627451,
             "#c38086"
            ],
            [
             0.3843137254901961,
             "#c27f86"
            ],
            [
             0.38823529411764707,
             "#c17e86"
            ],
            [
             0.39215686274509803,
             "#c07d86"
            ],
            [
             0.396078431372549,
             "#c07c87"
            ],
            [
             0.4,
             "#bf7c87"
            ],
            [
             0.403921568627451,
             "#be7b87"
            ],
            [
             0.40784313725490196,
             "#bd7a87"
            ],
            [
             0.4117647058823529,
             "#bc7987"
            ],
            [
             0.41568627450980394,
             "#bb7887"
            ],
            [
             0.4196078431372549,
             "#bb7887"
            ],
            [
             0.4235294117647059,
             "#ba7787"
            ],
            [
             0.42745098039215684,
             "#b97687"
            ],
            [
             0.43137254901960786,
             "#b87587"
            ],
            [
             0.43529411764705883,
             "#b77587"
            ],
            [
             0.4392156862745098,
             "#b67488"
            ],
            [
             0.44313725490196076,
             "#b67388"
            ],
            [
             0.4470588235294118,
             "#b57288"
            ],
            [
             0.45098039215686275,
             "#b47188"
            ],
            [
             0.4549019607843137,
             "#b37188"
            ],
            [
             0.4588235294117647,
             "#b27088"
            ],
            [
             0.4627450980392157,
             "#b16f88"
            ],
            [
             0.4666666666666667,
             "#b16e88"
            ],
            [
             0.47058823529411764,
             "#b06d88"
            ],
            [
             0.4745098039215686,
             "#af6d88"
            ],
            [
             0.47843137254901963,
             "#ae6c88"
            ],
            [
             0.4823529411764706,
             "#ad6b89"
            ],
            [
             0.48627450980392156,
             "#ac6a89"
            ],
            [
             0.49019607843137253,
             "#ac6989"
            ],
            [
             0.49411764705882355,
             "#ab6989"
            ],
            [
             0.4980392156862745,
             "#aa6889"
            ],
            [
             0.5019607843137255,
             "#a96789"
            ],
            [
             0.5058823529411764,
             "#a86789"
            ],
            [
             0.5098039215686274,
             "#a76689"
            ],
            [
             0.5137254901960784,
             "#a56689"
            ],
            [
             0.5176470588235295,
             "#a46589"
            ],
            [
             0.5215686274509804,
             "#a36589"
            ],
            [
             0.5254901960784314,
             "#a26489"
            ],
            [
             0.5294117647058824,
             "#a16489"
            ],
            [
             0.5333333333333333,
             "#a06389"
            ],
            [
             0.5372549019607843,
             "#9e6389"
            ],
            [
             0.5411764705882353,
             "#9d6289"
            ],
            [
             0.5450980392156862,
             "#9c6289"
            ],
            [
             0.5490196078431373,
             "#9b618a"
            ],
            [
             0.5529411764705883,
             "#9a618a"
            ],
            [
             0.5568627450980392,
             "#98608a"
            ],
            [
             0.5607843137254902,
             "#97608a"
            ],
            [
             0.5647058823529412,
             "#965f8a"
            ],
            [
             0.5686274509803921,
             "#955f8a"
            ],
            [
             0.5725490196078431,
             "#945e8a"
            ],
            [
             0.5764705882352941,
             "#925e8a"
            ],
            [
             0.5803921568627451,
             "#915d8a"
            ],
            [
             0.5843137254901961,
             "#905d8a"
            ],
            [
             0.5882352941176471,
             "#8f5c8a"
            ],
            [
             0.592156862745098,
             "#8e5c8a"
            ],
            [
             0.596078431372549,
             "#8d5b8a"
            ],
            [
             0.6,
             "#8b5b8a"
            ],
            [
             0.6039215686274509,
             "#8a5a8a"
            ],
            [
             0.6078431372549019,
             "#895a8a"
            ],
            [
             0.611764705882353,
             "#88598a"
            ],
            [
             0.615686274509804,
             "#87598a"
            ],
            [
             0.6196078431372549,
             "#85588a"
            ],
            [
             0.6235294117647059,
             "#84588a"
            ],
            [
             0.6274509803921569,
             "#83578a"
            ],
            [
             0.6313725490196078,
             "#82578a"
            ],
            [
             0.6352941176470588,
             "#81568a"
            ],
            [
             0.6392156862745098,
             "#7f568a"
            ],
            [
             0.6431372549019608,
             "#7e558b"
            ],
            [
             0.6470588235294118,
             "#7d558b"
            ],
            [
             0.6509803921568628,
             "#7c548b"
            ],
            [
             0.6549019607843137,
             "#7b548b"
            ],
            [
             0.6588235294117647,
             "#7a538b"
            ],
            [
             0.6627450980392157,
             "#78538b"
            ],
            [
             0.6666666666666666,
             "#77528b"
            ],
            [
             0.6705882352941176,
             "#76528b"
            ],
            [
             0.6745098039215687,
             "#75528b"
            ],
            [
             0.6784313725490196,
             "#74518b"
            ],
            [
             0.6823529411764706,
             "#72518b"
            ],
            [
             0.6862745098039216,
             "#71508b"
            ],
            [
             0.6901960784313725,
             "#70508b"
            ],
            [
             0.6941176470588235,
             "#6f4f8b"
            ],
            [
             0.6980392156862745,
             "#6e4f8b"
            ],
            [
             0.7019607843137254,
             "#6d4e8b"
            ],
            [
             0.7058823529411765,
             "#6b4e8b"
            ],
            [
             0.7098039215686275,
             "#6a4d8b"
            ],
            [
             0.7137254901960784,
             "#694d8b"
            ],
            [
             0.7176470588235294,
             "#684c8b"
            ],
            [
             0.7215686274509804,
             "#674c8b"
            ],
            [
             0.7254901960784313,
             "#654b8b"
            ],
            [
             0.7294117647058823,
             "#644b8b"
            ],
            [
             0.7333333333333333,
             "#634a8b"
            ],
            [
             0.7372549019607844,
             "#624a8c"
            ],
            [
             0.7411764705882353,
             "#61498c"
            ],
            [
             0.7450980392156863,
             "#5f498c"
            ],
            [
             0.7490196078431373,
             "#5e488c"
            ],
            [
             0.7529411764705882,
             "#5d488c"
            ],
            [
             0.7568627450980392,
             "#5c478c"
            ],
            [
             0.7607843137254902,
             "#5b478c"
            ],
            [
             0.7647058823529411,
             "#5a468c"
            ],
            [
             0.7686274509803922,
             "#58468c"
            ],
            [
             0.7725490196078432,
             "#57458c"
            ],
            [
             0.7764705882352941,
             "#56458c"
            ],
            [
             0.7803921568627451,
             "#55448c"
            ],
            [
             0.7843137254901961,
             "#54448c"
            ],
            [
             0.788235294117647,
             "#53438b"
            ],
            [
             0.792156862745098,
             "#53428a"
            ],
            [
             0.796078431372549,
             "#524289"
            ],
            [
             0.8,
             "#514189"
            ],
            [
             0.803921568627451,
             "#514088"
            ],
            [
             0.807843137254902,
             "#504087"
            ],
            [
             0.8117647058823529,
             "#503f86"
            ],
            [
             0.8156862745098039,
             "#4f3e85"
            ],
            [
             0.8196078431372549,
             "#4f3e85"
            ],
            [
             0.8235294117647058,
             "#4e3d84"
            ],
            [
             0.8274509803921568,
             "#4d3c83"
            ],
            [
             0.8313725490196079,
             "#4d3c82"
            ],
            [
             0.8352941176470589,
             "#4c3b81"
            ],
            [
             0.8392156862745098,
             "#4c3a81"
            ],
            [
             0.8431372549019608,
             "#4b3980"
            ],
            [
             0.8470588235294118,
             "#4b397f"
            ],
            [
             0.8509803921568627,
             "#4a387e"
            ],
            [
             0.8549019607843137,
             "#49377d"
            ],
            [
             0.8588235294117647,
             "#49377d"
            ],
            [
             0.8627450980392157,
             "#48367c"
            ],
            [
             0.8666666666666667,
             "#48357b"
            ],
            [
             0.8705882352941177,
             "#47357a"
            ],
            [
             0.8745098039215686,
             "#473479"
            ],
            [
             0.8784313725490196,
             "#463379"
            ],
            [
             0.8823529411764706,
             "#453378"
            ],
            [
             0.8862745098039215,
             "#453277"
            ],
            [
             0.8901960784313725,
             "#443176"
            ],
            [
             0.8941176470588236,
             "#443175"
            ],
            [
             0.8980392156862745,
             "#433075"
            ],
            [
             0.9019607843137255,
             "#422f74"
            ],
            [
             0.9058823529411765,
             "#422e73"
            ],
            [
             0.9098039215686274,
             "#412e72"
            ],
            [
             0.9137254901960784,
             "#412d71"
            ],
            [
             0.9176470588235294,
             "#402c71"
            ],
            [
             0.9215686274509803,
             "#402c70"
            ],
            [
             0.9254901960784314,
             "#3f2b6f"
            ],
            [
             0.9294117647058824,
             "#3e2a6e"
            ],
            [
             0.9333333333333333,
             "#3e2a6e"
            ],
            [
             0.9372549019607843,
             "#3d296d"
            ],
            [
             0.9411764705882353,
             "#3d286c"
            ],
            [
             0.9450980392156862,
             "#3c286b"
            ],
            [
             0.9490196078431372,
             "#3c276a"
            ],
            [
             0.9529411764705882,
             "#3b266a"
            ],
            [
             0.9568627450980393,
             "#3a2669"
            ],
            [
             0.9607843137254902,
             "#3a2568"
            ],
            [
             0.9647058823529412,
             "#392467"
            ],
            [
             0.9686274509803922,
             "#392366"
            ],
            [
             0.9725490196078431,
             "#382366"
            ],
            [
             0.9764705882352941,
             "#372265"
            ],
            [
             0.9803921568627451,
             "#372164"
            ],
            [
             0.984313725490196,
             "#362163"
            ],
            [
             0.9882352941176471,
             "#362062"
            ],
            [
             0.9921568627450981,
             "#351f62"
            ],
            [
             0.996078431372549,
             "#351f61"
            ],
            [
             1,
             "#341e60"
            ]
           ]
          },
          "font": {
           "color": "black",
           "family": "SuisseIntl",
           "size": 15
          },
          "hoverlabel": {
           "font": {
            "family": "SuisseIntl",
            "size": 13
           }
          },
          "legend": {
           "font": {
            "color": "black",
            "family": "SuisseIntl",
            "size": 15
           },
           "indentation": -12,
           "title": {
            "font": {
             "color": "black",
             "family": "SuisseIntl-SemiBold",
             "size": 16
            }
           },
           "x": 1,
           "xanchor": "right",
           "y": 1,
           "yanchor": "top"
          },
          "margin": {
           "b": 85,
           "l": 95,
           "r": 40,
           "t": 40
          },
          "scene": {
           "xaxis": {
            "linecolor": "black",
            "linewidth": 1,
            "showgrid": true,
            "showline": true,
            "ticks": "outside",
            "tickwidth": 1,
            "title": {
             "font": {
              "color": "black",
              "family": "SuisseIntl-Medium",
              "size": 15
             }
            }
           },
           "yaxis": {
            "linecolor": "black",
            "linewidth": 1,
            "showgrid": true,
            "showline": true,
            "ticks": "outside",
            "tickwidth": 1,
            "title": {
             "font": {
              "color": "black",
              "family": "SuisseIntl-Medium",
              "size": 15
             }
            }
           },
           "zaxis": {
            "linecolor": "black",
            "linewidth": 1,
            "showgrid": true,
            "showline": true,
            "ticks": "outside",
            "tickwidth": 1,
            "title": {
             "font": {
              "color": "black",
              "family": "SuisseIntl-Medium",
              "size": 15
             }
            }
           }
          },
          "title": {
           "automargin": true,
           "font": {
            "color": "black",
            "family": "SuisseIntl-SemiBold",
            "size": 16
           },
           "yref": "container"
          },
          "xaxis": {
           "automargin": true,
           "linecolor": "black",
           "linewidth": 1,
           "showgrid": false,
           "showline": true,
           "ticklabelstandoff": 2,
           "ticks": "outside",
           "tickwidth": 1,
           "title": {
            "font": {
             "color": "black",
             "family": "SuisseIntl-Medium",
             "size": 15
            },
            "standoff": 10
           },
           "zerolinecolor": "rgba(0,0,0,0)",
           "zerolinewidth": 0
          },
          "yaxis": {
           "automargin": true,
           "linecolor": "black",
           "linewidth": 1,
           "showgrid": false,
           "showline": true,
           "ticklabelstandoff": 2,
           "ticks": "outside",
           "tickwidth": 1,
           "title": {
            "font": {
             "color": "black",
             "family": "SuisseIntl-Medium",
             "size": 15
            },
            "standoff": 10
           },
           "zerolinecolor": "rgba(0,0,0,0)",
           "zerolinewidth": 0
          }
         }
        },
        "title": {
         "text": "Stage barcode mapping: Cao vs Piekarz"
        },
        "width": 400
       }
      }
     },
     "metadata": {},
     "output_type": "display_data"
    }
   ],
   "source": [
    "fig = zt.ciona.disambiguation.plot_stage_replicate_sankey(\n",
    "    merged_cell_barcodes,\n",
    "    width=400,\n",
    "    height=800,\n",
    "    image_filepath=\"figures/Stage_replicate_sankey.svg\",\n",
    "    html_filepath=\"figures/Stage_replicate_sankey.html\",\n",
    ")\n",
    "fig.show()"
   ]
  }
 ],
 "metadata": {
  "kernelspec": {
   "display_name": "2025-zoogle",
   "language": "python",
   "name": "python3"
  },
  "language_info": {
   "codemirror_mode": {
    "name": "ipython",
    "version": 3
   },
   "file_extension": ".py",
   "mimetype": "text/x-python",
   "name": "python",
   "nbconvert_exporter": "python",
   "pygments_lexer": "ipython3",
   "version": "3.12.0"
  }
 },
 "nbformat": 4,
 "nbformat_minor": 2
}
