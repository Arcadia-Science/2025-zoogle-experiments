{
 "cells": [
  {
   "cell_type": "markdown",
   "metadata": {},
   "source": [
    "# 6. Visualizing Ciona scRNA-Seq expression\n",
    "\n",
    "This notebook illustrates a variety of functions for visualizing Ciona scRNA-Seq expression data across developmental stages, including:\n",
    "- Violin plot distributions of gene expression across cell clusters identified in Seurat\n",
    "- `[TBI]` UMAP scatter plots of gene expression, tissue type, and cluster identity\n",
    "- `[TBI]` Tissue-specific bubble plots of gene expression across developmental stages\n",
    "\n",
    "*`[TBI]` indicates that the functions will be implemented in a future PR.\n",
    "\n",
    "To run this notebook, you should have run the downloading Snakemake workflow described in the README at the top level of this repo, followed by the Jupyter notebooks numbered 0, 1, 3, 4, and 5.\n",
    "\n",
    "## 6.1 Load necessary modules\n",
    "\n",
    "Be sure to install `zoogletools` from the top level of this directory."
   ]
  },
  {
   "cell_type": "code",
   "execution_count": 1,
   "metadata": {},
   "outputs": [
    {
     "name": "stderr",
     "output_type": "stream",
     "text": [
      "/Users/dennis/miniconda3/envs/2025-zoogle/lib/python3.12/site-packages/anndata/utils.py:434: FutureWarning: Importing read_csv from `anndata` is deprecated. Import anndata.io.read_csv instead.\n",
      "  warnings.warn(msg, FutureWarning)\n",
      "/Users/dennis/miniconda3/envs/2025-zoogle/lib/python3.12/site-packages/anndata/utils.py:434: FutureWarning: Importing read_text from `anndata` is deprecated. Import anndata.io.read_text instead.\n",
      "  warnings.warn(msg, FutureWarning)\n",
      "/Users/dennis/miniconda3/envs/2025-zoogle/lib/python3.12/site-packages/anndata/utils.py:434: FutureWarning: Importing read_excel from `anndata` is deprecated. Import anndata.io.read_excel instead.\n",
      "  warnings.warn(msg, FutureWarning)\n",
      "/Users/dennis/miniconda3/envs/2025-zoogle/lib/python3.12/site-packages/anndata/utils.py:434: FutureWarning: Importing read_mtx from `anndata` is deprecated. Import anndata.io.read_mtx instead.\n",
      "  warnings.warn(msg, FutureWarning)\n",
      "/Users/dennis/miniconda3/envs/2025-zoogle/lib/python3.12/site-packages/anndata/utils.py:434: FutureWarning: Importing read_loom from `anndata` is deprecated. Import anndata.io.read_loom instead.\n",
      "  warnings.warn(msg, FutureWarning)\n",
      "/Users/dennis/miniconda3/envs/2025-zoogle/lib/python3.12/site-packages/anndata/utils.py:434: FutureWarning: Importing read_hdf from `anndata` is deprecated. Import anndata.io.read_hdf instead.\n",
      "  warnings.warn(msg, FutureWarning)\n",
      "/Users/dennis/miniconda3/envs/2025-zoogle/lib/python3.12/site-packages/anndata/utils.py:434: FutureWarning: Importing read_umi_tools from `anndata` is deprecated. Import anndata.io.read_umi_tools instead.\n",
      "  warnings.warn(msg, FutureWarning)\n"
     ]
    }
   ],
   "source": [
    "import zoogletools as zt\n",
    "from zoogletools.ciona.constants import (\n",
    "    CIONA_GENE_MODELS_DIRPATH,\n",
    "    PIEKARZ_DATA_DIRPATH,\n",
    "    ZOOGLE_RESULTS_DIRPATH,\n",
    "    CionaStage,\n",
    ")\n",
    "from zoogletools.ciona.identifier_mapping import CionaIDTypes"
   ]
  },
  {
   "cell_type": "markdown",
   "metadata": {},
   "source": [
    "## 6.2 Create identifier mapper object\n",
    "\n",
    "Because there are multiple different identifiers for the same gene, we need to create an identifier mapper object that can map between different identifier types.\n",
    "\n",
    "We create this once and reuse it for all plots in this notebook.\n",
    "\n",
    "### Inputting identifiers\n",
    "Plots in this module can work with the following identifiers, specified via the `CionaIDTypes` `StrEnum` class in the `input_id_type` parameter (see downstream functions for more details). The supported IDs include:\n",
    "- **HGNC Gene Symbol** (`CionaIDTypes.HGNC_GENE_SYMBOL`). This is the primary gene symbol for the human gene.\n",
    "- **Ciona UniProt ID** (`CionaIDTypes.NONREF_PROTEIN`). This is the UniProt ID of the Ciona protein.\n",
    "- **Ciona KY2021 ID** (`CionaIDTypes.KY_ID`). This is the gene identifier from the KY2021 genome.\n",
    "- **Ciona KH2012 ID** (`CionaIDTypes.KH_ID`). This is the gene identifier from the KH2012 genome.\n",
    "\n",
    "For the scRNA-Seq data, the input identifier will be mapped to its corresponding `KY_ID`, which is the identifier used for gene expression within the Piekarz dataset."
   ]
  },
  {
   "cell_type": "code",
   "execution_count": 2,
   "metadata": {},
   "outputs": [],
   "source": [
    "id_mapper = zt.ciona.identifier_mapping.IdentifierMapper(\n",
    "    zoogle_results_dirpath=ZOOGLE_RESULTS_DIRPATH,\n",
    "    ciona_gene_models_dirpath=CIONA_GENE_MODELS_DIRPATH,\n",
    ")"
   ]
  },
  {
   "cell_type": "markdown",
   "metadata": {},
   "source": [
    "## 6.3 Violin plots of gene expression\n",
    "\n",
    "`zoogletools` includes functions to visualize expression of user-selected genes across cell clusters. The clusters can be colorized either by the Seurat cluster number, or by the top most-represented tissue type found in the cluster.\n",
    "\n",
    "These plots contain three subplots:\n",
    "- 1. **Cell count bar chart.** The top row shows a bar chart of the number of cells in each cluster.\n",
    "- 2. **Percent expression bar chart.** The middle row shows a bar chart where the proportion of cells with nonzero expression of the gene of interest is colored.\n",
    "- 3. **Expression violin chart.** The bottom row shows a violin chart of the distribution of gene expression for cells with nonzero expression."
   ]
  },
  {
   "cell_type": "code",
   "execution_count": 3,
   "metadata": {},
   "outputs": [
    {
     "data": {
      "application/vnd.plotly.v1+json": {
       "config": {
        "plotlyServerURL": "https://plot.ly"
       },
       "data": [
        {
         "marker": {
          "color": "#5088C5"
         },
         "name": "Total cells (cluster 0)",
         "showlegend": false,
         "type": "bar",
         "x": [
          "C0"
         ],
         "xaxis": "x",
         "y": [
          1896
         ],
         "yaxis": "y"
        },
        {
         "marker": {
          "color": "#F28360"
         },
         "name": "Total cells (cluster 1)",
         "showlegend": false,
         "type": "bar",
         "x": [
          "C1"
         ],
         "xaxis": "x",
         "y": [
          771
         ],
         "yaxis": "y"
        },
        {
         "marker": {
          "color": "#F7B846"
         },
         "name": "Total cells (cluster 10)",
         "showlegend": false,
         "type": "bar",
         "x": [
          "C10"
         ],
         "xaxis": "x",
         "y": [
          64
         ],
         "yaxis": "y"
        },
        {
         "marker": {
          "color": "#97CD78"
         },
         "name": "Total cells (cluster 11)",
         "showlegend": false,
         "type": "bar",
         "x": [
          "C11"
         ],
         "xaxis": "x",
         "y": [
          57
         ],
         "yaxis": "y"
        },
        {
         "marker": {
          "color": "#7A77AB"
         },
         "name": "Total cells (cluster 2)",
         "showlegend": false,
         "type": "bar",
         "x": [
          "C2"
         ],
         "xaxis": "x",
         "y": [
          434
         ],
         "yaxis": "y"
        },
        {
         "marker": {
          "color": "#F898AE"
         },
         "name": "Total cells (cluster 3)",
         "showlegend": false,
         "type": "bar",
         "x": [
          "C3"
         ],
         "xaxis": "x",
         "y": [
          346
         ],
         "yaxis": "y"
        },
        {
         "marker": {
          "color": "#3B9886"
         },
         "name": "Total cells (cluster 4)",
         "showlegend": false,
         "type": "bar",
         "x": [
          "C4"
         ],
         "xaxis": "x",
         "y": [
          204
         ],
         "yaxis": "y"
        },
        {
         "marker": {
          "color": "#C85152"
         },
         "name": "Total cells (cluster 5)",
         "showlegend": false,
         "type": "bar",
         "x": [
          "C5"
         ],
         "xaxis": "x",
         "y": [
          203
         ],
         "yaxis": "y"
        },
        {
         "marker": {
          "color": "#73B5E3"
         },
         "name": "Total cells (cluster 6)",
         "showlegend": false,
         "type": "bar",
         "x": [
          "C6"
         ],
         "xaxis": "x",
         "y": [
          131
         ],
         "yaxis": "y"
        },
        {
         "marker": {
          "color": "#FFB984"
         },
         "name": "Total cells (cluster 7)",
         "showlegend": false,
         "type": "bar",
         "x": [
          "C7"
         ],
         "xaxis": "x",
         "y": [
          95
         ],
         "yaxis": "y"
        },
        {
         "marker": {
          "color": "#F5E4BE"
         },
         "name": "Total cells (cluster 8)",
         "showlegend": false,
         "type": "bar",
         "x": [
          "C8"
         ],
         "xaxis": "x",
         "y": [
          92
         ],
         "yaxis": "y"
        },
        {
         "marker": {
          "color": "#BABEE0"
         },
         "name": "Total cells (cluster 9)",
         "showlegend": false,
         "type": "bar",
         "x": [
          "C9"
         ],
         "xaxis": "x",
         "y": [
          79
         ],
         "yaxis": "y"
        },
        {
         "marker": {
          "color": "#5088C5"
         },
         "name": "Expressing cells (cluster 0)",
         "showlegend": false,
         "type": "bar",
         "x": [
          "C0"
         ],
         "xaxis": "x2",
         "y": [
          0.6856540084388186
         ],
         "yaxis": "y2"
        },
        {
         "marker": {
          "color": "#E6EAED"
         },
         "name": "Non-expressing cells",
         "showlegend": false,
         "type": "bar",
         "x": [
          "C0"
         ],
         "xaxis": "x2",
         "y": [
          99.31434599156118
         ],
         "yaxis": "y2"
        },
        {
         "marker": {
          "color": "#F28360"
         },
         "name": "Expressing cells (cluster 1)",
         "showlegend": false,
         "type": "bar",
         "x": [
          "C1"
         ],
         "xaxis": "x2",
         "y": [
          13.229571984435799
         ],
         "yaxis": "y2"
        },
        {
         "marker": {
          "color": "#E6EAED"
         },
         "name": "Non-expressing cells",
         "showlegend": false,
         "type": "bar",
         "x": [
          "C1"
         ],
         "xaxis": "x2",
         "y": [
          86.7704280155642
         ],
         "yaxis": "y2"
        },
        {
         "marker": {
          "color": "#F7B846"
         },
         "name": "Expressing cells (cluster 10)",
         "showlegend": false,
         "type": "bar",
         "x": [
          "C10"
         ],
         "xaxis": "x2",
         "y": [
          14.0625
         ],
         "yaxis": "y2"
        },
        {
         "marker": {
          "color": "#E6EAED"
         },
         "name": "Non-expressing cells",
         "showlegend": false,
         "type": "bar",
         "x": [
          "C10"
         ],
         "xaxis": "x2",
         "y": [
          85.9375
         ],
         "yaxis": "y2"
        },
        {
         "marker": {
          "color": "#97CD78"
         },
         "name": "Expressing cells (cluster 11)",
         "showlegend": false,
         "type": "bar",
         "x": [
          "C11"
         ],
         "xaxis": "x2",
         "y": [
          8.771929824561402
         ],
         "yaxis": "y2"
        },
        {
         "marker": {
          "color": "#E6EAED"
         },
         "name": "Non-expressing cells",
         "showlegend": false,
         "type": "bar",
         "x": [
          "C11"
         ],
         "xaxis": "x2",
         "y": [
          91.22807017543859
         ],
         "yaxis": "y2"
        },
        {
         "marker": {
          "color": "#7A77AB"
         },
         "name": "Expressing cells (cluster 2)",
         "showlegend": false,
         "type": "bar",
         "x": [
          "C2"
         ],
         "xaxis": "x2",
         "y": [
          4.147465437788019
         ],
         "yaxis": "y2"
        },
        {
         "marker": {
          "color": "#E6EAED"
         },
         "name": "Non-expressing cells",
         "showlegend": false,
         "type": "bar",
         "x": [
          "C2"
         ],
         "xaxis": "x2",
         "y": [
          95.85253456221197
         ],
         "yaxis": "y2"
        },
        {
         "marker": {
          "color": "#F898AE"
         },
         "name": "Expressing cells (cluster 3)",
         "showlegend": false,
         "type": "bar",
         "x": [
          "C3"
         ],
         "xaxis": "x2",
         "y": [
          14.16184971098266
         ],
         "yaxis": "y2"
        },
        {
         "marker": {
          "color": "#E6EAED"
         },
         "name": "Non-expressing cells",
         "showlegend": false,
         "type": "bar",
         "x": [
          "C3"
         ],
         "xaxis": "x2",
         "y": [
          85.83815028901735
         ],
         "yaxis": "y2"
        },
        {
         "marker": {
          "color": "#3B9886"
         },
         "name": "Expressing cells (cluster 4)",
         "showlegend": false,
         "type": "bar",
         "x": [
          "C4"
         ],
         "xaxis": "x2",
         "y": [
          11.27450980392157
         ],
         "yaxis": "y2"
        },
        {
         "marker": {
          "color": "#E6EAED"
         },
         "name": "Non-expressing cells",
         "showlegend": false,
         "type": "bar",
         "x": [
          "C4"
         ],
         "xaxis": "x2",
         "y": [
          88.72549019607843
         ],
         "yaxis": "y2"
        },
        {
         "marker": {
          "color": "#C85152"
         },
         "name": "Expressing cells (cluster 5)",
         "showlegend": false,
         "type": "bar",
         "x": [
          "C5"
         ],
         "xaxis": "x2",
         "y": [
          7.389162561576355
         ],
         "yaxis": "y2"
        },
        {
         "marker": {
          "color": "#E6EAED"
         },
         "name": "Non-expressing cells",
         "showlegend": false,
         "type": "bar",
         "x": [
          "C5"
         ],
         "xaxis": "x2",
         "y": [
          92.61083743842364
         ],
         "yaxis": "y2"
        },
        {
         "marker": {
          "color": "#73B5E3"
         },
         "name": "Expressing cells (cluster 6)",
         "showlegend": false,
         "type": "bar",
         "x": [
          "C6"
         ],
         "xaxis": "x2",
         "y": [
          3.0534351145038165
         ],
         "yaxis": "y2"
        },
        {
         "marker": {
          "color": "#E6EAED"
         },
         "name": "Non-expressing cells",
         "showlegend": false,
         "type": "bar",
         "x": [
          "C6"
         ],
         "xaxis": "x2",
         "y": [
          96.94656488549617
         ],
         "yaxis": "y2"
        },
        {
         "marker": {
          "color": "#FFB984"
         },
         "name": "Expressing cells (cluster 7)",
         "showlegend": false,
         "type": "bar",
         "x": [
          "C7"
         ],
         "xaxis": "x2",
         "y": [
          2.1052631578947367
         ],
         "yaxis": "y2"
        },
        {
         "marker": {
          "color": "#E6EAED"
         },
         "name": "Non-expressing cells",
         "showlegend": false,
         "type": "bar",
         "x": [
          "C7"
         ],
         "xaxis": "x2",
         "y": [
          97.89473684210527
         ],
         "yaxis": "y2"
        },
        {
         "marker": {
          "color": "#F5E4BE"
         },
         "name": "Expressing cells (cluster 8)",
         "showlegend": false,
         "type": "bar",
         "x": [
          "C8"
         ],
         "xaxis": "x2",
         "y": [
          6.521739130434782
         ],
         "yaxis": "y2"
        },
        {
         "marker": {
          "color": "#E6EAED"
         },
         "name": "Non-expressing cells",
         "showlegend": false,
         "type": "bar",
         "x": [
          "C8"
         ],
         "xaxis": "x2",
         "y": [
          93.47826086956522
         ],
         "yaxis": "y2"
        },
        {
         "marker": {
          "color": "#BABEE0"
         },
         "name": "Expressing cells (cluster 9)",
         "showlegend": false,
         "type": "bar",
         "x": [
          "C9"
         ],
         "xaxis": "x2",
         "y": [
          16.455696202531644
         ],
         "yaxis": "y2"
        },
        {
         "marker": {
          "color": "#E6EAED"
         },
         "name": "Non-expressing cells",
         "showlegend": false,
         "type": "bar",
         "x": [
          "C9"
         ],
         "xaxis": "x2",
         "y": [
          83.54430379746836
         ],
         "yaxis": "y2"
        },
        {
         "box": {
          "visible": true
         },
         "jitter": 0.3,
         "marker": {
          "color": "#5088C5"
         },
         "name": "0",
         "pointpos": 0,
         "points": "all",
         "showlegend": false,
         "type": "violin",
         "x": [
          "C0: unannotated_1(0.99)",
          "C0: unannotated_1(0.99)",
          "C0: unannotated_1(0.99)",
          "C0: unannotated_1(0.99)",
          "C0: unannotated_1(0.99)",
          "C0: unannotated_1(0.99)",
          "C0: unannotated_1(0.99)",
          "C0: unannotated_1(0.99)",
          "C0: unannotated_1(0.99)",
          "C0: unannotated_1(0.99)",
          "C0: unannotated_1(0.99)",
          "C0: unannotated_1(0.99)",
          "C0: unannotated_1(0.99)"
         ],
         "xaxis": "x3",
         "y": {
          "bdata": "t0DmpjhCDkAaYU5za60NQN1j3wAABw5A1HMz8nmlDUBZP7RFDkENQNPrwTSv/g1A3sTssURXDEBEXXsuCGEKQDAa/37F3Q1AXkw9hkiUDEDtCEFuZ/YNQOkK1HZojQxAwYkQ754oDkA=",
          "dtype": "f8"
         },
         "yaxis": "y3"
        },
        {
         "box": {
          "visible": true
         },
         "jitter": 0.3,
         "marker": {
          "color": "#F28360"
         },
         "name": "1",
         "pointpos": 0,
         "points": "all",
         "showlegend": false,
         "type": "violin",
         "x": [
          "C1: epidermis_1(0.89)",
          "C1: epidermis_1(0.89)",
          "C1: epidermis_1(0.89)",
          "C1: epidermis_1(0.89)",
          "C1: epidermis_1(0.89)",
          "C1: epidermis_1(0.89)",
          "C1: epidermis_1(0.89)",
          "C1: epidermis_1(0.89)",
          "C1: epidermis_1(0.89)",
          "C1: epidermis_1(0.89)",
          "C1: epidermis_1(0.89)",
          "C1: epidermis_1(0.89)",
          "C1: epidermis_1(0.89)",
          "C1: epidermis_1(0.89)",
          "C1: epidermis_1(0.89)",
          "C1: epidermis_1(0.89)",
          "C1: epidermis_1(0.89)",
          "C1: epidermis_1(0.89)",
          "C1: epidermis_1(0.89)",
          "C1: epidermis_1(0.89)",
          "C1: epidermis_1(0.89)",
          "C1: epidermis_1(0.89)",
          "C1: epidermis_1(0.89)",
          "C1: epidermis_1(0.89)",
          "C1: epidermis_1(0.89)",
          "C1: epidermis_1(0.89)",
          "C1: epidermis_1(0.89)",
          "C1: epidermis_1(0.89)",
          "C1: epidermis_1(0.89)",
          "C1: epidermis_1(0.89)",
          "C1: epidermis_1(0.89)",
          "C1: epidermis_1(0.89)",
          "C1: epidermis_1(0.89)",
          "C1: epidermis_1(0.89)",
          "C1: epidermis_1(0.89)",
          "C1: epidermis_1(0.89)",
          "C1: epidermis_1(0.89)",
          "C1: epidermis_1(0.89)",
          "C1: epidermis_1(0.89)",
          "C1: epidermis_1(0.89)",
          "C1: epidermis_1(0.89)",
          "C1: epidermis_1(0.89)",
          "C1: epidermis_1(0.89)",
          "C1: epidermis_1(0.89)",
          "C1: epidermis_1(0.89)",
          "C1: epidermis_1(0.89)",
          "C1: epidermis_1(0.89)",
          "C1: epidermis_1(0.89)",
          "C1: epidermis_1(0.89)",
          "C1: epidermis_1(0.89)",
          "C1: epidermis_1(0.89)",
          "C1: epidermis_1(0.89)",
          "C1: epidermis_1(0.89)",
          "C1: epidermis_1(0.89)",
          "C1: epidermis_1(0.89)",
          "C1: epidermis_1(0.89)",
          "C1: epidermis_1(0.89)",
          "C1: epidermis_1(0.89)",
          "C1: epidermis_1(0.89)",
          "C1: epidermis_1(0.89)",
          "C1: epidermis_1(0.89)",
          "C1: epidermis_1(0.89)",
          "C1: epidermis_1(0.89)",
          "C1: epidermis_1(0.89)",
          "C1: epidermis_1(0.89)",
          "C1: epidermis_1(0.89)",
          "C1: epidermis_1(0.89)",
          "C1: epidermis_1(0.89)",
          "C1: epidermis_1(0.89)",
          "C1: epidermis_1(0.89)",
          "C1: epidermis_1(0.89)",
          "C1: epidermis_1(0.89)",
          "C1: epidermis_1(0.89)",
          "C1: epidermis_1(0.89)",
          "C1: epidermis_1(0.89)",
          "C1: epidermis_1(0.89)",
          "C1: epidermis_1(0.89)",
          "C1: epidermis_1(0.89)",
          "C1: epidermis_1(0.89)",
          "C1: epidermis_1(0.89)",
          "C1: epidermis_1(0.89)",
          "C1: epidermis_1(0.89)",
          "C1: epidermis_1(0.89)",
          "C1: epidermis_1(0.89)",
          "C1: epidermis_1(0.89)",
          "C1: epidermis_1(0.89)",
          "C1: epidermis_1(0.89)",
          "C1: epidermis_1(0.89)",
          "C1: epidermis_1(0.89)",
          "C1: epidermis_1(0.89)",
          "C1: epidermis_1(0.89)",
          "C1: epidermis_1(0.89)",
          "C1: epidermis_1(0.89)",
          "C1: epidermis_1(0.89)",
          "C1: epidermis_1(0.89)",
          "C1: epidermis_1(0.89)",
          "C1: epidermis_1(0.89)",
          "C1: epidermis_1(0.89)",
          "C1: epidermis_1(0.89)",
          "C1: epidermis_1(0.89)",
          "C1: epidermis_1(0.89)",
          "C1: epidermis_1(0.89)"
         ],
         "xaxis": "x3",
         "y": {
          "bdata": "WeIzn0Hg8D8Z9zQ7Nq/qP5xnTr6KJvQ/gjujY1LJ6T8YOHa57x3sP20eq+eJ/uk/Gx5rku1x8z89vap1xybtP8X2bci6svE/OTm+Cjfx8j/eHDya4cvwP2PlpQPO2fQ/RuIbNwLF6j8oN0otHP/2P3DpfEkIq+w/cCNpT5fB7D+DWFIfZFP0P2s/FTk9WfE/CxJzWvef8T/eHjTWNOX5P4tkMGgG5fU/Jjh1ga8h7T9uZQag5zP0P/K/3BLLNPc/myQ9FQnY6D909uvOecf+P/aPo2Ukaek//htRBTPI6T8J4Ka7St/pP3VpjgH5iek/cfzAyM+Y7D/OWImygpH1P+Uv36WWQOk/6yAMgNNR6T+4ST9Cv4D0Pw1Nabzomuw/1D+497m48z+WELQmRnzsP39yUTjsPPA/6SdfPl5m7z9jRuYPzkPqP2za0b9VAus/OtN5la4k8j+f3Ra1UFjpP78JOqeCKOk/qqRT3HHK6T9edclSJU7sP450vv2+Tus/aZFIYheJ9z+uKv6UyGDtP3z96JGN/vM/PVVu4A8l9D9zdKuY1fjpP/PO1GAWKug/oIFHGwsp6T9+nHtJxQnsPw0C28sKquk/RgghlWlW9D+qPmm6tg/qP6tGmEJPFOo/+PZaM5yG6D/ajTrmRTfzP2Dn5xoas+s/7uvUKa1V7D/S6zSSVpPpP5Jg1UIhzOk//1ABrjBo6z+sxxtB8krrPxc+bhTFnPU/2TQZ/o8k6z93bfTarYzoP1W0VMYTOek/J4ZmbK866T8lA7K0pbTqP7isDT7HHu0/s/cyx48f6z8oYQAXaALsPyyf8wJzZeg/85E6QQPe6j/uNclI3JjpPy0HlchZS+k/cjc/WNbF7D+3TKEKRsTpP2lOQK4Mae4/w460dE1t6z8YOHa57x3sP30ca4qqT+k/3iznU+Oa6D+HTiS2ZPzrP2vBe3rs++c/p0tuD5AY6T/FTXRYKd7pP60WdSMDe+g/ae/mDwjd6T8AJtMeQjTpP+rA7l5X9+g/2N8VzSbb6D+calxbXCXsP0EOBkZzYvU/UHRAlnMX6z8WO6PAncXqP5Ykx5eVMek/",
          "dtype": "f8"
         },
         "yaxis": "y3"
        },
        {
         "box": {
          "visible": true
         },
         "jitter": 0.3,
         "marker": {
          "color": "#F7B846"
         },
         "name": "10",
         "pointpos": 0,
         "points": "all",
         "showlegend": false,
         "type": "violin",
         "x": [
          "C10: germ(0.81)",
          "C10: germ(0.81)",
          "C10: germ(0.81)",
          "C10: germ(0.81)",
          "C10: germ(0.81)",
          "C10: germ(0.81)",
          "C10: germ(0.81)",
          "C10: germ(0.81)",
          "C10: germ(0.81)"
         ],
         "xaxis": "x3",
         "y": {
          "bdata": "0T9srIZLB0Dm9gyryW/yP46La+tx4vI/SBoscZWH8j/zD46HQdfzP59F+I3N7PM/DhS5XTev8j/x3eo4UebzPxFvkehDDfw/",
          "dtype": "f8"
         },
         "yaxis": "y3"
        },
        {
         "box": {
          "visible": true
         },
         "jitter": 0.3,
         "marker": {
          "color": "#97CD78"
         },
         "name": "11",
         "pointpos": 0,
         "points": "all",
         "showlegend": false,
         "type": "violin",
         "x": [
          "C11: nervous-system_3(0.89)",
          "C11: nervous-system_3(0.89)",
          "C11: nervous-system_3(0.89)",
          "C11: nervous-system_3(0.89)",
          "C11: nervous-system_3(0.89)"
         ],
         "xaxis": "x3",
         "y": {
          "bdata": "3I4/nUtR8T95nWcQLDrxP6+Q1Ii+IvM/i0C3BRVa8D+QrWFZxtPyPw==",
          "dtype": "f8"
         },
         "yaxis": "y3"
        },
        {
         "box": {
          "visible": true
         },
         "jitter": 0.3,
         "marker": {
          "color": "#7A77AB"
         },
         "name": "2",
         "pointpos": 0,
         "points": "all",
         "showlegend": false,
         "type": "violin",
         "x": [
          "C2: epidermis_2(0.38)+nervous-system(0.3)",
          "C2: epidermis_2(0.38)+nervous-system(0.3)",
          "C2: epidermis_2(0.38)+nervous-system(0.3)",
          "C2: epidermis_2(0.38)+nervous-system(0.3)",
          "C2: epidermis_2(0.38)+nervous-system(0.3)",
          "C2: epidermis_2(0.38)+nervous-system(0.3)",
          "C2: epidermis_2(0.38)+nervous-system(0.3)",
          "C2: epidermis_2(0.38)+nervous-system(0.3)",
          "C2: epidermis_2(0.38)+nervous-system(0.3)",
          "C2: epidermis_2(0.38)+nervous-system(0.3)",
          "C2: epidermis_2(0.38)+nervous-system(0.3)",
          "C2: epidermis_2(0.38)+nervous-system(0.3)",
          "C2: epidermis_2(0.38)+nervous-system(0.3)",
          "C2: epidermis_2(0.38)+nervous-system(0.3)",
          "C2: epidermis_2(0.38)+nervous-system(0.3)",
          "C2: epidermis_2(0.38)+nervous-system(0.3)",
          "C2: epidermis_2(0.38)+nervous-system(0.3)",
          "C2: epidermis_2(0.38)+nervous-system(0.3)"
         ],
         "xaxis": "x3",
         "y": {
          "bdata": "QGlVjjqk/T/WW+VsBukLQEmKxzfmo/4/dGkt8WHP+j8i5xJJe8b8P7p0GLHBPAxAh+DwRGSS8D8Y3esXj7b4P/4NRNYnsfY/Xu0woc4RAUBWYieUAG/2P6LEJzYwCwJATWl0HchV+D+BH66i8JEAQLhNFaPmLfo/CIZ7pcNV9z//feyAdE36P8Z2k/Si3v8/",
          "dtype": "f8"
         },
         "yaxis": "y3"
        },
        {
         "box": {
          "visible": true
         },
         "jitter": 0.3,
         "marker": {
          "color": "#F898AE"
         },
         "name": "3",
         "pointpos": 0,
         "points": "all",
         "showlegend": false,
         "type": "violin",
         "x": [
          "C3: nervous-system_1(0.82)",
          "C3: nervous-system_1(0.82)",
          "C3: nervous-system_1(0.82)",
          "C3: nervous-system_1(0.82)",
          "C3: nervous-system_1(0.82)",
          "C3: nervous-system_1(0.82)",
          "C3: nervous-system_1(0.82)",
          "C3: nervous-system_1(0.82)",
          "C3: nervous-system_1(0.82)",
          "C3: nervous-system_1(0.82)",
          "C3: nervous-system_1(0.82)",
          "C3: nervous-system_1(0.82)",
          "C3: nervous-system_1(0.82)",
          "C3: nervous-system_1(0.82)",
          "C3: nervous-system_1(0.82)",
          "C3: nervous-system_1(0.82)",
          "C3: nervous-system_1(0.82)",
          "C3: nervous-system_1(0.82)",
          "C3: nervous-system_1(0.82)",
          "C3: nervous-system_1(0.82)",
          "C3: nervous-system_1(0.82)",
          "C3: nervous-system_1(0.82)",
          "C3: nervous-system_1(0.82)",
          "C3: nervous-system_1(0.82)",
          "C3: nervous-system_1(0.82)",
          "C3: nervous-system_1(0.82)",
          "C3: nervous-system_1(0.82)",
          "C3: nervous-system_1(0.82)",
          "C3: nervous-system_1(0.82)",
          "C3: nervous-system_1(0.82)",
          "C3: nervous-system_1(0.82)",
          "C3: nervous-system_1(0.82)",
          "C3: nervous-system_1(0.82)",
          "C3: nervous-system_1(0.82)",
          "C3: nervous-system_1(0.82)",
          "C3: nervous-system_1(0.82)",
          "C3: nervous-system_1(0.82)",
          "C3: nervous-system_1(0.82)",
          "C3: nervous-system_1(0.82)",
          "C3: nervous-system_1(0.82)",
          "C3: nervous-system_1(0.82)",
          "C3: nervous-system_1(0.82)",
          "C3: nervous-system_1(0.82)",
          "C3: nervous-system_1(0.82)",
          "C3: nervous-system_1(0.82)",
          "C3: nervous-system_1(0.82)",
          "C3: nervous-system_1(0.82)",
          "C3: nervous-system_1(0.82)",
          "C3: nervous-system_1(0.82)"
         ],
         "xaxis": "x3",
         "y": {
          "bdata": "9izoZIbN6j+F5AYeyLn6Pwdtl4myuuo/nxDIqQOW9D9qEmqu9mLwPyd/9LvCB+w/G3Sp9Bws8T8nhpr3AtPqP134DVDLDew/2aXR7pqS6z/Zsqko/GTzPyW7ZxFCvOs/SqIPY4EO6T/r3kysvsrtP64nKyvz9O0/BC3LY5T09z826I7TT6PsP8+9FIQDU+o/KTvE27HH7T+/FIETC2DtP90PmAbZge4/noePHBMY6z8MiqFSgm3qP/QIuCKCo+8/W/MvsBzz9j9f9niGh07vPzV4+KrRpuw/9T+3lkPJ6j9z0n94ZPTrP70oJs1o0vY/xw3vamsu7z8c4+wib/HpP78lKVvUce4/ggjMkBaW8z+cCpy5dHnzP50LfnXCneo/g8dafnmz7D/DpsClfS/2P7jm+twYB/E/n99LC+3M7D9jUR6Sqrz1P1ODHsjCF+o/t1BHbI++7T8z8vEpsTnsP1TBGdy/wPY/l0sb7HbF8D+geuL0lKjuP6/O0C5a7fI/j8Yr1T7o9D8=",
          "dtype": "f8"
         },
         "yaxis": "y3"
        },
        {
         "box": {
          "visible": true
         },
         "jitter": 0.3,
         "marker": {
          "color": "#3B9886"
         },
         "name": "4",
         "pointpos": 0,
         "points": "all",
         "showlegend": false,
         "type": "violin",
         "x": [
          "C4: notochord(0.71)",
          "C4: notochord(0.71)",
          "C4: notochord(0.71)",
          "C4: notochord(0.71)",
          "C4: notochord(0.71)",
          "C4: notochord(0.71)",
          "C4: notochord(0.71)",
          "C4: notochord(0.71)",
          "C4: notochord(0.71)",
          "C4: notochord(0.71)",
          "C4: notochord(0.71)",
          "C4: notochord(0.71)",
          "C4: notochord(0.71)",
          "C4: notochord(0.71)",
          "C4: notochord(0.71)",
          "C4: notochord(0.71)",
          "C4: notochord(0.71)",
          "C4: notochord(0.71)",
          "C4: notochord(0.71)",
          "C4: notochord(0.71)",
          "C4: notochord(0.71)",
          "C4: notochord(0.71)",
          "C4: notochord(0.71)"
         ],
         "xaxis": "x3",
         "y": {
          "bdata": "OgESp7gE7T/G//F23IrsP1SD2mXlJfE/OyAy+EOp8z9C95FuNTf1P7xpcN2rBus/GzGIkAR29T8Rn8YGSd3sP5sKW+fUWvE/JFvgXeaO+T8urd3CMo7oPxY7o8Cdxeo/O7qpOlpd6z9rUJ05pVrqP0cACLuyy+o/UftqQbAF8D/CvHxPkTftP9eRopW67+k/dEI022+86T9+3aj1muj1P+h8AoFL0eg/TjSJc3wA8T9+XID9l/bqPw==",
          "dtype": "f8"
         },
         "yaxis": "y3"
        },
        {
         "box": {
          "visible": true
         },
         "jitter": 0.3,
         "marker": {
          "color": "#C85152"
         },
         "name": "5",
         "pointpos": 0,
         "points": "all",
         "showlegend": false,
         "type": "violin",
         "x": [
          "C5: nervous-system_2(0.92)",
          "C5: nervous-system_2(0.92)",
          "C5: nervous-system_2(0.92)",
          "C5: nervous-system_2(0.92)",
          "C5: nervous-system_2(0.92)",
          "C5: nervous-system_2(0.92)",
          "C5: nervous-system_2(0.92)",
          "C5: nervous-system_2(0.92)",
          "C5: nervous-system_2(0.92)",
          "C5: nervous-system_2(0.92)",
          "C5: nervous-system_2(0.92)",
          "C5: nervous-system_2(0.92)",
          "C5: nervous-system_2(0.92)",
          "C5: nervous-system_2(0.92)",
          "C5: nervous-system_2(0.92)"
         ],
         "xaxis": "x3",
         "y": {
          "bdata": "591FoI4N9T/VI4nm0i3wP+2dDbBek/E/f3L4gThp8T8mIXJK627vP9snNLQ7W+o/N+e8kxg48j9iWtYp/4H2P28UFGg3zOw/BE19M3RU6z89h+gBa4nqP3kVwUPHTOw/Rnl7MgGD7T9d2AE0ddz9P+0KYTr43fI/",
          "dtype": "f8"
         },
         "yaxis": "y3"
        },
        {
         "box": {
          "visible": true
         },
         "jitter": 0.3,
         "marker": {
          "color": "#73B5E3"
         },
         "name": "6",
         "pointpos": 0,
         "points": "all",
         "showlegend": false,
         "type": "violin",
         "x": [
          "C6: muscle-heart(0.95)",
          "C6: muscle-heart(0.95)",
          "C6: muscle-heart(0.95)",
          "C6: muscle-heart(0.95)"
         ],
         "xaxis": "x3",
         "y": {
          "bdata": "ttXLE2ES+T/Gd6tVNYv3PzO5K469y/s/gZ+wP4CWA0A=",
          "dtype": "f8"
         },
         "yaxis": "y3"
        },
        {
         "box": {
          "visible": true
         },
         "jitter": 0.3,
         "marker": {
          "color": "#FFB984"
         },
         "name": "7",
         "pointpos": 0,
         "points": "all",
         "showlegend": false,
         "type": "violin",
         "x": [
          "C7: unannotated_2(0.97)",
          "C7: unannotated_2(0.97)"
         ],
         "xaxis": "x3",
         "y": {
          "bdata": "/Y/e2cJuDUCBkRoZmLAJQA==",
          "dtype": "f8"
         },
         "yaxis": "y3"
        },
        {
         "box": {
          "visible": true
         },
         "jitter": 0.3,
         "marker": {
          "color": "#F5E4BE"
         },
         "name": "8",
         "pointpos": 0,
         "points": "all",
         "showlegend": false,
         "type": "violin",
         "x": [
          "C8: endoderm(0.79)",
          "C8: endoderm(0.79)",
          "C8: endoderm(0.79)",
          "C8: endoderm(0.79)",
          "C8: endoderm(0.79)",
          "C8: endoderm(0.79)"
         ],
         "xaxis": "x3",
         "y": {
          "bdata": "h2n/sYbB8D+LdWz+Pz3oPyHJBbY9/+o/ifvNOcnm5z81iY4HnqTyP3BxfFCmOfE/",
          "dtype": "f8"
         },
         "yaxis": "y3"
        },
        {
         "box": {
          "visible": true
         },
         "jitter": 0.3,
         "marker": {
          "color": "#BABEE0"
         },
         "name": "9",
         "pointpos": 0,
         "points": "all",
         "showlegend": false,
         "type": "violin",
         "x": [
          "C9: mesenchyme(0.65)",
          "C9: mesenchyme(0.65)",
          "C9: mesenchyme(0.65)",
          "C9: mesenchyme(0.65)",
          "C9: mesenchyme(0.65)",
          "C9: mesenchyme(0.65)",
          "C9: mesenchyme(0.65)",
          "C9: mesenchyme(0.65)",
          "C9: mesenchyme(0.65)",
          "C9: mesenchyme(0.65)",
          "C9: mesenchyme(0.65)",
          "C9: mesenchyme(0.65)",
          "C9: mesenchyme(0.65)"
         ],
         "xaxis": "x3",
         "y": {
          "bdata": "hz89rk/C8T/i8J4OpC7zP8sgjI82u/Q/jnS+/b5O6z8kon9AUhnrPxpMqAaJ5vk/KD8WlTO66T+FqJ74VfHnP14f6T2HL+0/CDI/Lsca8D/JIchbPbnyP4c3YDhY3+4/cI0IVk/D8j8=",
          "dtype": "f8"
         },
         "yaxis": "y3"
        }
       ],
       "layout": {
        "annotations": [
         {
          "font": {
           "family": "SuisseIntl-SemiBold",
           "size": 16
          },
          "showarrow": false,
          "text": "Expression of <i>NAXE</i> (H2Y1D7) at iniG",
          "x": 0.5,
          "xref": "paper",
          "y": 1.05,
          "yref": "paper"
         },
         {
          "font": {
           "family": "SuisseIntl-SemiBold",
           "size": 14
          },
          "showarrow": false,
          "text": "# cells",
          "textangle": -90,
          "x": -0.12,
          "xref": "paper",
          "y": 0.5,
          "yref": "y domain"
         },
         {
          "font": {
           "family": "SuisseIntl-SemiBold",
           "size": 14
          },
          "showarrow": false,
          "text": "% expr.",
          "textangle": -90,
          "x": -0.12,
          "xref": "paper",
          "y": 0.5,
          "yref": "y2 domain"
         },
         {
          "font": {
           "family": "SuisseIntl-SemiBold",
           "size": 14
          },
          "showarrow": false,
          "text": "NAXE (KY21.Chr3.344)",
          "textangle": -90,
          "x": -0.12,
          "xref": "paper",
          "y": 0.5,
          "yref": "y3 domain"
         }
        ],
        "barmode": "stack",
        "height": 700,
        "margin": {
         "t": 40
        },
        "template": {
         "layout": {
          "bargap": 0.2,
          "coloraxis": {
           "colorbar": {
            "outlinecolor": "white",
            "thickness": 15,
            "tickfont": {
             "family": "SuisseIntlMono",
             "size": 14.5
            },
            "ticks": "outside",
            "title": {
             "font": {
              "family": "SuisseIntl-SemiBold",
              "size": 15
             },
             "side": "right"
            }
           }
          },
          "colorscale": {
           "diverging": [
            [
             0,
             "#964222"
            ],
            [
             0.00392156862745098,
             "#974323"
            ],
            [
             0.00784313725490196,
             "#984424"
            ],
            [
             0.011764705882352941,
             "#994625"
            ],
            [
             0.01568627450980392,
             "#9a4726"
            ],
            [
             0.0196078431372549,
             "#9b4827"
            ],
            [
             0.023529411764705882,
             "#9c4928"
            ],
            [
             0.027450980392156862,
             "#9e4b29"
            ],
            [
             0.03137254901960784,
             "#9f4c2a"
            ],
            [
             0.03529411764705882,
             "#a04d2b"
            ],
            [
             0.0392156862745098,
             "#a14e2c"
            ],
            [
             0.043137254901960784,
             "#a24f2d"
            ],
            [
             0.047058823529411764,
             "#a3512e"
            ],
            [
             0.050980392156862744,
             "#a4522f"
            ],
            [
             0.054901960784313725,
             "#a55330"
            ],
            [
             0.058823529411764705,
             "#a65431"
            ],
            [
             0.06274509803921569,
             "#a75632"
            ],
            [
             0.06666666666666667,
             "#a85733"
            ],
            [
             0.07058823529411765,
             "#a95834"
            ],
            [
             0.07450980392156863,
             "#ab5935"
            ],
            [
             0.0784313725490196,
             "#ac5b36"
            ],
            [
             0.08235294117647059,
             "#ad5c37"
            ],
            [
             0.08627450980392157,
             "#ae5d38"
            ],
            [
             0.09019607843137255,
             "#af5e39"
            ],
            [
             0.09411764705882353,
             "#b05f3a"
            ],
            [
             0.09803921568627451,
             "#b1613b"
            ],
            [
             0.10196078431372549,
             "#b2623c"
            ],
            [
             0.10588235294117647,
             "#b3633d"
            ],
            [
             0.10980392156862745,
             "#b4643e"
            ],
            [
             0.11372549019607843,
             "#b5663f"
            ],
            [
             0.11764705882352941,
             "#b66740"
            ],
            [
             0.12156862745098039,
             "#b86841"
            ],
            [
             0.12549019607843137,
             "#b96942"
            ],
            [
             0.12941176470588237,
             "#ba6a43"
            ],
            [
             0.13333333333333333,
             "#bb6c44"
            ],
            [
             0.13725490196078433,
             "#bc6d45"
            ],
            [
             0.1411764705882353,
             "#bd6e46"
            ],
            [
             0.1450980392156863,
             "#be6f47"
            ],
            [
             0.14901960784313725,
             "#bf7148"
            ],
            [
             0.15294117647058825,
             "#c07249"
            ],
            [
             0.1568627450980392,
             "#c1734a"
            ],
            [
             0.1607843137254902,
             "#c2744b"
            ],
            [
             0.16470588235294117,
             "#c3764c"
            ],
            [
             0.16862745098039217,
             "#c5774d"
            ],
            [
             0.17254901960784313,
             "#c6784e"
            ],
            [
             0.17647058823529413,
             "#c7794f"
            ],
            [
             0.1803921568627451,
             "#c87a50"
            ],
            [
             0.1843137254901961,
             "#c97c51"
            ],
            [
             0.18823529411764706,
             "#ca7d52"
            ],
            [
             0.19215686274509805,
             "#cb7e53"
            ],
            [
             0.19607843137254902,
             "#cc7f55"
            ],
            [
             0.2,
             "#cd8156"
            ],
            [
             0.20392156862745098,
             "#ce8257"
            ],
            [
             0.20784313725490197,
             "#cf8358"
            ],
            [
             0.21176470588235294,
             "#d08459"
            ],
            [
             0.21568627450980393,
             "#d2855a"
            ],
            [
             0.2196078431372549,
             "#d3875b"
            ],
            [
             0.2235294117647059,
             "#d4885c"
            ],
            [
             0.22745098039215686,
             "#d5895d"
            ],
            [
             0.23137254901960785,
             "#d68a5e"
            ],
            [
             0.23529411764705882,
             "#d78c5f"
            ],
            [
             0.23921568627450981,
             "#d88d60"
            ],
            [
             0.24313725490196078,
             "#d98e61"
            ],
            [
             0.24705882352941178,
             "#da8f62"
            ],
            [
             0.25098039215686274,
             "#db9063"
            ],
            [
             0.2549019607843137,
             "#dc9264"
            ],
            [
             0.25882352941176473,
             "#dd9365"
            ],
            [
             0.2627450980392157,
             "#df9466"
            ],
            [
             0.26666666666666666,
             "#e09567"
            ],
            [
             0.27058823529411763,
             "#e19768"
            ],
            [
             0.27450980392156865,
             "#e29869"
            ],
            [
             0.2784313725490196,
             "#e3996a"
            ],
            [
             0.2823529411764706,
             "#e49a6b"
            ],
            [
             0.28627450980392155,
             "#e59c6c"
            ],
            [
             0.2901960784313726,
             "#e69d6d"
            ],
            [
             0.29411764705882354,
             "#e79e6e"
            ],
            [
             0.2980392156862745,
             "#e89f6f"
            ],
            [
             0.30196078431372547,
             "#e9a070"
            ],
            [
             0.3058823529411765,
             "#eaa271"
            ],
            [
             0.30980392156862746,
             "#eba372"
            ],
            [
             0.3137254901960784,
             "#eda473"
            ],
            [
             0.3176470588235294,
             "#eea574"
            ],
            [
             0.3215686274509804,
             "#efa775"
            ],
            [
             0.3254901960784314,
             "#f0a876"
            ],
            [
             0.32941176470588235,
             "#f1a977"
            ],
            [
             0.3333333333333333,
             "#f2aa78"
            ],
            [
             0.33725490196078434,
             "#f3ab79"
            ],
            [
             0.3411764705882353,
             "#f4ad7a"
            ],
            [
             0.34509803921568627,
             "#f5ae7b"
            ],
            [
             0.34901960784313724,
             "#f6af7c"
            ],
            [
             0.35294117647058826,
             "#f7b07d"
            ],
            [
             0.3568627450980392,
             "#f8b27e"
            ],
            [
             0.3607843137254902,
             "#fab37f"
            ],
            [
             0.36470588235294116,
             "#fbb480"
            ],
            [
             0.3686274509803922,
             "#fcb581"
            ],
            [
             0.37254901960784315,
             "#fdb782"
            ],
            [
             0.3764705882352941,
             "#feb883"
            ],
            [
             0.3803921568627451,
             "#ffb984"
            ],
            [
             0.3843137254901961,
             "#ffbb87"
            ],
            [
             0.38823529411764707,
             "#ffbd8b"
            ],
            [
             0.39215686274509803,
             "#febf8f"
            ],
            [
             0.396078431372549,
             "#fec192"
            ],
            [
             0.4,
             "#fec396"
            ],
            [
             0.403921568627451,
             "#fec599"
            ],
            [
             0.40784313725490196,
             "#fdc69d"
            ],
            [
             0.4117647058823529,
             "#fdc8a1"
            ],
            [
             0.41568627450980394,
             "#fdcaa4"
            ],
            [
             0.4196078431372549,
             "#fdcca8"
            ],
            [
             0.4235294117647059,
             "#fcceab"
            ],
            [
             0.42745098039215684,
             "#fcd0af"
            ],
            [
             0.43137254901960786,
             "#fcd2b2"
            ],
            [
             0.43529411764705883,
             "#fcd4b6"
            ],
            [
             0.4392156862745098,
             "#fcd6ba"
            ],
            [
             0.44313725490196076,
             "#fbd8bd"
            ],
            [
             0.4470588235294118,
             "#fbdac1"
            ],
            [
             0.45098039215686275,
             "#fbdcc4"
            ],
            [
             0.4549019607843137,
             "#fbdec8"
            ],
            [
             0.4588235294117647,
             "#fae0cb"
            ],
            [
             0.4627450980392157,
             "#fae2cf"
            ],
            [
             0.4666666666666667,
             "#fae4d3"
            ],
            [
             0.47058823529411764,
             "#fae5d6"
            ],
            [
             0.4745098039215686,
             "#f9e7da"
            ],
            [
             0.47843137254901963,
             "#f9e9dd"
            ],
            [
             0.4823529411764706,
             "#f9ebe1"
            ],
            [
             0.48627450980392156,
             "#f9ede4"
            ],
            [
             0.49019607843137253,
             "#f9efe8"
            ],
            [
             0.49411764705882355,
             "#f8f1ec"
            ],
            [
             0.4980392156862745,
             "#f8f3ef"
            ],
            [
             0.5019607843137255,
             "#f6faee"
            ],
            [
             0.5058823529411764,
             "#f5f9ed"
            ],
            [
             0.5098039215686274,
             "#f3f8eb"
            ],
            [
             0.5137254901960784,
             "#f2f6e9"
            ],
            [
             0.5176470588235295,
             "#f1f5e8"
            ],
            [
             0.5215686274509804,
             "#eff4e6"
            ],
            [
             0.5254901960784314,
             "#eef2e4"
            ],
            [
             0.5294117647058824,
             "#ecf1e3"
            ],
            [
             0.5333333333333333,
             "#ebf0e1"
            ],
            [
             0.5372549019607843,
             "#e9eedf"
            ],
            [
             0.5411764705882353,
             "#e8edde"
            ],
            [
             0.5450980392156862,
             "#e6ecdc"
            ],
            [
             0.5490196078431373,
             "#e5eadb"
            ],
            [
             0.5529411764705883,
             "#e4e9d9"
            ],
            [
             0.5568627450980392,
             "#e2e8d7"
            ],
            [
             0.5607843137254902,
             "#e1e6d6"
            ],
            [
             0.5647058823529412,
             "#dfe5d4"
            ],
            [
             0.5686274509803921,
             "#dee4d2"
            ],
            [
             0.5725490196078431,
             "#dce2d1"
            ],
            [
             0.5764705882352941,
             "#dbe1cf"
            ],
            [
             0.5803921568627451,
             "#d9e0cd"
            ],
            [
             0.5843137254901961,
             "#d8decc"
            ],
            [
             0.5882352941176471,
             "#d7ddca"
            ],
            [
             0.592156862745098,
             "#d5dcc8"
            ],
            [
             0.596078431372549,
             "#d4dac7"
            ],
            [
             0.6,
             "#d2d9c5"
            ],
            [
             0.6039215686274509,
             "#d1d8c4"
            ],
            [
             0.6078431372549019,
             "#cfd6c2"
            ],
            [
             0.611764705882353,
             "#ced5c0"
            ],
            [
             0.615686274509804,
             "#ccd4bf"
            ],
            [
             0.6196078431372549,
             "#cbd2bd"
            ],
            [
             0.6235294117647059,
             "#cad1bb"
            ],
            [
             0.6274509803921569,
             "#c8d0ba"
            ],
            [
             0.6313725490196078,
             "#c7ceb8"
            ],
            [
             0.6352941176470588,
             "#c5cdb6"
            ],
            [
             0.6392156862745098,
             "#c4ccb5"
            ],
            [
             0.6431372549019608,
             "#c2cab3"
            ],
            [
             0.6470588235294118,
             "#c1c9b2"
            ],
            [
             0.6509803921568628,
             "#bfc8b0"
            ],
            [
             0.6549019607843137,
             "#bec6ae"
            ],
            [
             0.6588235294117647,
             "#bdc5ad"
            ],
            [
             0.6627450980392157,
             "#bbc4ab"
            ],
            [
             0.6666666666666666,
             "#bac2a9"
            ],
            [
             0.6705882352941176,
             "#b8c1a8"
            ],
            [
             0.6745098039215687,
             "#b7c0a6"
            ],
            [
             0.6784313725490196,
             "#b5bea4"
            ],
            [
             0.6823529411764706,
             "#b4bda3"
            ],
            [
             0.6862745098039216,
             "#b2bca3"
            ],
            [
             0.6901960784313725,
             "#b0bba2"
            ],
            [
             0.6941176470588235,
             "#afbaa1"
            ],
            [
             0.6980392156862745,
             "#adb9a0"
            ],
            [
             0.7019607843137254,
             "#abb89f"
            ],
            [
             0.7058823529411765,
             "#aab79e"
            ],
            [
             0.7098039215686275,
             "#a8b69d"
            ],
            [
             0.7137254901960784,
             "#a6b59d"
            ],
            [
             0.7176470588235294,
             "#a4b49c"
            ],
            [
             0.7215686274509804,
             "#a3b39b"
            ],
            [
             0.7254901960784313,
             "#a1b29a"
            ],
            [
             0.7294117647058823,
             "#9fb199"
            ],
            [
             0.7333333333333333,
             "#9eb098"
            ],
            [
             0.7372549019607844,
             "#9caf97"
            ],
            [
             0.7411764705882353,
             "#9aae97"
            ],
            [
             0.7450980392156863,
             "#99ad96"
            ],
            [
             0.7490196078431373,
             "#97ac95"
            ],
            [
             0.7529411764705882,
             "#95ab94"
            ],
            [
             0.7568627450980392,
             "#93aa93"
            ],
            [
             0.7607843137254902,
             "#92a992"
            ],
            [
             0.7647058823529411,
             "#90a891"
            ],
            [
             0.7686274509803922,
             "#8ea791"
            ],
            [
             0.7725490196078432,
             "#8da690"
            ],
            [
             0.7764705882352941,
             "#8ba58f"
            ],
            [
             0.7803921568627451,
             "#89a48e"
            ],
            [
             0.7843137254901961,
             "#88a38d"
            ],
            [
             0.788235294117647,
             "#86a28c"
            ],
            [
             0.792156862745098,
             "#84a18b"
            ],
            [
             0.796078431372549,
             "#82a08b"
            ],
            [
             0.8,
             "#819f8a"
            ],
            [
             0.803921568627451,
             "#7f9e89"
            ],
            [
             0.807843137254902,
             "#7d9d88"
            ],
            [
             0.8117647058823529,
             "#7c9c87"
            ],
            [
             0.8156862745098039,
             "#7a9b86"
            ],
            [
             0.8196078431372549,
             "#789a85"
            ],
            [
             0.8235294117647058,
             "#779985"
            ],
            [
             0.8274509803921568,
             "#759884"
            ],
            [
             0.8313725490196079,
             "#739783"
            ],
            [
             0.8352941176470589,
             "#719682"
            ],
            [
             0.8392156862745098,
             "#709581"
            ],
            [
             0.8431372549019608,
             "#6e9480"
            ],
            [
             0.8470588235294118,
             "#6c937f"
            ],
            [
             0.8509803921568627,
             "#6b927f"
            ],
            [
             0.8549019607843137,
             "#69917e"
            ],
            [
             0.8588235294117647,
             "#67907d"
            ],
            [
             0.8627450980392157,
             "#668f7c"
            ],
            [
             0.8666666666666667,
             "#648e7b"
            ],
            [
             0.8705882352941177,
             "#628d7a"
            ],
            [
             0.8745098039215686,
             "#608b79"
            ],
            [
             0.8784313725490196,
             "#5f8a79"
            ],
            [
             0.8823529411764706,
             "#5d8978"
            ],
            [
             0.8862745098039215,
             "#5b8877"
            ],
            [
             0.8901960784313725,
             "#5a8776"
            ],
            [
             0.8941176470588236,
             "#588675"
            ],
            [
             0.8980392156862745,
             "#568574"
            ],
            [
             0.9019607843137255,
             "#558473"
            ],
            [
             0.9058823529411765,
             "#538373"
            ],
            [
             0.9098039215686274,
             "#518272"
            ],
            [
             0.9137254901960784,
             "#4f8171"
            ],
            [
             0.9176470588235294,
             "#4e8070"
            ],
            [
             0.9215686274509803,
             "#4c7f6f"
            ],
            [
             0.9254901960784314,
             "#4a7e6e"
            ],
            [
             0.9294117647058824,
             "#497d6d"
            ],
            [
             0.9333333333333333,
             "#477c6d"
            ],
            [
             0.9372549019607843,
             "#457b6c"
            ],
            [
             0.9411764705882353,
             "#447a6b"
            ],
            [
             0.9450980392156862,
             "#42796a"
            ],
            [
             0.9490196078431372,
             "#407869"
            ],
            [
             0.9529411764705882,
             "#3e7768"
            ],
            [
             0.9568627450980393,
             "#3d7667"
            ],
            [
             0.9607843137254902,
             "#3b7567"
            ],
            [
             0.9647058823529412,
             "#397466"
            ],
            [
             0.9686274509803922,
             "#387365"
            ],
            [
             0.9725490196078431,
             "#367264"
            ],
            [
             0.9764705882352941,
             "#347163"
            ],
            [
             0.9803921568627451,
             "#337062"
            ],
            [
             0.984313725490196,
             "#316f61"
            ],
            [
             0.9882352941176471,
             "#2f6e61"
            ],
            [
             0.9921568627450981,
             "#2d6d60"
            ],
            [
             0.996078431372549,
             "#2c6c5f"
            ],
            [
             1,
             "#2a6b5e"
            ]
           ],
           "sequential": [
            [
             0,
             "#341e60"
            ],
            [
             0.00392156862745098,
             "#351f61"
            ],
            [
             0.00784313725490196,
             "#351f62"
            ],
            [
             0.011764705882352941,
             "#362062"
            ],
            [
             0.01568627450980392,
             "#362163"
            ],
            [
             0.0196078431372549,
             "#372164"
            ],
            [
             0.023529411764705882,
             "#372265"
            ],
            [
             0.027450980392156862,
             "#382366"
            ],
            [
             0.03137254901960784,
             "#392366"
            ],
            [
             0.03529411764705882,
             "#392467"
            ],
            [
             0.0392156862745098,
             "#3a2568"
            ],
            [
             0.043137254901960784,
             "#3a2669"
            ],
            [
             0.047058823529411764,
             "#3b266a"
            ],
            [
             0.050980392156862744,
             "#3c276a"
            ],
            [
             0.054901960784313725,
             "#3c286b"
            ],
            [
             0.058823529411764705,
             "#3d286c"
            ],
            [
             0.06274509803921569,
             "#3d296d"
            ],
            [
             0.06666666666666667,
             "#3e2a6e"
            ],
            [
             0.07058823529411765,
             "#3e2a6e"
            ],
            [
             0.07450980392156863,
             "#3f2b6f"
            ],
            [
             0.0784313725490196,
             "#402c70"
            ],
            [
             0.08235294117647059,
             "#402c71"
            ],
            [
             0.08627450980392157,
             "#412d71"
            ],
            [
             0.09019607843137255,
             "#412e72"
            ],
            [
             0.09411764705882353,
             "#422e73"
            ],
            [
             0.09803921568627451,
             "#422f74"
            ],
            [
             0.10196078431372549,
             "#433075"
            ],
            [
             0.10588235294117647,
             "#443175"
            ],
            [
             0.10980392156862745,
             "#443176"
            ],
            [
             0.11372549019607843,
             "#453277"
            ],
            [
             0.11764705882352941,
             "#453378"
            ],
            [
             0.12156862745098039,
             "#463379"
            ],
            [
             0.12549019607843137,
             "#473479"
            ],
            [
             0.12941176470588237,
             "#47357a"
            ],
            [
             0.13333333333333333,
             "#48357b"
            ],
            [
             0.13725490196078433,
             "#48367c"
            ],
            [
             0.1411764705882353,
             "#49377d"
            ],
            [
             0.1450980392156863,
             "#49377d"
            ],
            [
             0.14901960784313725,
             "#4a387e"
            ],
            [
             0.15294117647058825,
             "#4b397f"
            ],
            [
             0.1568627450980392,
             "#4b3980"
            ],
            [
             0.1607843137254902,
             "#4c3a81"
            ],
            [
             0.16470588235294117,
             "#4c3b81"
            ],
            [
             0.16862745098039217,
             "#4d3c82"
            ],
            [
             0.17254901960784313,
             "#4d3c83"
            ],
            [
             0.17647058823529413,
             "#4e3d84"
            ],
            [
             0.1803921568627451,
             "#4f3e85"
            ],
            [
             0.1843137254901961,
             "#4f3e85"
            ],
            [
             0.18823529411764706,
             "#503f86"
            ],
            [
             0.19215686274509805,
             "#504087"
            ],
            [
             0.19607843137254902,
             "#514088"
            ],
            [
             0.2,
             "#514189"
            ],
            [
             0.20392156862745098,
             "#524289"
            ],
            [
             0.20784313725490197,
             "#53428a"
            ],
            [
             0.21176470588235294,
             "#53438b"
            ],
            [
             0.21568627450980393,
             "#54448c"
            ],
            [
             0.2196078431372549,
             "#55448c"
            ],
            [
             0.2235294117647059,
             "#56458c"
            ],
            [
             0.22745098039215686,
             "#57458c"
            ],
            [
             0.23137254901960785,
             "#58468c"
            ],
            [
             0.23529411764705882,
             "#5a468c"
            ],
            [
             0.23921568627450981,
             "#5b478c"
            ],
            [
             0.24313725490196078,
             "#5c478c"
            ],
            [
             0.24705882352941178,
             "#5d488c"
            ],
            [
             0.25098039215686274,
             "#5e488c"
            ],
            [
             0.2549019607843137,
             "#5f498c"
            ],
            [
             0.25882352941176473,
             "#61498c"
            ],
            [
             0.2627450980392157,
             "#624a8c"
            ],
            [
             0.26666666666666666,
             "#634a8b"
            ],
            [
             0.27058823529411763,
             "#644b8b"
            ],
            [
             0.27450980392156865,
             "#654b8b"
            ],
            [
             0.2784313725490196,
             "#674c8b"
            ],
            [
             0.2823529411764706,
             "#684c8b"
            ],
            [
             0.28627450980392155,
             "#694d8b"
            ],
            [
             0.2901960784313726,
             "#6a4d8b"
            ],
            [
             0.29411764705882354,
             "#6b4e8b"
            ],
            [
             0.2980392156862745,
             "#6d4e8b"
            ],
            [
             0.30196078431372547,
             "#6e4f8b"
            ],
            [
             0.3058823529411765,
             "#6f4f8b"
            ],
            [
             0.30980392156862746,
             "#70508b"
            ],
            [
             0.3137254901960784,
             "#71508b"
            ],
            [
             0.3176470588235294,
             "#72518b"
            ],
            [
             0.3215686274509804,
             "#74518b"
            ],
            [
             0.3254901960784314,
             "#75528b"
            ],
            [
             0.32941176470588235,
             "#76528b"
            ],
            [
             0.3333333333333333,
             "#77528b"
            ],
            [
             0.33725490196078434,
             "#78538b"
            ],
            [
             0.3411764705882353,
             "#7a538b"
            ],
            [
             0.34509803921568627,
             "#7b548b"
            ],
            [
             0.34901960784313724,
             "#7c548b"
            ],
            [
             0.35294117647058826,
             "#7d558b"
            ],
            [
             0.3568627450980392,
             "#7e558b"
            ],
            [
             0.3607843137254902,
             "#7f568a"
            ],
            [
             0.36470588235294116,
             "#81568a"
            ],
            [
             0.3686274509803922,
             "#82578a"
            ],
            [
             0.37254901960784315,
             "#83578a"
            ],
            [
             0.3764705882352941,
             "#84588a"
            ],
            [
             0.3803921568627451,
             "#85588a"
            ],
            [
             0.3843137254901961,
             "#87598a"
            ],
            [
             0.38823529411764707,
             "#88598a"
            ],
            [
             0.39215686274509803,
             "#895a8a"
            ],
            [
             0.396078431372549,
             "#8a5a8a"
            ],
            [
             0.4,
             "#8b5b8a"
            ],
            [
             0.403921568627451,
             "#8d5b8a"
            ],
            [
             0.40784313725490196,
             "#8e5c8a"
            ],
            [
             0.4117647058823529,
             "#8f5c8a"
            ],
            [
             0.41568627450980394,
             "#905d8a"
            ],
            [
             0.4196078431372549,
             "#915d8a"
            ],
            [
             0.4235294117647059,
             "#925e8a"
            ],
            [
             0.42745098039215684,
             "#945e8a"
            ],
            [
             0.43137254901960786,
             "#955f8a"
            ],
            [
             0.43529411764705883,
             "#965f8a"
            ],
            [
             0.4392156862745098,
             "#97608a"
            ],
            [
             0.44313725490196076,
             "#98608a"
            ],
            [
             0.4470588235294118,
             "#9a618a"
            ],
            [
             0.45098039215686275,
             "#9b618a"
            ],
            [
             0.4549019607843137,
             "#9c6289"
            ],
            [
             0.4588235294117647,
             "#9d6289"
            ],
            [
             0.4627450980392157,
             "#9e6389"
            ],
            [
             0.4666666666666667,
             "#a06389"
            ],
            [
             0.47058823529411764,
             "#a16489"
            ],
            [
             0.4745098039215686,
             "#a26489"
            ],
            [
             0.47843137254901963,
             "#a36589"
            ],
            [
             0.4823529411764706,
             "#a46589"
            ],
            [
             0.48627450980392156,
             "#a56689"
            ],
            [
             0.49019607843137253,
             "#a76689"
            ],
            [
             0.49411764705882355,
             "#a86789"
            ],
            [
             0.4980392156862745,
             "#a96789"
            ],
            [
             0.5019607843137255,
             "#aa6889"
            ],
            [
             0.5058823529411764,
             "#ab6989"
            ],
            [
             0.5098039215686274,
             "#ac6989"
            ],
            [
             0.5137254901960784,
             "#ac6a89"
            ],
            [
             0.5176470588235295,
             "#ad6b89"
            ],
            [
             0.5215686274509804,
             "#ae6c88"
            ],
            [
             0.5254901960784314,
             "#af6d88"
            ],
            [
             0.5294117647058824,
             "#b06d88"
            ],
            [
             0.5333333333333333,
             "#b16e88"
            ],
            [
             0.5372549019607843,
             "#b16f88"
            ],
            [
             0.5411764705882353,
             "#b27088"
            ],
            [
             0.5450980392156862,
             "#b37188"
            ],
            [
             0.5490196078431373,
             "#b47188"
            ],
            [
             0.5529411764705883,
             "#b57288"
            ],
            [
             0.5568627450980392,
             "#b67388"
            ],
            [
             0.5607843137254902,
             "#b67488"
            ],
            [
             0.5647058823529412,
             "#b77587"
            ],
            [
             0.5686274509803921,
             "#b87587"
            ],
            [
             0.5725490196078431,
             "#b97687"
            ],
            [
             0.5764705882352941,
             "#ba7787"
            ],
            [
             0.5803921568627451,
             "#bb7887"
            ],
            [
             0.5843137254901961,
             "#bb7887"
            ],
            [
             0.5882352941176471,
             "#bc7987"
            ],
            [
             0.592156862745098,
             "#bd7a87"
            ],
            [
             0.596078431372549,
             "#be7b87"
            ],
            [
             0.6,
             "#bf7c87"
            ],
            [
             0.6039215686274509,
             "#c07c87"
            ],
            [
             0.6078431372549019,
             "#c07d86"
            ],
            [
             0.611764705882353,
             "#c17e86"
            ],
            [
             0.615686274509804,
             "#c27f86"
            ],
            [
             0.6196078431372549,
             "#c38086"
            ],
            [
             0.6235294117647059,
             "#c48086"
            ],
            [
             0.6274509803921569,
             "#c58186"
            ],
            [
             0.6313725490196078,
             "#c58286"
            ],
            [
             0.6352941176470588,
             "#c68386"
            ],
            [
             0.6392156862745098,
             "#c78486"
            ],
            [
             0.6431372549019608,
             "#c88486"
            ],
            [
             0.6470588235294118,
             "#c98586"
            ],
            [
             0.6509803921568628,
             "#ca8685"
            ],
            [
             0.6549019607843137,
             "#ca8785"
            ],
            [
             0.6588235294117647,
             "#cb8885"
            ],
            [
             0.6627450980392157,
             "#cc8885"
            ],
            [
             0.6666666666666666,
             "#cd8985"
            ],
            [
             0.6705882352941176,
             "#ce8a85"
            ],
            [
             0.6745098039215687,
             "#cf8b85"
            ],
            [
             0.6784313725490196,
             "#cf8c85"
            ],
            [
             0.6823529411764706,
             "#d08c85"
            ],
            [
             0.6862745098039216,
             "#d18d85"
            ],
            [
             0.6901960784313725,
             "#d28e85"
            ],
            [
             0.6941176470588235,
             "#d38f84"
            ],
            [
             0.6980392156862745,
             "#d49084"
            ],
            [
             0.7019607843137254,
             "#d49084"
            ],
            [
             0.7058823529411765,
             "#d59184"
            ],
            [
             0.7098039215686275,
             "#d69284"
            ],
            [
             0.7137254901960784,
             "#d79384"
            ],
            [
             0.7176470588235294,
             "#d89484"
            ],
            [
             0.7215686274509804,
             "#d99484"
            ],
            [
             0.7254901960784313,
             "#d99584"
            ],
            [
             0.7294117647058823,
             "#da9684"
            ],
            [
             0.7333333333333333,
             "#db9784"
            ],
            [
             0.7372549019607844,
             "#dc9783"
            ],
            [
             0.7411764705882353,
             "#dd9883"
            ],
            [
             0.7450980392156863,
             "#de9983"
            ],
            [
             0.7490196078431373,
             "#de9a83"
            ],
            [
             0.7529411764705882,
             "#df9b83"
            ],
            [
             0.7568627450980392,
             "#e09b83"
            ],
            [
             0.7607843137254902,
             "#e19c83"
            ],
            [
             0.7647058823529411,
             "#e29d83"
            ],
            [
             0.7686274509803922,
             "#e39e83"
            ],
            [
             0.7725490196078432,
             "#e39f83"
            ],
            [
             0.7764705882352941,
             "#e49f83"
            ],
            [
             0.7803921568627451,
             "#e5a082"
            ],
            [
             0.7843137254901961,
             "#e6a182"
            ],
            [
             0.788235294117647,
             "#e7a282"
            ],
            [
             0.792156862745098,
             "#e8a382"
            ],
            [
             0.796078431372549,
             "#e8a382"
            ],
            [
             0.8,
             "#e9a482"
            ],
            [
             0.803921568627451,
             "#e9a583"
            ],
            [
             0.807843137254902,
             "#eaa784"
            ],
            [
             0.8117647058823529,
             "#eaa885"
            ],
            [
             0.8156862745098039,
             "#eaa986"
            ],
            [
             0.8196078431372549,
             "#eaaa87"
            ],
            [
             0.8235294117647058,
             "#eaab88"
            ],
            [
             0.8274509803921568,
             "#ebac89"
            ],
            [
             0.8313725490196079,
             "#ebae8a"
            ],
            [
             0.8352941176470589,
             "#ebaf8b"
            ],
            [
             0.8392156862745098,
             "#ebb08c"
            ],
            [
             0.8431372549019608,
             "#ecb18d"
            ],
            [
             0.8470588235294118,
             "#ecb28d"
            ],
            [
             0.8509803921568627,
             "#ecb38e"
            ],
            [
             0.8549019607843137,
             "#ecb48f"
            ],
            [
             0.8588235294117647,
             "#edb690"
            ],
            [
             0.8627450980392157,
             "#edb791"
            ],
            [
             0.8666666666666667,
             "#edb892"
            ],
            [
             0.8705882352941177,
             "#edb993"
            ],
            [
             0.8745098039215686,
             "#eeba94"
            ],
            [
             0.8784313725490196,
             "#eebb95"
            ],
            [
             0.8823529411764706,
             "#eebc96"
            ],
            [
             0.8862745098039215,
             "#eebe97"
            ],
            [
             0.8901960784313725,
             "#eebf98"
            ],
            [
             0.8941176470588236,
             "#efc099"
            ],
            [
             0.8980392156862745,
             "#efc19a"
            ],
            [
             0.9019607843137255,
             "#efc29b"
            ],
            [
             0.9058823529411765,
             "#efc39c"
            ],
            [
             0.9098039215686274,
             "#f0c59c"
            ],
            [
             0.9137254901960784,
             "#f0c69d"
            ],
            [
             0.9176470588235294,
             "#f0c79e"
            ],
            [
             0.9215686274509803,
             "#f0c89f"
            ],
            [
             0.9254901960784314,
             "#f1c9a0"
            ],
            [
             0.9294117647058824,
             "#f1caa1"
            ],
            [
             0.9333333333333333,
             "#f1cba2"
            ],
            [
             0.9372549019607843,
             "#f1cda3"
            ],
            [
             0.9411764705882353,
             "#f1cea4"
            ],
            [
             0.9450980392156862,
             "#f2cfa5"
            ],
            [
             0.9490196078431372,
             "#f2d0a6"
            ],
            [
             0.9529411764705882,
             "#f2d1a7"
            ],
            [
             0.9568627450980393,
             "#f2d2a8"
            ],
            [
             0.9607843137254902,
             "#f3d3a9"
            ],
            [
             0.9647058823529412,
             "#f3d5aa"
            ],
            [
             0.9686274509803922,
             "#f3d6ab"
            ],
            [
             0.9725490196078431,
             "#f3d7ab"
            ],
            [
             0.9764705882352941,
             "#f4d8ac"
            ],
            [
             0.9803921568627451,
             "#f4d9ad"
            ],
            [
             0.984313725490196,
             "#f4daae"
            ],
            [
             0.9882352941176471,
             "#f4dcaf"
            ],
            [
             0.9921568627450981,
             "#f5ddb0"
            ],
            [
             0.996078431372549,
             "#f5deb1"
            ],
            [
             1,
             "#f5dfb2"
            ]
           ],
           "sequentialminus": [
            [
             0,
             "#f5dfb2"
            ],
            [
             0.00392156862745098,
             "#f5deb1"
            ],
            [
             0.00784313725490196,
             "#f5ddb0"
            ],
            [
             0.011764705882352941,
             "#f4dcaf"
            ],
            [
             0.01568627450980392,
             "#f4daae"
            ],
            [
             0.0196078431372549,
             "#f4d9ad"
            ],
            [
             0.023529411764705882,
             "#f4d8ac"
            ],
            [
             0.027450980392156862,
             "#f3d7ab"
            ],
            [
             0.03137254901960784,
             "#f3d6ab"
            ],
            [
             0.03529411764705882,
             "#f3d5aa"
            ],
            [
             0.0392156862745098,
             "#f3d3a9"
            ],
            [
             0.043137254901960784,
             "#f2d2a8"
            ],
            [
             0.047058823529411764,
             "#f2d1a7"
            ],
            [
             0.050980392156862744,
             "#f2d0a6"
            ],
            [
             0.054901960784313725,
             "#f2cfa5"
            ],
            [
             0.058823529411764705,
             "#f1cea4"
            ],
            [
             0.06274509803921569,
             "#f1cda3"
            ],
            [
             0.06666666666666667,
             "#f1cba2"
            ],
            [
             0.07058823529411765,
             "#f1caa1"
            ],
            [
             0.07450980392156863,
             "#f1c9a0"
            ],
            [
             0.0784313725490196,
             "#f0c89f"
            ],
            [
             0.08235294117647059,
             "#f0c79e"
            ],
            [
             0.08627450980392157,
             "#f0c69d"
            ],
            [
             0.09019607843137255,
             "#f0c59c"
            ],
            [
             0.09411764705882353,
             "#efc39c"
            ],
            [
             0.09803921568627451,
             "#efc29b"
            ],
            [
             0.10196078431372549,
             "#efc19a"
            ],
            [
             0.10588235294117647,
             "#efc099"
            ],
            [
             0.10980392156862745,
             "#eebf98"
            ],
            [
             0.11372549019607843,
             "#eebe97"
            ],
            [
             0.11764705882352941,
             "#eebc96"
            ],
            [
             0.12156862745098039,
             "#eebb95"
            ],
            [
             0.12549019607843137,
             "#eeba94"
            ],
            [
             0.12941176470588237,
             "#edb993"
            ],
            [
             0.13333333333333333,
             "#edb892"
            ],
            [
             0.13725490196078433,
             "#edb791"
            ],
            [
             0.1411764705882353,
             "#edb690"
            ],
            [
             0.1450980392156863,
             "#ecb48f"
            ],
            [
             0.14901960784313725,
             "#ecb38e"
            ],
            [
             0.15294117647058825,
             "#ecb28d"
            ],
            [
             0.1568627450980392,
             "#ecb18d"
            ],
            [
             0.1607843137254902,
             "#ebb08c"
            ],
            [
             0.16470588235294117,
             "#ebaf8b"
            ],
            [
             0.16862745098039217,
             "#ebae8a"
            ],
            [
             0.17254901960784313,
             "#ebac89"
            ],
            [
             0.17647058823529413,
             "#eaab88"
            ],
            [
             0.1803921568627451,
             "#eaaa87"
            ],
            [
             0.1843137254901961,
             "#eaa986"
            ],
            [
             0.18823529411764706,
             "#eaa885"
            ],
            [
             0.19215686274509805,
             "#eaa784"
            ],
            [
             0.19607843137254902,
             "#e9a583"
            ],
            [
             0.2,
             "#e9a482"
            ],
            [
             0.20392156862745098,
             "#e8a382"
            ],
            [
             0.20784313725490197,
             "#e8a382"
            ],
            [
             0.21176470588235294,
             "#e7a282"
            ],
            [
             0.21568627450980393,
             "#e6a182"
            ],
            [
             0.2196078431372549,
             "#e5a082"
            ],
            [
             0.2235294117647059,
             "#e49f83"
            ],
            [
             0.22745098039215686,
             "#e39f83"
            ],
            [
             0.23137254901960785,
             "#e39e83"
            ],
            [
             0.23529411764705882,
             "#e29d83"
            ],
            [
             0.23921568627450981,
             "#e19c83"
            ],
            [
             0.24313725490196078,
             "#e09b83"
            ],
            [
             0.24705882352941178,
             "#df9b83"
            ],
            [
             0.25098039215686274,
             "#de9a83"
            ],
            [
             0.2549019607843137,
             "#de9983"
            ],
            [
             0.25882352941176473,
             "#dd9883"
            ],
            [
             0.2627450980392157,
             "#dc9783"
            ],
            [
             0.26666666666666666,
             "#db9784"
            ],
            [
             0.27058823529411763,
             "#da9684"
            ],
            [
             0.27450980392156865,
             "#d99584"
            ],
            [
             0.2784313725490196,
             "#d99484"
            ],
            [
             0.2823529411764706,
             "#d89484"
            ],
            [
             0.28627450980392155,
             "#d79384"
            ],
            [
             0.2901960784313726,
             "#d69284"
            ],
            [
             0.29411764705882354,
             "#d59184"
            ],
            [
             0.2980392156862745,
             "#d49084"
            ],
            [
             0.30196078431372547,
             "#d49084"
            ],
            [
             0.3058823529411765,
             "#d38f84"
            ],
            [
             0.30980392156862746,
             "#d28e85"
            ],
            [
             0.3137254901960784,
             "#d18d85"
            ],
            [
             0.3176470588235294,
             "#d08c85"
            ],
            [
             0.3215686274509804,
             "#cf8c85"
            ],
            [
             0.3254901960784314,
             "#cf8b85"
            ],
            [
             0.32941176470588235,
             "#ce8a85"
            ],
            [
             0.3333333333333333,
             "#cd8985"
            ],
            [
             0.33725490196078434,
             "#cc8885"
            ],
            [
             0.3411764705882353,
             "#cb8885"
            ],
            [
             0.34509803921568627,
             "#ca8785"
            ],
            [
             0.34901960784313724,
             "#ca8685"
            ],
            [
             0.35294117647058826,
             "#c98586"
            ],
            [
             0.3568627450980392,
             "#c88486"
            ],
            [
             0.3607843137254902,
             "#c78486"
            ],
            [
             0.36470588235294116,
             "#c68386"
            ],
            [
             0.3686274509803922,
             "#c58286"
            ],
            [
             0.37254901960784315,
             "#c58186"
            ],
            [
             0.3764705882352941,
             "#c48086"
            ],
            [
             0.3803921568627451,
             "#c38086"
            ],
            [
             0.3843137254901961,
             "#c27f86"
            ],
            [
             0.38823529411764707,
             "#c17e86"
            ],
            [
             0.39215686274509803,
             "#c07d86"
            ],
            [
             0.396078431372549,
             "#c07c87"
            ],
            [
             0.4,
             "#bf7c87"
            ],
            [
             0.403921568627451,
             "#be7b87"
            ],
            [
             0.40784313725490196,
             "#bd7a87"
            ],
            [
             0.4117647058823529,
             "#bc7987"
            ],
            [
             0.41568627450980394,
             "#bb7887"
            ],
            [
             0.4196078431372549,
             "#bb7887"
            ],
            [
             0.4235294117647059,
             "#ba7787"
            ],
            [
             0.42745098039215684,
             "#b97687"
            ],
            [
             0.43137254901960786,
             "#b87587"
            ],
            [
             0.43529411764705883,
             "#b77587"
            ],
            [
             0.4392156862745098,
             "#b67488"
            ],
            [
             0.44313725490196076,
             "#b67388"
            ],
            [
             0.4470588235294118,
             "#b57288"
            ],
            [
             0.45098039215686275,
             "#b47188"
            ],
            [
             0.4549019607843137,
             "#b37188"
            ],
            [
             0.4588235294117647,
             "#b27088"
            ],
            [
             0.4627450980392157,
             "#b16f88"
            ],
            [
             0.4666666666666667,
             "#b16e88"
            ],
            [
             0.47058823529411764,
             "#b06d88"
            ],
            [
             0.4745098039215686,
             "#af6d88"
            ],
            [
             0.47843137254901963,
             "#ae6c88"
            ],
            [
             0.4823529411764706,
             "#ad6b89"
            ],
            [
             0.48627450980392156,
             "#ac6a89"
            ],
            [
             0.49019607843137253,
             "#ac6989"
            ],
            [
             0.49411764705882355,
             "#ab6989"
            ],
            [
             0.4980392156862745,
             "#aa6889"
            ],
            [
             0.5019607843137255,
             "#a96789"
            ],
            [
             0.5058823529411764,
             "#a86789"
            ],
            [
             0.5098039215686274,
             "#a76689"
            ],
            [
             0.5137254901960784,
             "#a56689"
            ],
            [
             0.5176470588235295,
             "#a46589"
            ],
            [
             0.5215686274509804,
             "#a36589"
            ],
            [
             0.5254901960784314,
             "#a26489"
            ],
            [
             0.5294117647058824,
             "#a16489"
            ],
            [
             0.5333333333333333,
             "#a06389"
            ],
            [
             0.5372549019607843,
             "#9e6389"
            ],
            [
             0.5411764705882353,
             "#9d6289"
            ],
            [
             0.5450980392156862,
             "#9c6289"
            ],
            [
             0.5490196078431373,
             "#9b618a"
            ],
            [
             0.5529411764705883,
             "#9a618a"
            ],
            [
             0.5568627450980392,
             "#98608a"
            ],
            [
             0.5607843137254902,
             "#97608a"
            ],
            [
             0.5647058823529412,
             "#965f8a"
            ],
            [
             0.5686274509803921,
             "#955f8a"
            ],
            [
             0.5725490196078431,
             "#945e8a"
            ],
            [
             0.5764705882352941,
             "#925e8a"
            ],
            [
             0.5803921568627451,
             "#915d8a"
            ],
            [
             0.5843137254901961,
             "#905d8a"
            ],
            [
             0.5882352941176471,
             "#8f5c8a"
            ],
            [
             0.592156862745098,
             "#8e5c8a"
            ],
            [
             0.596078431372549,
             "#8d5b8a"
            ],
            [
             0.6,
             "#8b5b8a"
            ],
            [
             0.6039215686274509,
             "#8a5a8a"
            ],
            [
             0.6078431372549019,
             "#895a8a"
            ],
            [
             0.611764705882353,
             "#88598a"
            ],
            [
             0.615686274509804,
             "#87598a"
            ],
            [
             0.6196078431372549,
             "#85588a"
            ],
            [
             0.6235294117647059,
             "#84588a"
            ],
            [
             0.6274509803921569,
             "#83578a"
            ],
            [
             0.6313725490196078,
             "#82578a"
            ],
            [
             0.6352941176470588,
             "#81568a"
            ],
            [
             0.6392156862745098,
             "#7f568a"
            ],
            [
             0.6431372549019608,
             "#7e558b"
            ],
            [
             0.6470588235294118,
             "#7d558b"
            ],
            [
             0.6509803921568628,
             "#7c548b"
            ],
            [
             0.6549019607843137,
             "#7b548b"
            ],
            [
             0.6588235294117647,
             "#7a538b"
            ],
            [
             0.6627450980392157,
             "#78538b"
            ],
            [
             0.6666666666666666,
             "#77528b"
            ],
            [
             0.6705882352941176,
             "#76528b"
            ],
            [
             0.6745098039215687,
             "#75528b"
            ],
            [
             0.6784313725490196,
             "#74518b"
            ],
            [
             0.6823529411764706,
             "#72518b"
            ],
            [
             0.6862745098039216,
             "#71508b"
            ],
            [
             0.6901960784313725,
             "#70508b"
            ],
            [
             0.6941176470588235,
             "#6f4f8b"
            ],
            [
             0.6980392156862745,
             "#6e4f8b"
            ],
            [
             0.7019607843137254,
             "#6d4e8b"
            ],
            [
             0.7058823529411765,
             "#6b4e8b"
            ],
            [
             0.7098039215686275,
             "#6a4d8b"
            ],
            [
             0.7137254901960784,
             "#694d8b"
            ],
            [
             0.7176470588235294,
             "#684c8b"
            ],
            [
             0.7215686274509804,
             "#674c8b"
            ],
            [
             0.7254901960784313,
             "#654b8b"
            ],
            [
             0.7294117647058823,
             "#644b8b"
            ],
            [
             0.7333333333333333,
             "#634a8b"
            ],
            [
             0.7372549019607844,
             "#624a8c"
            ],
            [
             0.7411764705882353,
             "#61498c"
            ],
            [
             0.7450980392156863,
             "#5f498c"
            ],
            [
             0.7490196078431373,
             "#5e488c"
            ],
            [
             0.7529411764705882,
             "#5d488c"
            ],
            [
             0.7568627450980392,
             "#5c478c"
            ],
            [
             0.7607843137254902,
             "#5b478c"
            ],
            [
             0.7647058823529411,
             "#5a468c"
            ],
            [
             0.7686274509803922,
             "#58468c"
            ],
            [
             0.7725490196078432,
             "#57458c"
            ],
            [
             0.7764705882352941,
             "#56458c"
            ],
            [
             0.7803921568627451,
             "#55448c"
            ],
            [
             0.7843137254901961,
             "#54448c"
            ],
            [
             0.788235294117647,
             "#53438b"
            ],
            [
             0.792156862745098,
             "#53428a"
            ],
            [
             0.796078431372549,
             "#524289"
            ],
            [
             0.8,
             "#514189"
            ],
            [
             0.803921568627451,
             "#514088"
            ],
            [
             0.807843137254902,
             "#504087"
            ],
            [
             0.8117647058823529,
             "#503f86"
            ],
            [
             0.8156862745098039,
             "#4f3e85"
            ],
            [
             0.8196078431372549,
             "#4f3e85"
            ],
            [
             0.8235294117647058,
             "#4e3d84"
            ],
            [
             0.8274509803921568,
             "#4d3c83"
            ],
            [
             0.8313725490196079,
             "#4d3c82"
            ],
            [
             0.8352941176470589,
             "#4c3b81"
            ],
            [
             0.8392156862745098,
             "#4c3a81"
            ],
            [
             0.8431372549019608,
             "#4b3980"
            ],
            [
             0.8470588235294118,
             "#4b397f"
            ],
            [
             0.8509803921568627,
             "#4a387e"
            ],
            [
             0.8549019607843137,
             "#49377d"
            ],
            [
             0.8588235294117647,
             "#49377d"
            ],
            [
             0.8627450980392157,
             "#48367c"
            ],
            [
             0.8666666666666667,
             "#48357b"
            ],
            [
             0.8705882352941177,
             "#47357a"
            ],
            [
             0.8745098039215686,
             "#473479"
            ],
            [
             0.8784313725490196,
             "#463379"
            ],
            [
             0.8823529411764706,
             "#453378"
            ],
            [
             0.8862745098039215,
             "#453277"
            ],
            [
             0.8901960784313725,
             "#443176"
            ],
            [
             0.8941176470588236,
             "#443175"
            ],
            [
             0.8980392156862745,
             "#433075"
            ],
            [
             0.9019607843137255,
             "#422f74"
            ],
            [
             0.9058823529411765,
             "#422e73"
            ],
            [
             0.9098039215686274,
             "#412e72"
            ],
            [
             0.9137254901960784,
             "#412d71"
            ],
            [
             0.9176470588235294,
             "#402c71"
            ],
            [
             0.9215686274509803,
             "#402c70"
            ],
            [
             0.9254901960784314,
             "#3f2b6f"
            ],
            [
             0.9294117647058824,
             "#3e2a6e"
            ],
            [
             0.9333333333333333,
             "#3e2a6e"
            ],
            [
             0.9372549019607843,
             "#3d296d"
            ],
            [
             0.9411764705882353,
             "#3d286c"
            ],
            [
             0.9450980392156862,
             "#3c286b"
            ],
            [
             0.9490196078431372,
             "#3c276a"
            ],
            [
             0.9529411764705882,
             "#3b266a"
            ],
            [
             0.9568627450980393,
             "#3a2669"
            ],
            [
             0.9607843137254902,
             "#3a2568"
            ],
            [
             0.9647058823529412,
             "#392467"
            ],
            [
             0.9686274509803922,
             "#392366"
            ],
            [
             0.9725490196078431,
             "#382366"
            ],
            [
             0.9764705882352941,
             "#372265"
            ],
            [
             0.9803921568627451,
             "#372164"
            ],
            [
             0.984313725490196,
             "#362163"
            ],
            [
             0.9882352941176471,
             "#362062"
            ],
            [
             0.9921568627450981,
             "#351f62"
            ],
            [
             0.996078431372549,
             "#351f61"
            ],
            [
             1,
             "#341e60"
            ]
           ]
          },
          "font": {
           "color": "black",
           "family": "SuisseIntl",
           "size": 15
          },
          "hoverlabel": {
           "font": {
            "family": "SuisseIntl",
            "size": 13
           }
          },
          "legend": {
           "font": {
            "color": "black",
            "family": "SuisseIntl",
            "size": 15
           },
           "indentation": -12,
           "title": {
            "font": {
             "color": "black",
             "family": "SuisseIntl-SemiBold",
             "size": 16
            }
           },
           "x": 1,
           "xanchor": "right",
           "y": 1,
           "yanchor": "top"
          },
          "margin": {
           "b": 85,
           "l": 95,
           "r": 40,
           "t": 40
          },
          "scene": {
           "xaxis": {
            "linecolor": "black",
            "linewidth": 1,
            "showgrid": true,
            "showline": true,
            "ticks": "outside",
            "tickwidth": 1,
            "title": {
             "font": {
              "color": "black",
              "family": "SuisseIntl-Medium",
              "size": 15
             }
            }
           },
           "yaxis": {
            "linecolor": "black",
            "linewidth": 1,
            "showgrid": true,
            "showline": true,
            "ticks": "outside",
            "tickwidth": 1,
            "title": {
             "font": {
              "color": "black",
              "family": "SuisseIntl-Medium",
              "size": 15
             }
            }
           },
           "zaxis": {
            "linecolor": "black",
            "linewidth": 1,
            "showgrid": true,
            "showline": true,
            "ticks": "outside",
            "tickwidth": 1,
            "title": {
             "font": {
              "color": "black",
              "family": "SuisseIntl-Medium",
              "size": 15
             }
            }
           }
          },
          "title": {
           "automargin": true,
           "font": {
            "color": "black",
            "family": "SuisseIntl-SemiBold",
            "size": 16
           },
           "yref": "container"
          },
          "xaxis": {
           "automargin": true,
           "linecolor": "black",
           "linewidth": 1,
           "showgrid": false,
           "showline": true,
           "ticklabelstandoff": 2,
           "ticks": "outside",
           "tickwidth": 1,
           "title": {
            "font": {
             "color": "black",
             "family": "SuisseIntl-Medium",
             "size": 15
            },
            "standoff": 10
           },
           "zerolinecolor": "rgba(0,0,0,0)",
           "zerolinewidth": 0
          },
          "yaxis": {
           "automargin": true,
           "linecolor": "black",
           "linewidth": 1,
           "showgrid": false,
           "showline": true,
           "ticklabelstandoff": 2,
           "ticks": "outside",
           "tickwidth": 1,
           "title": {
            "font": {
             "color": "black",
             "family": "SuisseIntl-Medium",
             "size": 15
            },
            "standoff": 10
           },
           "zerolinecolor": "rgba(0,0,0,0)",
           "zerolinewidth": 0
          }
         }
        },
        "width": 950,
        "xaxis": {
         "anchor": "y",
         "domain": [
          0,
          1
         ],
         "showticklabels": false,
         "tickangle": 45,
         "ticks": ""
        },
        "xaxis2": {
         "anchor": "y2",
         "domain": [
          0,
          1
         ],
         "showticklabels": false,
         "tickangle": 45,
         "ticks": ""
        },
        "xaxis3": {
         "anchor": "y3",
         "domain": [
          0,
          1
         ],
         "tickangle": 45
        },
        "yaxis": {
         "anchor": "x",
         "domain": [
          0.865,
          1
         ],
         "tickfont": {
          "family": "SuisseIntlMono",
          "size": 14.5
         }
        },
        "yaxis2": {
         "anchor": "x2",
         "domain": [
          0.68,
          0.8150000000000001
         ],
         "tickfont": {
          "family": "SuisseIntlMono",
          "size": 14.5
         }
        },
        "yaxis3": {
         "anchor": "x3",
         "domain": [
          0,
          0.63
         ],
         "tickfont": {
          "family": "SuisseIntlMono",
          "size": 14.5
         }
        }
       }
      }
     },
     "metadata": {},
     "output_type": "display_data"
    },
    {
     "data": {
      "application/vnd.plotly.v1+json": {
       "config": {
        "plotlyServerURL": "https://plot.ly"
       },
       "data": [
        {
         "marker": {
          "color": "#3b74b1"
         },
         "name": "Total cells (cluster 1)",
         "showlegend": false,
         "type": "bar",
         "x": [
          "C1"
         ],
         "xaxis": "x",
         "y": [
          771
         ],
         "yaxis": "y"
        },
        {
         "marker": {
          "color": "#6dadde"
         },
         "name": "Total cells (cluster 2)",
         "showlegend": false,
         "type": "bar",
         "x": [
          "C2"
         ],
         "xaxis": "x",
         "y": [
          434
         ],
         "yaxis": "y"
        },
        {
         "marker": {
          "color": "#584a90"
         },
         "name": "Total cells (cluster 3)",
         "showlegend": false,
         "type": "bar",
         "x": [
          "C3"
         ],
         "xaxis": "x",
         "y": [
          346
         ],
         "yaxis": "y"
        },
        {
         "marker": {
          "color": "#7c7aad"
         },
         "name": "Total cells (cluster 5)",
         "showlegend": false,
         "type": "bar",
         "x": [
          "C5"
         ],
         "xaxis": "x",
         "y": [
          203
         ],
         "yaxis": "y"
        },
        {
         "marker": {
          "color": "#a9abd2"
         },
         "name": "Total cells (cluster 11)",
         "showlegend": false,
         "type": "bar",
         "x": [
          "C11"
         ],
         "xaxis": "x",
         "y": [
          57
         ],
         "yaxis": "y"
        },
        {
         "marker": {
          "color": "#a49c96"
         },
         "name": "Total cells (cluster 4)",
         "showlegend": false,
         "type": "bar",
         "x": [
          "C4"
         ],
         "xaxis": "x",
         "y": [
          204
         ],
         "yaxis": "y"
        },
        {
         "marker": {
          "color": "#e6755c"
         },
         "name": "Total cells (cluster 9)",
         "showlegend": false,
         "type": "bar",
         "x": [
          "C9"
         ],
         "xaxis": "x",
         "y": [
          79
         ],
         "yaxis": "y"
        },
        {
         "marker": {
          "color": "#f18ba4"
         },
         "name": "Total cells (cluster 6)",
         "showlegend": false,
         "type": "bar",
         "x": [
          "C6"
         ],
         "xaxis": "x",
         "y": [
          131
         ],
         "yaxis": "y"
        },
        {
         "marker": {
          "color": "#df982b"
         },
         "name": "Total cells (cluster 8)",
         "showlegend": false,
         "type": "bar",
         "x": [
          "C8"
         ],
         "xaxis": "x",
         "y": [
          92
         ],
         "yaxis": "y"
        },
        {
         "marker": {
          "color": "#5e9453"
         },
         "name": "Total cells (cluster 10)",
         "showlegend": false,
         "type": "bar",
         "x": [
          "C10"
         ],
         "xaxis": "x",
         "y": [
          64
         ],
         "yaxis": "y"
        },
        {
         "marker": {
          "color": "#8b9aae"
         },
         "name": "Total cells (cluster 0)",
         "showlegend": false,
         "type": "bar",
         "x": [
          "C0"
         ],
         "xaxis": "x",
         "y": [
          1896
         ],
         "yaxis": "y"
        },
        {
         "marker": {
          "color": "#b3c1ca"
         },
         "name": "Total cells (cluster 7)",
         "showlegend": false,
         "type": "bar",
         "x": [
          "C7"
         ],
         "xaxis": "x",
         "y": [
          95
         ],
         "yaxis": "y"
        },
        {
         "marker": {
          "color": "#3b74b1"
         },
         "name": "Expressing cells (cluster 1)",
         "showlegend": false,
         "type": "bar",
         "x": [
          "C1"
         ],
         "xaxis": "x2",
         "y": [
          13.229571984435799
         ],
         "yaxis": "y2"
        },
        {
         "marker": {
          "color": "#E6EAED"
         },
         "name": "Non-expressing cells",
         "showlegend": false,
         "type": "bar",
         "x": [
          "C1"
         ],
         "xaxis": "x2",
         "y": [
          86.7704280155642
         ],
         "yaxis": "y2"
        },
        {
         "marker": {
          "color": "#6dadde"
         },
         "name": "Expressing cells (cluster 2)",
         "showlegend": false,
         "type": "bar",
         "x": [
          "C2"
         ],
         "xaxis": "x2",
         "y": [
          4.147465437788019
         ],
         "yaxis": "y2"
        },
        {
         "marker": {
          "color": "#E6EAED"
         },
         "name": "Non-expressing cells",
         "showlegend": false,
         "type": "bar",
         "x": [
          "C2"
         ],
         "xaxis": "x2",
         "y": [
          95.85253456221197
         ],
         "yaxis": "y2"
        },
        {
         "marker": {
          "color": "#584a90"
         },
         "name": "Expressing cells (cluster 3)",
         "showlegend": false,
         "type": "bar",
         "x": [
          "C3"
         ],
         "xaxis": "x2",
         "y": [
          14.16184971098266
         ],
         "yaxis": "y2"
        },
        {
         "marker": {
          "color": "#E6EAED"
         },
         "name": "Non-expressing cells",
         "showlegend": false,
         "type": "bar",
         "x": [
          "C3"
         ],
         "xaxis": "x2",
         "y": [
          85.83815028901735
         ],
         "yaxis": "y2"
        },
        {
         "marker": {
          "color": "#7c7aad"
         },
         "name": "Expressing cells (cluster 5)",
         "showlegend": false,
         "type": "bar",
         "x": [
          "C5"
         ],
         "xaxis": "x2",
         "y": [
          7.389162561576355
         ],
         "yaxis": "y2"
        },
        {
         "marker": {
          "color": "#E6EAED"
         },
         "name": "Non-expressing cells",
         "showlegend": false,
         "type": "bar",
         "x": [
          "C5"
         ],
         "xaxis": "x2",
         "y": [
          92.61083743842364
         ],
         "yaxis": "y2"
        },
        {
         "marker": {
          "color": "#a9abd2"
         },
         "name": "Expressing cells (cluster 11)",
         "showlegend": false,
         "type": "bar",
         "x": [
          "C11"
         ],
         "xaxis": "x2",
         "y": [
          8.771929824561402
         ],
         "yaxis": "y2"
        },
        {
         "marker": {
          "color": "#E6EAED"
         },
         "name": "Non-expressing cells",
         "showlegend": false,
         "type": "bar",
         "x": [
          "C11"
         ],
         "xaxis": "x2",
         "y": [
          91.22807017543859
         ],
         "yaxis": "y2"
        },
        {
         "marker": {
          "color": "#a49c96"
         },
         "name": "Expressing cells (cluster 4)",
         "showlegend": false,
         "type": "bar",
         "x": [
          "C4"
         ],
         "xaxis": "x2",
         "y": [
          11.27450980392157
         ],
         "yaxis": "y2"
        },
        {
         "marker": {
          "color": "#E6EAED"
         },
         "name": "Non-expressing cells",
         "showlegend": false,
         "type": "bar",
         "x": [
          "C4"
         ],
         "xaxis": "x2",
         "y": [
          88.72549019607843
         ],
         "yaxis": "y2"
        },
        {
         "marker": {
          "color": "#e6755c"
         },
         "name": "Expressing cells (cluster 9)",
         "showlegend": false,
         "type": "bar",
         "x": [
          "C9"
         ],
         "xaxis": "x2",
         "y": [
          16.455696202531644
         ],
         "yaxis": "y2"
        },
        {
         "marker": {
          "color": "#E6EAED"
         },
         "name": "Non-expressing cells",
         "showlegend": false,
         "type": "bar",
         "x": [
          "C9"
         ],
         "xaxis": "x2",
         "y": [
          83.54430379746836
         ],
         "yaxis": "y2"
        },
        {
         "marker": {
          "color": "#f18ba4"
         },
         "name": "Expressing cells (cluster 6)",
         "showlegend": false,
         "type": "bar",
         "x": [
          "C6"
         ],
         "xaxis": "x2",
         "y": [
          3.0534351145038165
         ],
         "yaxis": "y2"
        },
        {
         "marker": {
          "color": "#E6EAED"
         },
         "name": "Non-expressing cells",
         "showlegend": false,
         "type": "bar",
         "x": [
          "C6"
         ],
         "xaxis": "x2",
         "y": [
          96.94656488549617
         ],
         "yaxis": "y2"
        },
        {
         "marker": {
          "color": "#df982b"
         },
         "name": "Expressing cells (cluster 8)",
         "showlegend": false,
         "type": "bar",
         "x": [
          "C8"
         ],
         "xaxis": "x2",
         "y": [
          6.521739130434782
         ],
         "yaxis": "y2"
        },
        {
         "marker": {
          "color": "#E6EAED"
         },
         "name": "Non-expressing cells",
         "showlegend": false,
         "type": "bar",
         "x": [
          "C8"
         ],
         "xaxis": "x2",
         "y": [
          93.47826086956522
         ],
         "yaxis": "y2"
        },
        {
         "marker": {
          "color": "#5e9453"
         },
         "name": "Expressing cells (cluster 10)",
         "showlegend": false,
         "type": "bar",
         "x": [
          "C10"
         ],
         "xaxis": "x2",
         "y": [
          14.0625
         ],
         "yaxis": "y2"
        },
        {
         "marker": {
          "color": "#E6EAED"
         },
         "name": "Non-expressing cells",
         "showlegend": false,
         "type": "bar",
         "x": [
          "C10"
         ],
         "xaxis": "x2",
         "y": [
          85.9375
         ],
         "yaxis": "y2"
        },
        {
         "marker": {
          "color": "#8b9aae"
         },
         "name": "Expressing cells (cluster 0)",
         "showlegend": false,
         "type": "bar",
         "x": [
          "C0"
         ],
         "xaxis": "x2",
         "y": [
          0.6856540084388186
         ],
         "yaxis": "y2"
        },
        {
         "marker": {
          "color": "#E6EAED"
         },
         "name": "Non-expressing cells",
         "showlegend": false,
         "type": "bar",
         "x": [
          "C0"
         ],
         "xaxis": "x2",
         "y": [
          99.31434599156118
         ],
         "yaxis": "y2"
        },
        {
         "marker": {
          "color": "#b3c1ca"
         },
         "name": "Expressing cells (cluster 7)",
         "showlegend": false,
         "type": "bar",
         "x": [
          "C7"
         ],
         "xaxis": "x2",
         "y": [
          2.1052631578947367
         ],
         "yaxis": "y2"
        },
        {
         "marker": {
          "color": "#E6EAED"
         },
         "name": "Non-expressing cells",
         "showlegend": false,
         "type": "bar",
         "x": [
          "C7"
         ],
         "xaxis": "x2",
         "y": [
          97.89473684210527
         ],
         "yaxis": "y2"
        },
        {
         "box": {
          "visible": true
         },
         "jitter": 0.3,
         "marker": {
          "color": "#3b74b1"
         },
         "name": "1",
         "pointpos": 0,
         "points": "all",
         "showlegend": false,
         "type": "violin",
         "x": [
          "C1: epidermis_1(0.89)",
          "C1: epidermis_1(0.89)",
          "C1: epidermis_1(0.89)",
          "C1: epidermis_1(0.89)",
          "C1: epidermis_1(0.89)",
          "C1: epidermis_1(0.89)",
          "C1: epidermis_1(0.89)",
          "C1: epidermis_1(0.89)",
          "C1: epidermis_1(0.89)",
          "C1: epidermis_1(0.89)",
          "C1: epidermis_1(0.89)",
          "C1: epidermis_1(0.89)",
          "C1: epidermis_1(0.89)",
          "C1: epidermis_1(0.89)",
          "C1: epidermis_1(0.89)",
          "C1: epidermis_1(0.89)",
          "C1: epidermis_1(0.89)",
          "C1: epidermis_1(0.89)",
          "C1: epidermis_1(0.89)",
          "C1: epidermis_1(0.89)",
          "C1: epidermis_1(0.89)",
          "C1: epidermis_1(0.89)",
          "C1: epidermis_1(0.89)",
          "C1: epidermis_1(0.89)",
          "C1: epidermis_1(0.89)",
          "C1: epidermis_1(0.89)",
          "C1: epidermis_1(0.89)",
          "C1: epidermis_1(0.89)",
          "C1: epidermis_1(0.89)",
          "C1: epidermis_1(0.89)",
          "C1: epidermis_1(0.89)",
          "C1: epidermis_1(0.89)",
          "C1: epidermis_1(0.89)",
          "C1: epidermis_1(0.89)",
          "C1: epidermis_1(0.89)",
          "C1: epidermis_1(0.89)",
          "C1: epidermis_1(0.89)",
          "C1: epidermis_1(0.89)",
          "C1: epidermis_1(0.89)",
          "C1: epidermis_1(0.89)",
          "C1: epidermis_1(0.89)",
          "C1: epidermis_1(0.89)",
          "C1: epidermis_1(0.89)",
          "C1: epidermis_1(0.89)",
          "C1: epidermis_1(0.89)",
          "C1: epidermis_1(0.89)",
          "C1: epidermis_1(0.89)",
          "C1: epidermis_1(0.89)",
          "C1: epidermis_1(0.89)",
          "C1: epidermis_1(0.89)",
          "C1: epidermis_1(0.89)",
          "C1: epidermis_1(0.89)",
          "C1: epidermis_1(0.89)",
          "C1: epidermis_1(0.89)",
          "C1: epidermis_1(0.89)",
          "C1: epidermis_1(0.89)",
          "C1: epidermis_1(0.89)",
          "C1: epidermis_1(0.89)",
          "C1: epidermis_1(0.89)",
          "C1: epidermis_1(0.89)",
          "C1: epidermis_1(0.89)",
          "C1: epidermis_1(0.89)",
          "C1: epidermis_1(0.89)",
          "C1: epidermis_1(0.89)",
          "C1: epidermis_1(0.89)",
          "C1: epidermis_1(0.89)",
          "C1: epidermis_1(0.89)",
          "C1: epidermis_1(0.89)",
          "C1: epidermis_1(0.89)",
          "C1: epidermis_1(0.89)",
          "C1: epidermis_1(0.89)",
          "C1: epidermis_1(0.89)",
          "C1: epidermis_1(0.89)",
          "C1: epidermis_1(0.89)",
          "C1: epidermis_1(0.89)",
          "C1: epidermis_1(0.89)",
          "C1: epidermis_1(0.89)",
          "C1: epidermis_1(0.89)",
          "C1: epidermis_1(0.89)",
          "C1: epidermis_1(0.89)",
          "C1: epidermis_1(0.89)",
          "C1: epidermis_1(0.89)",
          "C1: epidermis_1(0.89)",
          "C1: epidermis_1(0.89)",
          "C1: epidermis_1(0.89)",
          "C1: epidermis_1(0.89)",
          "C1: epidermis_1(0.89)",
          "C1: epidermis_1(0.89)",
          "C1: epidermis_1(0.89)",
          "C1: epidermis_1(0.89)",
          "C1: epidermis_1(0.89)",
          "C1: epidermis_1(0.89)",
          "C1: epidermis_1(0.89)",
          "C1: epidermis_1(0.89)",
          "C1: epidermis_1(0.89)",
          "C1: epidermis_1(0.89)",
          "C1: epidermis_1(0.89)",
          "C1: epidermis_1(0.89)",
          "C1: epidermis_1(0.89)",
          "C1: epidermis_1(0.89)",
          "C1: epidermis_1(0.89)",
          "C1: epidermis_1(0.89)"
         ],
         "xaxis": "x3",
         "y": {
          "bdata": "xU10WCne6T8lA7K0pbTqP7P3MsePH+s/KGEAF2gC7D8sn/MCc2XoP9jfFc0m2+g/liTHl5Ux6T+tFnUjA3voP+rA7l5X9+g/FjujwJ3F6j+nS24PkBjpPyeGZmyvOuk/fP3okY3+8z+uKv6UyGDtP2NG5g/OQ+o/6SdfPl5m7z8603mVriTyP151yVIlTuw/vwk6p4Io6T9GCCGVaVb0P7isDT7HHu0/LQeVyFlL6T+SYNVCIczpP+7r1CmtVew/2o065kU38z/49loznIboP6tGmEJPFOo/VbRUxhM56T93bfTarYzoP9k0Gf6PJOs/aU5Argxp7j+ggUcbCynpP6zHG0HySus/qj5purYP6j9g5+caGrPrP9LrNJJWk+k//1ABrjBo6z+3TKEKRsTpP3I3P1jWxew/85E6QQPe6j/uNclI3JjpP5/dFrVQWOk/qqRT3HHK6T+OdL79vk7rP39yUTjsPPA/bNrRv1UC6z/zztRgFiroP36ce0nFCew/DQLbywqq6T9zdKuY1fjpPz1VbuAPJfQ/UHRAlnMX6z9rwXt67PvnP4dOJLZk/Os/w460dE1t6z8YOHa57x3sP30ca4qqT+k/3iznU+Oa6D9BDgZGc2L1PwAm0x5CNOk/ae/mDwjd6T+calxbXCXsP4I7o2NSyek/GDh2ue8d7D9w6XxJCKvsP3AjaU+Xwew/RuIbNwLF6j/2j6NlJGnpP/4bUQUzyOk/dWmOAfmJ6T9x/MDIz5jsP5YQtCZGfOw/uEk/Qr+A9D/lL9+llkDpP4NYUh9kU/Q/8r/cEss09z8mOHWBryHtPz29qnXHJu0/bR6r54n+6T8NTWm86JrsPwngprtK3+k/Gfc0Ozav6j9Z4jOfQeDwP94cPJrhy/A/xfZtyLqy8T/rIAyA01HpP5skPRUJ2Og/nGdOvoom9D909uvOecf+P2s/FTk9WfE/bmUGoOcz9D+LZDBoBuX1P94eNNY05fk/CxJzWvef8T/OWImygpH1P2PlpQPO2fQ/OTm+Cjfx8j8oN0otHP/2P9Q/uPe5uPM/Gx5rku1x8z8XPm4UxZz1P2mRSGIXifc/",
          "dtype": "f8"
         },
         "yaxis": "y3"
        },
        {
         "box": {
          "visible": true
         },
         "jitter": 0.3,
         "marker": {
          "color": "#6dadde"
         },
         "name": "2",
         "pointpos": 0,
         "points": "all",
         "showlegend": false,
         "type": "violin",
         "x": [
          "C2: epidermis_2(0.38)+nervous-system(0.3)",
          "C2: epidermis_2(0.38)+nervous-system(0.3)",
          "C2: epidermis_2(0.38)+nervous-system(0.3)",
          "C2: epidermis_2(0.38)+nervous-system(0.3)",
          "C2: epidermis_2(0.38)+nervous-system(0.3)",
          "C2: epidermis_2(0.38)+nervous-system(0.3)",
          "C2: epidermis_2(0.38)+nervous-system(0.3)",
          "C2: epidermis_2(0.38)+nervous-system(0.3)",
          "C2: epidermis_2(0.38)+nervous-system(0.3)",
          "C2: epidermis_2(0.38)+nervous-system(0.3)",
          "C2: epidermis_2(0.38)+nervous-system(0.3)",
          "C2: epidermis_2(0.38)+nervous-system(0.3)",
          "C2: epidermis_2(0.38)+nervous-system(0.3)",
          "C2: epidermis_2(0.38)+nervous-system(0.3)",
          "C2: epidermis_2(0.38)+nervous-system(0.3)",
          "C2: epidermis_2(0.38)+nervous-system(0.3)",
          "C2: epidermis_2(0.38)+nervous-system(0.3)",
          "C2: epidermis_2(0.38)+nervous-system(0.3)"
         ],
         "xaxis": "x3",
         "y": {
          "bdata": "SYrHN+aj/j/WW+VsBukLQMZ2k/Si3v8/QGlVjjqk/T+BH66i8JEAQFZiJ5QAb/Y/osQnNjALAkD+DUTWJ7H2Pxjd6xePtvg/TWl0HchV+D9e7TChzhEBQHRpLfFhz/o/unQYscE8DEAi5xJJe8b8P7hNFaPmLfo/CIZ7pcNV9z//feyAdE36P4fg8ERkkvA/",
          "dtype": "f8"
         },
         "yaxis": "y3"
        },
        {
         "box": {
          "visible": true
         },
         "jitter": 0.3,
         "marker": {
          "color": "#584a90"
         },
         "name": "3",
         "pointpos": 0,
         "points": "all",
         "showlegend": false,
         "type": "violin",
         "x": [
          "C3: nervous-system_1(0.82)",
          "C3: nervous-system_1(0.82)",
          "C3: nervous-system_1(0.82)",
          "C3: nervous-system_1(0.82)",
          "C3: nervous-system_1(0.82)",
          "C3: nervous-system_1(0.82)",
          "C3: nervous-system_1(0.82)",
          "C3: nervous-system_1(0.82)",
          "C3: nervous-system_1(0.82)",
          "C3: nervous-system_1(0.82)",
          "C3: nervous-system_1(0.82)",
          "C3: nervous-system_1(0.82)",
          "C3: nervous-system_1(0.82)",
          "C3: nervous-system_1(0.82)",
          "C3: nervous-system_1(0.82)",
          "C3: nervous-system_1(0.82)",
          "C3: nervous-system_1(0.82)",
          "C3: nervous-system_1(0.82)",
          "C3: nervous-system_1(0.82)",
          "C3: nervous-system_1(0.82)",
          "C3: nervous-system_1(0.82)",
          "C3: nervous-system_1(0.82)",
          "C3: nervous-system_1(0.82)",
          "C3: nervous-system_1(0.82)",
          "C3: nervous-system_1(0.82)",
          "C3: nervous-system_1(0.82)",
          "C3: nervous-system_1(0.82)",
          "C3: nervous-system_1(0.82)",
          "C3: nervous-system_1(0.82)",
          "C3: nervous-system_1(0.82)",
          "C3: nervous-system_1(0.82)",
          "C3: nervous-system_1(0.82)",
          "C3: nervous-system_1(0.82)",
          "C3: nervous-system_1(0.82)",
          "C3: nervous-system_1(0.82)",
          "C3: nervous-system_1(0.82)",
          "C3: nervous-system_1(0.82)",
          "C3: nervous-system_1(0.82)",
          "C3: nervous-system_1(0.82)",
          "C3: nervous-system_1(0.82)",
          "C3: nervous-system_1(0.82)",
          "C3: nervous-system_1(0.82)",
          "C3: nervous-system_1(0.82)",
          "C3: nervous-system_1(0.82)",
          "C3: nervous-system_1(0.82)",
          "C3: nervous-system_1(0.82)",
          "C3: nervous-system_1(0.82)",
          "C3: nervous-system_1(0.82)",
          "C3: nervous-system_1(0.82)"
         ],
         "xaxis": "x3",
         "y": {
          "bdata": "ggjMkBaW8z+f30sL7czsPzV4+KrRpuw/oHri9JSo7j8lu2cRQrzrP78UgRMLYO0/nxDIqQOW9D9qEmqu9mLwPxt0qfQcLPE/l0sb7HbF8D/1P7eWQ8nqP7jm+twYB/E/U4MeyMIX6j/Zsqko/GTzPzPy8SmxOew/Y1Eekqq89T9z0n94ZPTrP8cN72prLu8/g8dafnmz7D+cCpy5dHnzP1/2eIaHTu8/XfgNUMsN7D/ZpdHumpLrPyeGmvcC0+o/B22XibK66j8pO8TbscftP8+9FIQDU+o/NuiO00+j7D/0CLgigqPvPwyKoVKCbeo/695MrL7K7T8ELctjlPT3P64nKyvz9O0/SqIPY4EO6T+eh48cExjrP90PmAbZge4/9izoZIbN6j8nf/S7wgfsP6/O0C5a7fI/HOPsIm/x6T+/JSlb1HHuP50LfnXCneo/w6bApX0v9j+3UEdsj77tP4XkBh7Iufo/VMEZ3L/A9j+PxivVPuj0P70oJs1o0vY/W/MvsBzz9j8=",
          "dtype": "f8"
         },
         "yaxis": "y3"
        },
        {
         "box": {
          "visible": true
         },
         "jitter": 0.3,
         "marker": {
          "color": "#7c7aad"
         },
         "name": "5",
         "pointpos": 0,
         "points": "all",
         "showlegend": false,
         "type": "violin",
         "x": [
          "C5: nervous-system_2(0.92)",
          "C5: nervous-system_2(0.92)",
          "C5: nervous-system_2(0.92)",
          "C5: nervous-system_2(0.92)",
          "C5: nervous-system_2(0.92)",
          "C5: nervous-system_2(0.92)",
          "C5: nervous-system_2(0.92)",
          "C5: nervous-system_2(0.92)",
          "C5: nervous-system_2(0.92)",
          "C5: nervous-system_2(0.92)",
          "C5: nervous-system_2(0.92)",
          "C5: nervous-system_2(0.92)",
          "C5: nervous-system_2(0.92)",
          "C5: nervous-system_2(0.92)",
          "C5: nervous-system_2(0.92)"
         ],
         "xaxis": "x3",
         "y": {
          "bdata": "591FoI4N9T9GeXsyAYPtP+0KYTr43fI/f3L4gThp8T8mIXJK627vP9UjiebSLfA/7Z0NsF6T8T9iWtYp/4H2PwRNfTN0VOs/PYfoAWuJ6j9vFBRoN8zsPzfnvJMYOPI/eRXBQ8dM7D/bJzS0O1vqP13YATR13P0/",
          "dtype": "f8"
         },
         "yaxis": "y3"
        },
        {
         "box": {
          "visible": true
         },
         "jitter": 0.3,
         "marker": {
          "color": "#a9abd2"
         },
         "name": "11",
         "pointpos": 0,
         "points": "all",
         "showlegend": false,
         "type": "violin",
         "x": [
          "C11: nervous-system_3(0.89)",
          "C11: nervous-system_3(0.89)",
          "C11: nervous-system_3(0.89)",
          "C11: nervous-system_3(0.89)",
          "C11: nervous-system_3(0.89)"
         ],
         "xaxis": "x3",
         "y": {
          "bdata": "kK1hWcbT8j+vkNSIviLzP3mdZxAsOvE/i0C3BRVa8D/cjj+dS1HxPw==",
          "dtype": "f8"
         },
         "yaxis": "y3"
        },
        {
         "box": {
          "visible": true
         },
         "jitter": 0.3,
         "marker": {
          "color": "#a49c96"
         },
         "name": "4",
         "pointpos": 0,
         "points": "all",
         "showlegend": false,
         "type": "violin",
         "x": [
          "C4: notochord(0.71)",
          "C4: notochord(0.71)",
          "C4: notochord(0.71)",
          "C4: notochord(0.71)",
          "C4: notochord(0.71)",
          "C4: notochord(0.71)",
          "C4: notochord(0.71)",
          "C4: notochord(0.71)",
          "C4: notochord(0.71)",
          "C4: notochord(0.71)",
          "C4: notochord(0.71)",
          "C4: notochord(0.71)",
          "C4: notochord(0.71)",
          "C4: notochord(0.71)",
          "C4: notochord(0.71)",
          "C4: notochord(0.71)",
          "C4: notochord(0.71)",
          "C4: notochord(0.71)",
          "C4: notochord(0.71)",
          "C4: notochord(0.71)",
          "C4: notochord(0.71)",
          "C4: notochord(0.71)",
          "C4: notochord(0.71)"
         ],
         "xaxis": "x3",
         "y": {
          "bdata": "wrx8T5E37T9rUJ05pVrqP1H7akGwBfA/vGlw3asG6z87uqk6Wl3rP9eRopW67+k/dEI022+86T8urd3CMo7oP0cACLuyy+o/TjSJc3wA8T9Ug9pl5SXxP5sKW+fUWvE/ft2o9Zro9T8WO6PAncXqP8b/8Xbciuw/6HwCgUvR6D9+XID9l/bqPxGfxgZJ3ew/QveRbjU39T86ARKnuATtPyRb4F3mjvk/OyAy+EOp8z8bMYiQBHb1Pw==",
          "dtype": "f8"
         },
         "yaxis": "y3"
        },
        {
         "box": {
          "visible": true
         },
         "jitter": 0.3,
         "marker": {
          "color": "#e6755c"
         },
         "name": "9",
         "pointpos": 0,
         "points": "all",
         "showlegend": false,
         "type": "violin",
         "x": [
          "C9: mesenchyme(0.65)",
          "C9: mesenchyme(0.65)",
          "C9: mesenchyme(0.65)",
          "C9: mesenchyme(0.65)",
          "C9: mesenchyme(0.65)",
          "C9: mesenchyme(0.65)",
          "C9: mesenchyme(0.65)",
          "C9: mesenchyme(0.65)",
          "C9: mesenchyme(0.65)",
          "C9: mesenchyme(0.65)",
          "C9: mesenchyme(0.65)",
          "C9: mesenchyme(0.65)",
          "C9: mesenchyme(0.65)"
         ],
         "xaxis": "x3",
         "y": {
          "bdata": "yyCMjza79D+OdL79vk7rPwgyPy7HGvA/Xh/pPYcv7T8kon9AUhnrPyg/FpUzuuk/hzdgOFjf7j+FqJ74VfHnPxpMqAaJ5vk/cI0IVk/D8j/JIchbPbnyP+Lwng6kLvM/hz89rk/C8T8=",
          "dtype": "f8"
         },
         "yaxis": "y3"
        },
        {
         "box": {
          "visible": true
         },
         "jitter": 0.3,
         "marker": {
          "color": "#f18ba4"
         },
         "name": "6",
         "pointpos": 0,
         "points": "all",
         "showlegend": false,
         "type": "violin",
         "x": [
          "C6: muscle-heart(0.95)",
          "C6: muscle-heart(0.95)",
          "C6: muscle-heart(0.95)",
          "C6: muscle-heart(0.95)"
         ],
         "xaxis": "x3",
         "y": {
          "bdata": "ttXLE2ES+T/Gd6tVNYv3P4GfsD+AlgNAM7krjr3L+z8=",
          "dtype": "f8"
         },
         "yaxis": "y3"
        },
        {
         "box": {
          "visible": true
         },
         "jitter": 0.3,
         "marker": {
          "color": "#df982b"
         },
         "name": "8",
         "pointpos": 0,
         "points": "all",
         "showlegend": false,
         "type": "violin",
         "x": [
          "C8: endoderm(0.79)",
          "C8: endoderm(0.79)",
          "C8: endoderm(0.79)",
          "C8: endoderm(0.79)",
          "C8: endoderm(0.79)",
          "C8: endoderm(0.79)"
         ],
         "xaxis": "x3",
         "y": {
          "bdata": "h2n/sYbB8D81iY4HnqTyPyHJBbY9/+o/ifvNOcnm5z+LdWz+Pz3oP3BxfFCmOfE/",
          "dtype": "f8"
         },
         "yaxis": "y3"
        },
        {
         "box": {
          "visible": true
         },
         "jitter": 0.3,
         "marker": {
          "color": "#5e9453"
         },
         "name": "10",
         "pointpos": 0,
         "points": "all",
         "showlegend": false,
         "type": "violin",
         "x": [
          "C10: germ(0.81)",
          "C10: germ(0.81)",
          "C10: germ(0.81)",
          "C10: germ(0.81)",
          "C10: germ(0.81)",
          "C10: germ(0.81)",
          "C10: germ(0.81)",
          "C10: germ(0.81)",
          "C10: germ(0.81)"
         ],
         "xaxis": "x3",
         "y": {
          "bdata": "n0X4jc3s8z+Oi2vrceLyP0gaLHGVh/I/8w+Oh0HX8z8OFLldN6/yP+b2DKvJb/I/8d3qOFHm8z8Rb5HoQw38P9E/bKyGSwdA",
          "dtype": "f8"
         },
         "yaxis": "y3"
        },
        {
         "box": {
          "visible": true
         },
         "jitter": 0.3,
         "marker": {
          "color": "#8b9aae"
         },
         "name": "0",
         "pointpos": 0,
         "points": "all",
         "showlegend": false,
         "type": "violin",
         "x": [
          "C0: unannotated_1(0.99)",
          "C0: unannotated_1(0.99)",
          "C0: unannotated_1(0.99)",
          "C0: unannotated_1(0.99)",
          "C0: unannotated_1(0.99)",
          "C0: unannotated_1(0.99)",
          "C0: unannotated_1(0.99)",
          "C0: unannotated_1(0.99)",
          "C0: unannotated_1(0.99)",
          "C0: unannotated_1(0.99)",
          "C0: unannotated_1(0.99)",
          "C0: unannotated_1(0.99)",
          "C0: unannotated_1(0.99)"
         ],
         "xaxis": "x3",
         "y": {
          "bdata": "Xkw9hkiUDEAwGv9+xd0NQMGJEO+eKA5A6QrUdmiNDEDtCEFuZ/YNQN1j3wAABw5AGmFOc2utDUC3QOamOEIOQN7E7LFEVwxA0+vBNK/+DUDUczPyeaUNQFk/tEUOQQ1ARF17LghhCkA=",
          "dtype": "f8"
         },
         "yaxis": "y3"
        },
        {
         "box": {
          "visible": true
         },
         "jitter": 0.3,
         "marker": {
          "color": "#b3c1ca"
         },
         "name": "7",
         "pointpos": 0,
         "points": "all",
         "showlegend": false,
         "type": "violin",
         "x": [
          "C7: unannotated_2(0.97)",
          "C7: unannotated_2(0.97)"
         ],
         "xaxis": "x3",
         "y": {
          "bdata": "/Y/e2cJuDUCBkRoZmLAJQA==",
          "dtype": "f8"
         },
         "yaxis": "y3"
        }
       ],
       "layout": {
        "annotations": [
         {
          "font": {
           "family": "SuisseIntl-SemiBold",
           "size": 16
          },
          "showarrow": false,
          "text": "Expression of <i>NAXE</i> (H2Y1D7) at iniG",
          "x": 0.5,
          "xref": "paper",
          "y": 1.05,
          "yref": "paper"
         },
         {
          "font": {
           "family": "SuisseIntl-SemiBold",
           "size": 14
          },
          "showarrow": false,
          "text": "# cells",
          "textangle": -90,
          "x": -0.12,
          "xref": "paper",
          "y": 0.5,
          "yref": "y domain"
         },
         {
          "font": {
           "family": "SuisseIntl-SemiBold",
           "size": 14
          },
          "showarrow": false,
          "text": "% expr.",
          "textangle": -90,
          "x": -0.12,
          "xref": "paper",
          "y": 0.5,
          "yref": "y2 domain"
         },
         {
          "font": {
           "family": "SuisseIntl-SemiBold",
           "size": 14
          },
          "showarrow": false,
          "text": "NAXE (KY21.Chr3.344)",
          "textangle": -90,
          "x": -0.12,
          "xref": "paper",
          "y": 0.5,
          "yref": "y3 domain"
         }
        ],
        "barmode": "stack",
        "height": 700,
        "margin": {
         "t": 40
        },
        "template": {
         "layout": {
          "bargap": 0.2,
          "coloraxis": {
           "colorbar": {
            "outlinecolor": "white",
            "thickness": 15,
            "tickfont": {
             "family": "SuisseIntlMono",
             "size": 14.5
            },
            "ticks": "outside",
            "title": {
             "font": {
              "family": "SuisseIntl-SemiBold",
              "size": 15
             },
             "side": "right"
            }
           }
          },
          "colorscale": {
           "diverging": [
            [
             0,
             "#964222"
            ],
            [
             0.00392156862745098,
             "#974323"
            ],
            [
             0.00784313725490196,
             "#984424"
            ],
            [
             0.011764705882352941,
             "#994625"
            ],
            [
             0.01568627450980392,
             "#9a4726"
            ],
            [
             0.0196078431372549,
             "#9b4827"
            ],
            [
             0.023529411764705882,
             "#9c4928"
            ],
            [
             0.027450980392156862,
             "#9e4b29"
            ],
            [
             0.03137254901960784,
             "#9f4c2a"
            ],
            [
             0.03529411764705882,
             "#a04d2b"
            ],
            [
             0.0392156862745098,
             "#a14e2c"
            ],
            [
             0.043137254901960784,
             "#a24f2d"
            ],
            [
             0.047058823529411764,
             "#a3512e"
            ],
            [
             0.050980392156862744,
             "#a4522f"
            ],
            [
             0.054901960784313725,
             "#a55330"
            ],
            [
             0.058823529411764705,
             "#a65431"
            ],
            [
             0.06274509803921569,
             "#a75632"
            ],
            [
             0.06666666666666667,
             "#a85733"
            ],
            [
             0.07058823529411765,
             "#a95834"
            ],
            [
             0.07450980392156863,
             "#ab5935"
            ],
            [
             0.0784313725490196,
             "#ac5b36"
            ],
            [
             0.08235294117647059,
             "#ad5c37"
            ],
            [
             0.08627450980392157,
             "#ae5d38"
            ],
            [
             0.09019607843137255,
             "#af5e39"
            ],
            [
             0.09411764705882353,
             "#b05f3a"
            ],
            [
             0.09803921568627451,
             "#b1613b"
            ],
            [
             0.10196078431372549,
             "#b2623c"
            ],
            [
             0.10588235294117647,
             "#b3633d"
            ],
            [
             0.10980392156862745,
             "#b4643e"
            ],
            [
             0.11372549019607843,
             "#b5663f"
            ],
            [
             0.11764705882352941,
             "#b66740"
            ],
            [
             0.12156862745098039,
             "#b86841"
            ],
            [
             0.12549019607843137,
             "#b96942"
            ],
            [
             0.12941176470588237,
             "#ba6a43"
            ],
            [
             0.13333333333333333,
             "#bb6c44"
            ],
            [
             0.13725490196078433,
             "#bc6d45"
            ],
            [
             0.1411764705882353,
             "#bd6e46"
            ],
            [
             0.1450980392156863,
             "#be6f47"
            ],
            [
             0.14901960784313725,
             "#bf7148"
            ],
            [
             0.15294117647058825,
             "#c07249"
            ],
            [
             0.1568627450980392,
             "#c1734a"
            ],
            [
             0.1607843137254902,
             "#c2744b"
            ],
            [
             0.16470588235294117,
             "#c3764c"
            ],
            [
             0.16862745098039217,
             "#c5774d"
            ],
            [
             0.17254901960784313,
             "#c6784e"
            ],
            [
             0.17647058823529413,
             "#c7794f"
            ],
            [
             0.1803921568627451,
             "#c87a50"
            ],
            [
             0.1843137254901961,
             "#c97c51"
            ],
            [
             0.18823529411764706,
             "#ca7d52"
            ],
            [
             0.19215686274509805,
             "#cb7e53"
            ],
            [
             0.19607843137254902,
             "#cc7f55"
            ],
            [
             0.2,
             "#cd8156"
            ],
            [
             0.20392156862745098,
             "#ce8257"
            ],
            [
             0.20784313725490197,
             "#cf8358"
            ],
            [
             0.21176470588235294,
             "#d08459"
            ],
            [
             0.21568627450980393,
             "#d2855a"
            ],
            [
             0.2196078431372549,
             "#d3875b"
            ],
            [
             0.2235294117647059,
             "#d4885c"
            ],
            [
             0.22745098039215686,
             "#d5895d"
            ],
            [
             0.23137254901960785,
             "#d68a5e"
            ],
            [
             0.23529411764705882,
             "#d78c5f"
            ],
            [
             0.23921568627450981,
             "#d88d60"
            ],
            [
             0.24313725490196078,
             "#d98e61"
            ],
            [
             0.24705882352941178,
             "#da8f62"
            ],
            [
             0.25098039215686274,
             "#db9063"
            ],
            [
             0.2549019607843137,
             "#dc9264"
            ],
            [
             0.25882352941176473,
             "#dd9365"
            ],
            [
             0.2627450980392157,
             "#df9466"
            ],
            [
             0.26666666666666666,
             "#e09567"
            ],
            [
             0.27058823529411763,
             "#e19768"
            ],
            [
             0.27450980392156865,
             "#e29869"
            ],
            [
             0.2784313725490196,
             "#e3996a"
            ],
            [
             0.2823529411764706,
             "#e49a6b"
            ],
            [
             0.28627450980392155,
             "#e59c6c"
            ],
            [
             0.2901960784313726,
             "#e69d6d"
            ],
            [
             0.29411764705882354,
             "#e79e6e"
            ],
            [
             0.2980392156862745,
             "#e89f6f"
            ],
            [
             0.30196078431372547,
             "#e9a070"
            ],
            [
             0.3058823529411765,
             "#eaa271"
            ],
            [
             0.30980392156862746,
             "#eba372"
            ],
            [
             0.3137254901960784,
             "#eda473"
            ],
            [
             0.3176470588235294,
             "#eea574"
            ],
            [
             0.3215686274509804,
             "#efa775"
            ],
            [
             0.3254901960784314,
             "#f0a876"
            ],
            [
             0.32941176470588235,
             "#f1a977"
            ],
            [
             0.3333333333333333,
             "#f2aa78"
            ],
            [
             0.33725490196078434,
             "#f3ab79"
            ],
            [
             0.3411764705882353,
             "#f4ad7a"
            ],
            [
             0.34509803921568627,
             "#f5ae7b"
            ],
            [
             0.34901960784313724,
             "#f6af7c"
            ],
            [
             0.35294117647058826,
             "#f7b07d"
            ],
            [
             0.3568627450980392,
             "#f8b27e"
            ],
            [
             0.3607843137254902,
             "#fab37f"
            ],
            [
             0.36470588235294116,
             "#fbb480"
            ],
            [
             0.3686274509803922,
             "#fcb581"
            ],
            [
             0.37254901960784315,
             "#fdb782"
            ],
            [
             0.3764705882352941,
             "#feb883"
            ],
            [
             0.3803921568627451,
             "#ffb984"
            ],
            [
             0.3843137254901961,
             "#ffbb87"
            ],
            [
             0.38823529411764707,
             "#ffbd8b"
            ],
            [
             0.39215686274509803,
             "#febf8f"
            ],
            [
             0.396078431372549,
             "#fec192"
            ],
            [
             0.4,
             "#fec396"
            ],
            [
             0.403921568627451,
             "#fec599"
            ],
            [
             0.40784313725490196,
             "#fdc69d"
            ],
            [
             0.4117647058823529,
             "#fdc8a1"
            ],
            [
             0.41568627450980394,
             "#fdcaa4"
            ],
            [
             0.4196078431372549,
             "#fdcca8"
            ],
            [
             0.4235294117647059,
             "#fcceab"
            ],
            [
             0.42745098039215684,
             "#fcd0af"
            ],
            [
             0.43137254901960786,
             "#fcd2b2"
            ],
            [
             0.43529411764705883,
             "#fcd4b6"
            ],
            [
             0.4392156862745098,
             "#fcd6ba"
            ],
            [
             0.44313725490196076,
             "#fbd8bd"
            ],
            [
             0.4470588235294118,
             "#fbdac1"
            ],
            [
             0.45098039215686275,
             "#fbdcc4"
            ],
            [
             0.4549019607843137,
             "#fbdec8"
            ],
            [
             0.4588235294117647,
             "#fae0cb"
            ],
            [
             0.4627450980392157,
             "#fae2cf"
            ],
            [
             0.4666666666666667,
             "#fae4d3"
            ],
            [
             0.47058823529411764,
             "#fae5d6"
            ],
            [
             0.4745098039215686,
             "#f9e7da"
            ],
            [
             0.47843137254901963,
             "#f9e9dd"
            ],
            [
             0.4823529411764706,
             "#f9ebe1"
            ],
            [
             0.48627450980392156,
             "#f9ede4"
            ],
            [
             0.49019607843137253,
             "#f9efe8"
            ],
            [
             0.49411764705882355,
             "#f8f1ec"
            ],
            [
             0.4980392156862745,
             "#f8f3ef"
            ],
            [
             0.5019607843137255,
             "#f6faee"
            ],
            [
             0.5058823529411764,
             "#f5f9ed"
            ],
            [
             0.5098039215686274,
             "#f3f8eb"
            ],
            [
             0.5137254901960784,
             "#f2f6e9"
            ],
            [
             0.5176470588235295,
             "#f1f5e8"
            ],
            [
             0.5215686274509804,
             "#eff4e6"
            ],
            [
             0.5254901960784314,
             "#eef2e4"
            ],
            [
             0.5294117647058824,
             "#ecf1e3"
            ],
            [
             0.5333333333333333,
             "#ebf0e1"
            ],
            [
             0.5372549019607843,
             "#e9eedf"
            ],
            [
             0.5411764705882353,
             "#e8edde"
            ],
            [
             0.5450980392156862,
             "#e6ecdc"
            ],
            [
             0.5490196078431373,
             "#e5eadb"
            ],
            [
             0.5529411764705883,
             "#e4e9d9"
            ],
            [
             0.5568627450980392,
             "#e2e8d7"
            ],
            [
             0.5607843137254902,
             "#e1e6d6"
            ],
            [
             0.5647058823529412,
             "#dfe5d4"
            ],
            [
             0.5686274509803921,
             "#dee4d2"
            ],
            [
             0.5725490196078431,
             "#dce2d1"
            ],
            [
             0.5764705882352941,
             "#dbe1cf"
            ],
            [
             0.5803921568627451,
             "#d9e0cd"
            ],
            [
             0.5843137254901961,
             "#d8decc"
            ],
            [
             0.5882352941176471,
             "#d7ddca"
            ],
            [
             0.592156862745098,
             "#d5dcc8"
            ],
            [
             0.596078431372549,
             "#d4dac7"
            ],
            [
             0.6,
             "#d2d9c5"
            ],
            [
             0.6039215686274509,
             "#d1d8c4"
            ],
            [
             0.6078431372549019,
             "#cfd6c2"
            ],
            [
             0.611764705882353,
             "#ced5c0"
            ],
            [
             0.615686274509804,
             "#ccd4bf"
            ],
            [
             0.6196078431372549,
             "#cbd2bd"
            ],
            [
             0.6235294117647059,
             "#cad1bb"
            ],
            [
             0.6274509803921569,
             "#c8d0ba"
            ],
            [
             0.6313725490196078,
             "#c7ceb8"
            ],
            [
             0.6352941176470588,
             "#c5cdb6"
            ],
            [
             0.6392156862745098,
             "#c4ccb5"
            ],
            [
             0.6431372549019608,
             "#c2cab3"
            ],
            [
             0.6470588235294118,
             "#c1c9b2"
            ],
            [
             0.6509803921568628,
             "#bfc8b0"
            ],
            [
             0.6549019607843137,
             "#bec6ae"
            ],
            [
             0.6588235294117647,
             "#bdc5ad"
            ],
            [
             0.6627450980392157,
             "#bbc4ab"
            ],
            [
             0.6666666666666666,
             "#bac2a9"
            ],
            [
             0.6705882352941176,
             "#b8c1a8"
            ],
            [
             0.6745098039215687,
             "#b7c0a6"
            ],
            [
             0.6784313725490196,
             "#b5bea4"
            ],
            [
             0.6823529411764706,
             "#b4bda3"
            ],
            [
             0.6862745098039216,
             "#b2bca3"
            ],
            [
             0.6901960784313725,
             "#b0bba2"
            ],
            [
             0.6941176470588235,
             "#afbaa1"
            ],
            [
             0.6980392156862745,
             "#adb9a0"
            ],
            [
             0.7019607843137254,
             "#abb89f"
            ],
            [
             0.7058823529411765,
             "#aab79e"
            ],
            [
             0.7098039215686275,
             "#a8b69d"
            ],
            [
             0.7137254901960784,
             "#a6b59d"
            ],
            [
             0.7176470588235294,
             "#a4b49c"
            ],
            [
             0.7215686274509804,
             "#a3b39b"
            ],
            [
             0.7254901960784313,
             "#a1b29a"
            ],
            [
             0.7294117647058823,
             "#9fb199"
            ],
            [
             0.7333333333333333,
             "#9eb098"
            ],
            [
             0.7372549019607844,
             "#9caf97"
            ],
            [
             0.7411764705882353,
             "#9aae97"
            ],
            [
             0.7450980392156863,
             "#99ad96"
            ],
            [
             0.7490196078431373,
             "#97ac95"
            ],
            [
             0.7529411764705882,
             "#95ab94"
            ],
            [
             0.7568627450980392,
             "#93aa93"
            ],
            [
             0.7607843137254902,
             "#92a992"
            ],
            [
             0.7647058823529411,
             "#90a891"
            ],
            [
             0.7686274509803922,
             "#8ea791"
            ],
            [
             0.7725490196078432,
             "#8da690"
            ],
            [
             0.7764705882352941,
             "#8ba58f"
            ],
            [
             0.7803921568627451,
             "#89a48e"
            ],
            [
             0.7843137254901961,
             "#88a38d"
            ],
            [
             0.788235294117647,
             "#86a28c"
            ],
            [
             0.792156862745098,
             "#84a18b"
            ],
            [
             0.796078431372549,
             "#82a08b"
            ],
            [
             0.8,
             "#819f8a"
            ],
            [
             0.803921568627451,
             "#7f9e89"
            ],
            [
             0.807843137254902,
             "#7d9d88"
            ],
            [
             0.8117647058823529,
             "#7c9c87"
            ],
            [
             0.8156862745098039,
             "#7a9b86"
            ],
            [
             0.8196078431372549,
             "#789a85"
            ],
            [
             0.8235294117647058,
             "#779985"
            ],
            [
             0.8274509803921568,
             "#759884"
            ],
            [
             0.8313725490196079,
             "#739783"
            ],
            [
             0.8352941176470589,
             "#719682"
            ],
            [
             0.8392156862745098,
             "#709581"
            ],
            [
             0.8431372549019608,
             "#6e9480"
            ],
            [
             0.8470588235294118,
             "#6c937f"
            ],
            [
             0.8509803921568627,
             "#6b927f"
            ],
            [
             0.8549019607843137,
             "#69917e"
            ],
            [
             0.8588235294117647,
             "#67907d"
            ],
            [
             0.8627450980392157,
             "#668f7c"
            ],
            [
             0.8666666666666667,
             "#648e7b"
            ],
            [
             0.8705882352941177,
             "#628d7a"
            ],
            [
             0.8745098039215686,
             "#608b79"
            ],
            [
             0.8784313725490196,
             "#5f8a79"
            ],
            [
             0.8823529411764706,
             "#5d8978"
            ],
            [
             0.8862745098039215,
             "#5b8877"
            ],
            [
             0.8901960784313725,
             "#5a8776"
            ],
            [
             0.8941176470588236,
             "#588675"
            ],
            [
             0.8980392156862745,
             "#568574"
            ],
            [
             0.9019607843137255,
             "#558473"
            ],
            [
             0.9058823529411765,
             "#538373"
            ],
            [
             0.9098039215686274,
             "#518272"
            ],
            [
             0.9137254901960784,
             "#4f8171"
            ],
            [
             0.9176470588235294,
             "#4e8070"
            ],
            [
             0.9215686274509803,
             "#4c7f6f"
            ],
            [
             0.9254901960784314,
             "#4a7e6e"
            ],
            [
             0.9294117647058824,
             "#497d6d"
            ],
            [
             0.9333333333333333,
             "#477c6d"
            ],
            [
             0.9372549019607843,
             "#457b6c"
            ],
            [
             0.9411764705882353,
             "#447a6b"
            ],
            [
             0.9450980392156862,
             "#42796a"
            ],
            [
             0.9490196078431372,
             "#407869"
            ],
            [
             0.9529411764705882,
             "#3e7768"
            ],
            [
             0.9568627450980393,
             "#3d7667"
            ],
            [
             0.9607843137254902,
             "#3b7567"
            ],
            [
             0.9647058823529412,
             "#397466"
            ],
            [
             0.9686274509803922,
             "#387365"
            ],
            [
             0.9725490196078431,
             "#367264"
            ],
            [
             0.9764705882352941,
             "#347163"
            ],
            [
             0.9803921568627451,
             "#337062"
            ],
            [
             0.984313725490196,
             "#316f61"
            ],
            [
             0.9882352941176471,
             "#2f6e61"
            ],
            [
             0.9921568627450981,
             "#2d6d60"
            ],
            [
             0.996078431372549,
             "#2c6c5f"
            ],
            [
             1,
             "#2a6b5e"
            ]
           ],
           "sequential": [
            [
             0,
             "#341e60"
            ],
            [
             0.00392156862745098,
             "#351f61"
            ],
            [
             0.00784313725490196,
             "#351f62"
            ],
            [
             0.011764705882352941,
             "#362062"
            ],
            [
             0.01568627450980392,
             "#362163"
            ],
            [
             0.0196078431372549,
             "#372164"
            ],
            [
             0.023529411764705882,
             "#372265"
            ],
            [
             0.027450980392156862,
             "#382366"
            ],
            [
             0.03137254901960784,
             "#392366"
            ],
            [
             0.03529411764705882,
             "#392467"
            ],
            [
             0.0392156862745098,
             "#3a2568"
            ],
            [
             0.043137254901960784,
             "#3a2669"
            ],
            [
             0.047058823529411764,
             "#3b266a"
            ],
            [
             0.050980392156862744,
             "#3c276a"
            ],
            [
             0.054901960784313725,
             "#3c286b"
            ],
            [
             0.058823529411764705,
             "#3d286c"
            ],
            [
             0.06274509803921569,
             "#3d296d"
            ],
            [
             0.06666666666666667,
             "#3e2a6e"
            ],
            [
             0.07058823529411765,
             "#3e2a6e"
            ],
            [
             0.07450980392156863,
             "#3f2b6f"
            ],
            [
             0.0784313725490196,
             "#402c70"
            ],
            [
             0.08235294117647059,
             "#402c71"
            ],
            [
             0.08627450980392157,
             "#412d71"
            ],
            [
             0.09019607843137255,
             "#412e72"
            ],
            [
             0.09411764705882353,
             "#422e73"
            ],
            [
             0.09803921568627451,
             "#422f74"
            ],
            [
             0.10196078431372549,
             "#433075"
            ],
            [
             0.10588235294117647,
             "#443175"
            ],
            [
             0.10980392156862745,
             "#443176"
            ],
            [
             0.11372549019607843,
             "#453277"
            ],
            [
             0.11764705882352941,
             "#453378"
            ],
            [
             0.12156862745098039,
             "#463379"
            ],
            [
             0.12549019607843137,
             "#473479"
            ],
            [
             0.12941176470588237,
             "#47357a"
            ],
            [
             0.13333333333333333,
             "#48357b"
            ],
            [
             0.13725490196078433,
             "#48367c"
            ],
            [
             0.1411764705882353,
             "#49377d"
            ],
            [
             0.1450980392156863,
             "#49377d"
            ],
            [
             0.14901960784313725,
             "#4a387e"
            ],
            [
             0.15294117647058825,
             "#4b397f"
            ],
            [
             0.1568627450980392,
             "#4b3980"
            ],
            [
             0.1607843137254902,
             "#4c3a81"
            ],
            [
             0.16470588235294117,
             "#4c3b81"
            ],
            [
             0.16862745098039217,
             "#4d3c82"
            ],
            [
             0.17254901960784313,
             "#4d3c83"
            ],
            [
             0.17647058823529413,
             "#4e3d84"
            ],
            [
             0.1803921568627451,
             "#4f3e85"
            ],
            [
             0.1843137254901961,
             "#4f3e85"
            ],
            [
             0.18823529411764706,
             "#503f86"
            ],
            [
             0.19215686274509805,
             "#504087"
            ],
            [
             0.19607843137254902,
             "#514088"
            ],
            [
             0.2,
             "#514189"
            ],
            [
             0.20392156862745098,
             "#524289"
            ],
            [
             0.20784313725490197,
             "#53428a"
            ],
            [
             0.21176470588235294,
             "#53438b"
            ],
            [
             0.21568627450980393,
             "#54448c"
            ],
            [
             0.2196078431372549,
             "#55448c"
            ],
            [
             0.2235294117647059,
             "#56458c"
            ],
            [
             0.22745098039215686,
             "#57458c"
            ],
            [
             0.23137254901960785,
             "#58468c"
            ],
            [
             0.23529411764705882,
             "#5a468c"
            ],
            [
             0.23921568627450981,
             "#5b478c"
            ],
            [
             0.24313725490196078,
             "#5c478c"
            ],
            [
             0.24705882352941178,
             "#5d488c"
            ],
            [
             0.25098039215686274,
             "#5e488c"
            ],
            [
             0.2549019607843137,
             "#5f498c"
            ],
            [
             0.25882352941176473,
             "#61498c"
            ],
            [
             0.2627450980392157,
             "#624a8c"
            ],
            [
             0.26666666666666666,
             "#634a8b"
            ],
            [
             0.27058823529411763,
             "#644b8b"
            ],
            [
             0.27450980392156865,
             "#654b8b"
            ],
            [
             0.2784313725490196,
             "#674c8b"
            ],
            [
             0.2823529411764706,
             "#684c8b"
            ],
            [
             0.28627450980392155,
             "#694d8b"
            ],
            [
             0.2901960784313726,
             "#6a4d8b"
            ],
            [
             0.29411764705882354,
             "#6b4e8b"
            ],
            [
             0.2980392156862745,
             "#6d4e8b"
            ],
            [
             0.30196078431372547,
             "#6e4f8b"
            ],
            [
             0.3058823529411765,
             "#6f4f8b"
            ],
            [
             0.30980392156862746,
             "#70508b"
            ],
            [
             0.3137254901960784,
             "#71508b"
            ],
            [
             0.3176470588235294,
             "#72518b"
            ],
            [
             0.3215686274509804,
             "#74518b"
            ],
            [
             0.3254901960784314,
             "#75528b"
            ],
            [
             0.32941176470588235,
             "#76528b"
            ],
            [
             0.3333333333333333,
             "#77528b"
            ],
            [
             0.33725490196078434,
             "#78538b"
            ],
            [
             0.3411764705882353,
             "#7a538b"
            ],
            [
             0.34509803921568627,
             "#7b548b"
            ],
            [
             0.34901960784313724,
             "#7c548b"
            ],
            [
             0.35294117647058826,
             "#7d558b"
            ],
            [
             0.3568627450980392,
             "#7e558b"
            ],
            [
             0.3607843137254902,
             "#7f568a"
            ],
            [
             0.36470588235294116,
             "#81568a"
            ],
            [
             0.3686274509803922,
             "#82578a"
            ],
            [
             0.37254901960784315,
             "#83578a"
            ],
            [
             0.3764705882352941,
             "#84588a"
            ],
            [
             0.3803921568627451,
             "#85588a"
            ],
            [
             0.3843137254901961,
             "#87598a"
            ],
            [
             0.38823529411764707,
             "#88598a"
            ],
            [
             0.39215686274509803,
             "#895a8a"
            ],
            [
             0.396078431372549,
             "#8a5a8a"
            ],
            [
             0.4,
             "#8b5b8a"
            ],
            [
             0.403921568627451,
             "#8d5b8a"
            ],
            [
             0.40784313725490196,
             "#8e5c8a"
            ],
            [
             0.4117647058823529,
             "#8f5c8a"
            ],
            [
             0.41568627450980394,
             "#905d8a"
            ],
            [
             0.4196078431372549,
             "#915d8a"
            ],
            [
             0.4235294117647059,
             "#925e8a"
            ],
            [
             0.42745098039215684,
             "#945e8a"
            ],
            [
             0.43137254901960786,
             "#955f8a"
            ],
            [
             0.43529411764705883,
             "#965f8a"
            ],
            [
             0.4392156862745098,
             "#97608a"
            ],
            [
             0.44313725490196076,
             "#98608a"
            ],
            [
             0.4470588235294118,
             "#9a618a"
            ],
            [
             0.45098039215686275,
             "#9b618a"
            ],
            [
             0.4549019607843137,
             "#9c6289"
            ],
            [
             0.4588235294117647,
             "#9d6289"
            ],
            [
             0.4627450980392157,
             "#9e6389"
            ],
            [
             0.4666666666666667,
             "#a06389"
            ],
            [
             0.47058823529411764,
             "#a16489"
            ],
            [
             0.4745098039215686,
             "#a26489"
            ],
            [
             0.47843137254901963,
             "#a36589"
            ],
            [
             0.4823529411764706,
             "#a46589"
            ],
            [
             0.48627450980392156,
             "#a56689"
            ],
            [
             0.49019607843137253,
             "#a76689"
            ],
            [
             0.49411764705882355,
             "#a86789"
            ],
            [
             0.4980392156862745,
             "#a96789"
            ],
            [
             0.5019607843137255,
             "#aa6889"
            ],
            [
             0.5058823529411764,
             "#ab6989"
            ],
            [
             0.5098039215686274,
             "#ac6989"
            ],
            [
             0.5137254901960784,
             "#ac6a89"
            ],
            [
             0.5176470588235295,
             "#ad6b89"
            ],
            [
             0.5215686274509804,
             "#ae6c88"
            ],
            [
             0.5254901960784314,
             "#af6d88"
            ],
            [
             0.5294117647058824,
             "#b06d88"
            ],
            [
             0.5333333333333333,
             "#b16e88"
            ],
            [
             0.5372549019607843,
             "#b16f88"
            ],
            [
             0.5411764705882353,
             "#b27088"
            ],
            [
             0.5450980392156862,
             "#b37188"
            ],
            [
             0.5490196078431373,
             "#b47188"
            ],
            [
             0.5529411764705883,
             "#b57288"
            ],
            [
             0.5568627450980392,
             "#b67388"
            ],
            [
             0.5607843137254902,
             "#b67488"
            ],
            [
             0.5647058823529412,
             "#b77587"
            ],
            [
             0.5686274509803921,
             "#b87587"
            ],
            [
             0.5725490196078431,
             "#b97687"
            ],
            [
             0.5764705882352941,
             "#ba7787"
            ],
            [
             0.5803921568627451,
             "#bb7887"
            ],
            [
             0.5843137254901961,
             "#bb7887"
            ],
            [
             0.5882352941176471,
             "#bc7987"
            ],
            [
             0.592156862745098,
             "#bd7a87"
            ],
            [
             0.596078431372549,
             "#be7b87"
            ],
            [
             0.6,
             "#bf7c87"
            ],
            [
             0.6039215686274509,
             "#c07c87"
            ],
            [
             0.6078431372549019,
             "#c07d86"
            ],
            [
             0.611764705882353,
             "#c17e86"
            ],
            [
             0.615686274509804,
             "#c27f86"
            ],
            [
             0.6196078431372549,
             "#c38086"
            ],
            [
             0.6235294117647059,
             "#c48086"
            ],
            [
             0.6274509803921569,
             "#c58186"
            ],
            [
             0.6313725490196078,
             "#c58286"
            ],
            [
             0.6352941176470588,
             "#c68386"
            ],
            [
             0.6392156862745098,
             "#c78486"
            ],
            [
             0.6431372549019608,
             "#c88486"
            ],
            [
             0.6470588235294118,
             "#c98586"
            ],
            [
             0.6509803921568628,
             "#ca8685"
            ],
            [
             0.6549019607843137,
             "#ca8785"
            ],
            [
             0.6588235294117647,
             "#cb8885"
            ],
            [
             0.6627450980392157,
             "#cc8885"
            ],
            [
             0.6666666666666666,
             "#cd8985"
            ],
            [
             0.6705882352941176,
             "#ce8a85"
            ],
            [
             0.6745098039215687,
             "#cf8b85"
            ],
            [
             0.6784313725490196,
             "#cf8c85"
            ],
            [
             0.6823529411764706,
             "#d08c85"
            ],
            [
             0.6862745098039216,
             "#d18d85"
            ],
            [
             0.6901960784313725,
             "#d28e85"
            ],
            [
             0.6941176470588235,
             "#d38f84"
            ],
            [
             0.6980392156862745,
             "#d49084"
            ],
            [
             0.7019607843137254,
             "#d49084"
            ],
            [
             0.7058823529411765,
             "#d59184"
            ],
            [
             0.7098039215686275,
             "#d69284"
            ],
            [
             0.7137254901960784,
             "#d79384"
            ],
            [
             0.7176470588235294,
             "#d89484"
            ],
            [
             0.7215686274509804,
             "#d99484"
            ],
            [
             0.7254901960784313,
             "#d99584"
            ],
            [
             0.7294117647058823,
             "#da9684"
            ],
            [
             0.7333333333333333,
             "#db9784"
            ],
            [
             0.7372549019607844,
             "#dc9783"
            ],
            [
             0.7411764705882353,
             "#dd9883"
            ],
            [
             0.7450980392156863,
             "#de9983"
            ],
            [
             0.7490196078431373,
             "#de9a83"
            ],
            [
             0.7529411764705882,
             "#df9b83"
            ],
            [
             0.7568627450980392,
             "#e09b83"
            ],
            [
             0.7607843137254902,
             "#e19c83"
            ],
            [
             0.7647058823529411,
             "#e29d83"
            ],
            [
             0.7686274509803922,
             "#e39e83"
            ],
            [
             0.7725490196078432,
             "#e39f83"
            ],
            [
             0.7764705882352941,
             "#e49f83"
            ],
            [
             0.7803921568627451,
             "#e5a082"
            ],
            [
             0.7843137254901961,
             "#e6a182"
            ],
            [
             0.788235294117647,
             "#e7a282"
            ],
            [
             0.792156862745098,
             "#e8a382"
            ],
            [
             0.796078431372549,
             "#e8a382"
            ],
            [
             0.8,
             "#e9a482"
            ],
            [
             0.803921568627451,
             "#e9a583"
            ],
            [
             0.807843137254902,
             "#eaa784"
            ],
            [
             0.8117647058823529,
             "#eaa885"
            ],
            [
             0.8156862745098039,
             "#eaa986"
            ],
            [
             0.8196078431372549,
             "#eaaa87"
            ],
            [
             0.8235294117647058,
             "#eaab88"
            ],
            [
             0.8274509803921568,
             "#ebac89"
            ],
            [
             0.8313725490196079,
             "#ebae8a"
            ],
            [
             0.8352941176470589,
             "#ebaf8b"
            ],
            [
             0.8392156862745098,
             "#ebb08c"
            ],
            [
             0.8431372549019608,
             "#ecb18d"
            ],
            [
             0.8470588235294118,
             "#ecb28d"
            ],
            [
             0.8509803921568627,
             "#ecb38e"
            ],
            [
             0.8549019607843137,
             "#ecb48f"
            ],
            [
             0.8588235294117647,
             "#edb690"
            ],
            [
             0.8627450980392157,
             "#edb791"
            ],
            [
             0.8666666666666667,
             "#edb892"
            ],
            [
             0.8705882352941177,
             "#edb993"
            ],
            [
             0.8745098039215686,
             "#eeba94"
            ],
            [
             0.8784313725490196,
             "#eebb95"
            ],
            [
             0.8823529411764706,
             "#eebc96"
            ],
            [
             0.8862745098039215,
             "#eebe97"
            ],
            [
             0.8901960784313725,
             "#eebf98"
            ],
            [
             0.8941176470588236,
             "#efc099"
            ],
            [
             0.8980392156862745,
             "#efc19a"
            ],
            [
             0.9019607843137255,
             "#efc29b"
            ],
            [
             0.9058823529411765,
             "#efc39c"
            ],
            [
             0.9098039215686274,
             "#f0c59c"
            ],
            [
             0.9137254901960784,
             "#f0c69d"
            ],
            [
             0.9176470588235294,
             "#f0c79e"
            ],
            [
             0.9215686274509803,
             "#f0c89f"
            ],
            [
             0.9254901960784314,
             "#f1c9a0"
            ],
            [
             0.9294117647058824,
             "#f1caa1"
            ],
            [
             0.9333333333333333,
             "#f1cba2"
            ],
            [
             0.9372549019607843,
             "#f1cda3"
            ],
            [
             0.9411764705882353,
             "#f1cea4"
            ],
            [
             0.9450980392156862,
             "#f2cfa5"
            ],
            [
             0.9490196078431372,
             "#f2d0a6"
            ],
            [
             0.9529411764705882,
             "#f2d1a7"
            ],
            [
             0.9568627450980393,
             "#f2d2a8"
            ],
            [
             0.9607843137254902,
             "#f3d3a9"
            ],
            [
             0.9647058823529412,
             "#f3d5aa"
            ],
            [
             0.9686274509803922,
             "#f3d6ab"
            ],
            [
             0.9725490196078431,
             "#f3d7ab"
            ],
            [
             0.9764705882352941,
             "#f4d8ac"
            ],
            [
             0.9803921568627451,
             "#f4d9ad"
            ],
            [
             0.984313725490196,
             "#f4daae"
            ],
            [
             0.9882352941176471,
             "#f4dcaf"
            ],
            [
             0.9921568627450981,
             "#f5ddb0"
            ],
            [
             0.996078431372549,
             "#f5deb1"
            ],
            [
             1,
             "#f5dfb2"
            ]
           ],
           "sequentialminus": [
            [
             0,
             "#f5dfb2"
            ],
            [
             0.00392156862745098,
             "#f5deb1"
            ],
            [
             0.00784313725490196,
             "#f5ddb0"
            ],
            [
             0.011764705882352941,
             "#f4dcaf"
            ],
            [
             0.01568627450980392,
             "#f4daae"
            ],
            [
             0.0196078431372549,
             "#f4d9ad"
            ],
            [
             0.023529411764705882,
             "#f4d8ac"
            ],
            [
             0.027450980392156862,
             "#f3d7ab"
            ],
            [
             0.03137254901960784,
             "#f3d6ab"
            ],
            [
             0.03529411764705882,
             "#f3d5aa"
            ],
            [
             0.0392156862745098,
             "#f3d3a9"
            ],
            [
             0.043137254901960784,
             "#f2d2a8"
            ],
            [
             0.047058823529411764,
             "#f2d1a7"
            ],
            [
             0.050980392156862744,
             "#f2d0a6"
            ],
            [
             0.054901960784313725,
             "#f2cfa5"
            ],
            [
             0.058823529411764705,
             "#f1cea4"
            ],
            [
             0.06274509803921569,
             "#f1cda3"
            ],
            [
             0.06666666666666667,
             "#f1cba2"
            ],
            [
             0.07058823529411765,
             "#f1caa1"
            ],
            [
             0.07450980392156863,
             "#f1c9a0"
            ],
            [
             0.0784313725490196,
             "#f0c89f"
            ],
            [
             0.08235294117647059,
             "#f0c79e"
            ],
            [
             0.08627450980392157,
             "#f0c69d"
            ],
            [
             0.09019607843137255,
             "#f0c59c"
            ],
            [
             0.09411764705882353,
             "#efc39c"
            ],
            [
             0.09803921568627451,
             "#efc29b"
            ],
            [
             0.10196078431372549,
             "#efc19a"
            ],
            [
             0.10588235294117647,
             "#efc099"
            ],
            [
             0.10980392156862745,
             "#eebf98"
            ],
            [
             0.11372549019607843,
             "#eebe97"
            ],
            [
             0.11764705882352941,
             "#eebc96"
            ],
            [
             0.12156862745098039,
             "#eebb95"
            ],
            [
             0.12549019607843137,
             "#eeba94"
            ],
            [
             0.12941176470588237,
             "#edb993"
            ],
            [
             0.13333333333333333,
             "#edb892"
            ],
            [
             0.13725490196078433,
             "#edb791"
            ],
            [
             0.1411764705882353,
             "#edb690"
            ],
            [
             0.1450980392156863,
             "#ecb48f"
            ],
            [
             0.14901960784313725,
             "#ecb38e"
            ],
            [
             0.15294117647058825,
             "#ecb28d"
            ],
            [
             0.1568627450980392,
             "#ecb18d"
            ],
            [
             0.1607843137254902,
             "#ebb08c"
            ],
            [
             0.16470588235294117,
             "#ebaf8b"
            ],
            [
             0.16862745098039217,
             "#ebae8a"
            ],
            [
             0.17254901960784313,
             "#ebac89"
            ],
            [
             0.17647058823529413,
             "#eaab88"
            ],
            [
             0.1803921568627451,
             "#eaaa87"
            ],
            [
             0.1843137254901961,
             "#eaa986"
            ],
            [
             0.18823529411764706,
             "#eaa885"
            ],
            [
             0.19215686274509805,
             "#eaa784"
            ],
            [
             0.19607843137254902,
             "#e9a583"
            ],
            [
             0.2,
             "#e9a482"
            ],
            [
             0.20392156862745098,
             "#e8a382"
            ],
            [
             0.20784313725490197,
             "#e8a382"
            ],
            [
             0.21176470588235294,
             "#e7a282"
            ],
            [
             0.21568627450980393,
             "#e6a182"
            ],
            [
             0.2196078431372549,
             "#e5a082"
            ],
            [
             0.2235294117647059,
             "#e49f83"
            ],
            [
             0.22745098039215686,
             "#e39f83"
            ],
            [
             0.23137254901960785,
             "#e39e83"
            ],
            [
             0.23529411764705882,
             "#e29d83"
            ],
            [
             0.23921568627450981,
             "#e19c83"
            ],
            [
             0.24313725490196078,
             "#e09b83"
            ],
            [
             0.24705882352941178,
             "#df9b83"
            ],
            [
             0.25098039215686274,
             "#de9a83"
            ],
            [
             0.2549019607843137,
             "#de9983"
            ],
            [
             0.25882352941176473,
             "#dd9883"
            ],
            [
             0.2627450980392157,
             "#dc9783"
            ],
            [
             0.26666666666666666,
             "#db9784"
            ],
            [
             0.27058823529411763,
             "#da9684"
            ],
            [
             0.27450980392156865,
             "#d99584"
            ],
            [
             0.2784313725490196,
             "#d99484"
            ],
            [
             0.2823529411764706,
             "#d89484"
            ],
            [
             0.28627450980392155,
             "#d79384"
            ],
            [
             0.2901960784313726,
             "#d69284"
            ],
            [
             0.29411764705882354,
             "#d59184"
            ],
            [
             0.2980392156862745,
             "#d49084"
            ],
            [
             0.30196078431372547,
             "#d49084"
            ],
            [
             0.3058823529411765,
             "#d38f84"
            ],
            [
             0.30980392156862746,
             "#d28e85"
            ],
            [
             0.3137254901960784,
             "#d18d85"
            ],
            [
             0.3176470588235294,
             "#d08c85"
            ],
            [
             0.3215686274509804,
             "#cf8c85"
            ],
            [
             0.3254901960784314,
             "#cf8b85"
            ],
            [
             0.32941176470588235,
             "#ce8a85"
            ],
            [
             0.3333333333333333,
             "#cd8985"
            ],
            [
             0.33725490196078434,
             "#cc8885"
            ],
            [
             0.3411764705882353,
             "#cb8885"
            ],
            [
             0.34509803921568627,
             "#ca8785"
            ],
            [
             0.34901960784313724,
             "#ca8685"
            ],
            [
             0.35294117647058826,
             "#c98586"
            ],
            [
             0.3568627450980392,
             "#c88486"
            ],
            [
             0.3607843137254902,
             "#c78486"
            ],
            [
             0.36470588235294116,
             "#c68386"
            ],
            [
             0.3686274509803922,
             "#c58286"
            ],
            [
             0.37254901960784315,
             "#c58186"
            ],
            [
             0.3764705882352941,
             "#c48086"
            ],
            [
             0.3803921568627451,
             "#c38086"
            ],
            [
             0.3843137254901961,
             "#c27f86"
            ],
            [
             0.38823529411764707,
             "#c17e86"
            ],
            [
             0.39215686274509803,
             "#c07d86"
            ],
            [
             0.396078431372549,
             "#c07c87"
            ],
            [
             0.4,
             "#bf7c87"
            ],
            [
             0.403921568627451,
             "#be7b87"
            ],
            [
             0.40784313725490196,
             "#bd7a87"
            ],
            [
             0.4117647058823529,
             "#bc7987"
            ],
            [
             0.41568627450980394,
             "#bb7887"
            ],
            [
             0.4196078431372549,
             "#bb7887"
            ],
            [
             0.4235294117647059,
             "#ba7787"
            ],
            [
             0.42745098039215684,
             "#b97687"
            ],
            [
             0.43137254901960786,
             "#b87587"
            ],
            [
             0.43529411764705883,
             "#b77587"
            ],
            [
             0.4392156862745098,
             "#b67488"
            ],
            [
             0.44313725490196076,
             "#b67388"
            ],
            [
             0.4470588235294118,
             "#b57288"
            ],
            [
             0.45098039215686275,
             "#b47188"
            ],
            [
             0.4549019607843137,
             "#b37188"
            ],
            [
             0.4588235294117647,
             "#b27088"
            ],
            [
             0.4627450980392157,
             "#b16f88"
            ],
            [
             0.4666666666666667,
             "#b16e88"
            ],
            [
             0.47058823529411764,
             "#b06d88"
            ],
            [
             0.4745098039215686,
             "#af6d88"
            ],
            [
             0.47843137254901963,
             "#ae6c88"
            ],
            [
             0.4823529411764706,
             "#ad6b89"
            ],
            [
             0.48627450980392156,
             "#ac6a89"
            ],
            [
             0.49019607843137253,
             "#ac6989"
            ],
            [
             0.49411764705882355,
             "#ab6989"
            ],
            [
             0.4980392156862745,
             "#aa6889"
            ],
            [
             0.5019607843137255,
             "#a96789"
            ],
            [
             0.5058823529411764,
             "#a86789"
            ],
            [
             0.5098039215686274,
             "#a76689"
            ],
            [
             0.5137254901960784,
             "#a56689"
            ],
            [
             0.5176470588235295,
             "#a46589"
            ],
            [
             0.5215686274509804,
             "#a36589"
            ],
            [
             0.5254901960784314,
             "#a26489"
            ],
            [
             0.5294117647058824,
             "#a16489"
            ],
            [
             0.5333333333333333,
             "#a06389"
            ],
            [
             0.5372549019607843,
             "#9e6389"
            ],
            [
             0.5411764705882353,
             "#9d6289"
            ],
            [
             0.5450980392156862,
             "#9c6289"
            ],
            [
             0.5490196078431373,
             "#9b618a"
            ],
            [
             0.5529411764705883,
             "#9a618a"
            ],
            [
             0.5568627450980392,
             "#98608a"
            ],
            [
             0.5607843137254902,
             "#97608a"
            ],
            [
             0.5647058823529412,
             "#965f8a"
            ],
            [
             0.5686274509803921,
             "#955f8a"
            ],
            [
             0.5725490196078431,
             "#945e8a"
            ],
            [
             0.5764705882352941,
             "#925e8a"
            ],
            [
             0.5803921568627451,
             "#915d8a"
            ],
            [
             0.5843137254901961,
             "#905d8a"
            ],
            [
             0.5882352941176471,
             "#8f5c8a"
            ],
            [
             0.592156862745098,
             "#8e5c8a"
            ],
            [
             0.596078431372549,
             "#8d5b8a"
            ],
            [
             0.6,
             "#8b5b8a"
            ],
            [
             0.6039215686274509,
             "#8a5a8a"
            ],
            [
             0.6078431372549019,
             "#895a8a"
            ],
            [
             0.611764705882353,
             "#88598a"
            ],
            [
             0.615686274509804,
             "#87598a"
            ],
            [
             0.6196078431372549,
             "#85588a"
            ],
            [
             0.6235294117647059,
             "#84588a"
            ],
            [
             0.6274509803921569,
             "#83578a"
            ],
            [
             0.6313725490196078,
             "#82578a"
            ],
            [
             0.6352941176470588,
             "#81568a"
            ],
            [
             0.6392156862745098,
             "#7f568a"
            ],
            [
             0.6431372549019608,
             "#7e558b"
            ],
            [
             0.6470588235294118,
             "#7d558b"
            ],
            [
             0.6509803921568628,
             "#7c548b"
            ],
            [
             0.6549019607843137,
             "#7b548b"
            ],
            [
             0.6588235294117647,
             "#7a538b"
            ],
            [
             0.6627450980392157,
             "#78538b"
            ],
            [
             0.6666666666666666,
             "#77528b"
            ],
            [
             0.6705882352941176,
             "#76528b"
            ],
            [
             0.6745098039215687,
             "#75528b"
            ],
            [
             0.6784313725490196,
             "#74518b"
            ],
            [
             0.6823529411764706,
             "#72518b"
            ],
            [
             0.6862745098039216,
             "#71508b"
            ],
            [
             0.6901960784313725,
             "#70508b"
            ],
            [
             0.6941176470588235,
             "#6f4f8b"
            ],
            [
             0.6980392156862745,
             "#6e4f8b"
            ],
            [
             0.7019607843137254,
             "#6d4e8b"
            ],
            [
             0.7058823529411765,
             "#6b4e8b"
            ],
            [
             0.7098039215686275,
             "#6a4d8b"
            ],
            [
             0.7137254901960784,
             "#694d8b"
            ],
            [
             0.7176470588235294,
             "#684c8b"
            ],
            [
             0.7215686274509804,
             "#674c8b"
            ],
            [
             0.7254901960784313,
             "#654b8b"
            ],
            [
             0.7294117647058823,
             "#644b8b"
            ],
            [
             0.7333333333333333,
             "#634a8b"
            ],
            [
             0.7372549019607844,
             "#624a8c"
            ],
            [
             0.7411764705882353,
             "#61498c"
            ],
            [
             0.7450980392156863,
             "#5f498c"
            ],
            [
             0.7490196078431373,
             "#5e488c"
            ],
            [
             0.7529411764705882,
             "#5d488c"
            ],
            [
             0.7568627450980392,
             "#5c478c"
            ],
            [
             0.7607843137254902,
             "#5b478c"
            ],
            [
             0.7647058823529411,
             "#5a468c"
            ],
            [
             0.7686274509803922,
             "#58468c"
            ],
            [
             0.7725490196078432,
             "#57458c"
            ],
            [
             0.7764705882352941,
             "#56458c"
            ],
            [
             0.7803921568627451,
             "#55448c"
            ],
            [
             0.7843137254901961,
             "#54448c"
            ],
            [
             0.788235294117647,
             "#53438b"
            ],
            [
             0.792156862745098,
             "#53428a"
            ],
            [
             0.796078431372549,
             "#524289"
            ],
            [
             0.8,
             "#514189"
            ],
            [
             0.803921568627451,
             "#514088"
            ],
            [
             0.807843137254902,
             "#504087"
            ],
            [
             0.8117647058823529,
             "#503f86"
            ],
            [
             0.8156862745098039,
             "#4f3e85"
            ],
            [
             0.8196078431372549,
             "#4f3e85"
            ],
            [
             0.8235294117647058,
             "#4e3d84"
            ],
            [
             0.8274509803921568,
             "#4d3c83"
            ],
            [
             0.8313725490196079,
             "#4d3c82"
            ],
            [
             0.8352941176470589,
             "#4c3b81"
            ],
            [
             0.8392156862745098,
             "#4c3a81"
            ],
            [
             0.8431372549019608,
             "#4b3980"
            ],
            [
             0.8470588235294118,
             "#4b397f"
            ],
            [
             0.8509803921568627,
             "#4a387e"
            ],
            [
             0.8549019607843137,
             "#49377d"
            ],
            [
             0.8588235294117647,
             "#49377d"
            ],
            [
             0.8627450980392157,
             "#48367c"
            ],
            [
             0.8666666666666667,
             "#48357b"
            ],
            [
             0.8705882352941177,
             "#47357a"
            ],
            [
             0.8745098039215686,
             "#473479"
            ],
            [
             0.8784313725490196,
             "#463379"
            ],
            [
             0.8823529411764706,
             "#453378"
            ],
            [
             0.8862745098039215,
             "#453277"
            ],
            [
             0.8901960784313725,
             "#443176"
            ],
            [
             0.8941176470588236,
             "#443175"
            ],
            [
             0.8980392156862745,
             "#433075"
            ],
            [
             0.9019607843137255,
             "#422f74"
            ],
            [
             0.9058823529411765,
             "#422e73"
            ],
            [
             0.9098039215686274,
             "#412e72"
            ],
            [
             0.9137254901960784,
             "#412d71"
            ],
            [
             0.9176470588235294,
             "#402c71"
            ],
            [
             0.9215686274509803,
             "#402c70"
            ],
            [
             0.9254901960784314,
             "#3f2b6f"
            ],
            [
             0.9294117647058824,
             "#3e2a6e"
            ],
            [
             0.9333333333333333,
             "#3e2a6e"
            ],
            [
             0.9372549019607843,
             "#3d296d"
            ],
            [
             0.9411764705882353,
             "#3d286c"
            ],
            [
             0.9450980392156862,
             "#3c286b"
            ],
            [
             0.9490196078431372,
             "#3c276a"
            ],
            [
             0.9529411764705882,
             "#3b266a"
            ],
            [
             0.9568627450980393,
             "#3a2669"
            ],
            [
             0.9607843137254902,
             "#3a2568"
            ],
            [
             0.9647058823529412,
             "#392467"
            ],
            [
             0.9686274509803922,
             "#392366"
            ],
            [
             0.9725490196078431,
             "#382366"
            ],
            [
             0.9764705882352941,
             "#372265"
            ],
            [
             0.9803921568627451,
             "#372164"
            ],
            [
             0.984313725490196,
             "#362163"
            ],
            [
             0.9882352941176471,
             "#362062"
            ],
            [
             0.9921568627450981,
             "#351f62"
            ],
            [
             0.996078431372549,
             "#351f61"
            ],
            [
             1,
             "#341e60"
            ]
           ]
          },
          "font": {
           "color": "black",
           "family": "SuisseIntl",
           "size": 15
          },
          "hoverlabel": {
           "font": {
            "family": "SuisseIntl",
            "size": 13
           }
          },
          "legend": {
           "font": {
            "color": "black",
            "family": "SuisseIntl",
            "size": 15
           },
           "indentation": -12,
           "title": {
            "font": {
             "color": "black",
             "family": "SuisseIntl-SemiBold",
             "size": 16
            }
           },
           "x": 1,
           "xanchor": "right",
           "y": 1,
           "yanchor": "top"
          },
          "margin": {
           "b": 85,
           "l": 95,
           "r": 40,
           "t": 40
          },
          "scene": {
           "xaxis": {
            "linecolor": "black",
            "linewidth": 1,
            "showgrid": true,
            "showline": true,
            "ticks": "outside",
            "tickwidth": 1,
            "title": {
             "font": {
              "color": "black",
              "family": "SuisseIntl-Medium",
              "size": 15
             }
            }
           },
           "yaxis": {
            "linecolor": "black",
            "linewidth": 1,
            "showgrid": true,
            "showline": true,
            "ticks": "outside",
            "tickwidth": 1,
            "title": {
             "font": {
              "color": "black",
              "family": "SuisseIntl-Medium",
              "size": 15
             }
            }
           },
           "zaxis": {
            "linecolor": "black",
            "linewidth": 1,
            "showgrid": true,
            "showline": true,
            "ticks": "outside",
            "tickwidth": 1,
            "title": {
             "font": {
              "color": "black",
              "family": "SuisseIntl-Medium",
              "size": 15
             }
            }
           }
          },
          "title": {
           "automargin": true,
           "font": {
            "color": "black",
            "family": "SuisseIntl-SemiBold",
            "size": 16
           },
           "yref": "container"
          },
          "xaxis": {
           "automargin": true,
           "linecolor": "black",
           "linewidth": 1,
           "showgrid": false,
           "showline": true,
           "ticklabelstandoff": 2,
           "ticks": "outside",
           "tickwidth": 1,
           "title": {
            "font": {
             "color": "black",
             "family": "SuisseIntl-Medium",
             "size": 15
            },
            "standoff": 10
           },
           "zerolinecolor": "rgba(0,0,0,0)",
           "zerolinewidth": 0
          },
          "yaxis": {
           "automargin": true,
           "linecolor": "black",
           "linewidth": 1,
           "showgrid": false,
           "showline": true,
           "ticklabelstandoff": 2,
           "ticks": "outside",
           "tickwidth": 1,
           "title": {
            "font": {
             "color": "black",
             "family": "SuisseIntl-Medium",
             "size": 15
            },
            "standoff": 10
           },
           "zerolinecolor": "rgba(0,0,0,0)",
           "zerolinewidth": 0
          }
         }
        },
        "width": 950,
        "xaxis": {
         "anchor": "y",
         "domain": [
          0,
          1
         ],
         "showticklabels": false,
         "tickangle": 45,
         "ticks": ""
        },
        "xaxis2": {
         "anchor": "y2",
         "domain": [
          0,
          1
         ],
         "showticklabels": false,
         "tickangle": 45,
         "ticks": ""
        },
        "xaxis3": {
         "anchor": "y3",
         "domain": [
          0,
          1
         ],
         "tickangle": 45
        },
        "yaxis": {
         "anchor": "x",
         "domain": [
          0.865,
          1
         ],
         "tickfont": {
          "family": "SuisseIntlMono",
          "size": 14.5
         }
        },
        "yaxis2": {
         "anchor": "x2",
         "domain": [
          0.68,
          0.8150000000000001
         ],
         "tickfont": {
          "family": "SuisseIntlMono",
          "size": 14.5
         }
        },
        "yaxis3": {
         "anchor": "x3",
         "domain": [
          0,
          0.63
         ],
         "tickfont": {
          "family": "SuisseIntlMono",
          "size": 14.5
         }
        }
       }
      }
     },
     "metadata": {},
     "output_type": "display_data"
    }
   ],
   "source": [
    "input_id = \"NAXE\"\n",
    "stage = CionaStage.INIG\n",
    "\n",
    "cluster_plot = zt.ciona.plotting.plot_expression_violin(\n",
    "    stage=stage,\n",
    "    input_id=input_id,\n",
    "    input_id_type=CionaIDTypes.HGNC_GENE_SYMBOL,\n",
    "    data_dirpath=PIEKARZ_DATA_DIRPATH,\n",
    "    mapper=id_mapper,\n",
    "    color_mode=\"cluster\",\n",
    ")\n",
    "\n",
    "cluster_plot.show()\n",
    "\n",
    "tissue_plot = zt.ciona.plotting.plot_expression_violin(\n",
    "    stage=stage,\n",
    "    input_id=input_id,\n",
    "    input_id_type=CionaIDTypes.HGNC_GENE_SYMBOL,\n",
    "    data_dirpath=PIEKARZ_DATA_DIRPATH,\n",
    "    mapper=id_mapper,\n",
    "    color_mode=\"tissue\",\n",
    ")\n",
    "\n",
    "tissue_plot.show()"
   ]
  },
  {
   "cell_type": "markdown",
   "metadata": {},
   "source": [
    "## 6.3 Violin plots of multiple genes across all stages\n",
    "We can generate violin plots for multiple developmental stages at once using the `plot_expression_violin_for_all_stages` function. The code below generates violin plots for genes identified as tractable for pilot experiments in *Ciona*, colored by cluster and by tissue type, and saves the plots to the `figures` directory."
   ]
  },
  {
   "cell_type": "code",
   "execution_count": 4,
   "metadata": {},
   "outputs": [
    {
     "name": "stderr",
     "output_type": "stream",
     "text": [
      "100%|██████████| 10/10 [00:10<00:00,  1.08s/it]\n",
      "100%|██████████| 10/10 [00:09<00:00,  1.05it/s]\n",
      "100%|██████████| 10/10 [00:08<00:00,  1.14it/s]\n",
      "100%|██████████| 10/10 [00:09<00:00,  1.10it/s]\n",
      "100%|██████████| 10/10 [00:10<00:00,  1.05s/it]\n",
      "100%|██████████| 10/10 [00:10<00:00,  1.06s/it]\n",
      "100%|██████████| 10/10 [00:10<00:00,  1.01s/it]\n",
      "100%|██████████| 10/10 [00:09<00:00,  1.02it/s]\n",
      "100%|██████████| 10/10 [00:08<00:00,  1.12it/s]\n",
      "100%|██████████| 10/10 [00:09<00:00,  1.05it/s]\n"
     ]
    }
   ],
   "source": [
    "selected_genes = [\"NAXE\", \"FCHO1\", \"PGM3\", \"RBBP7\", \"NCKAP1L\"]\n",
    "\n",
    "output_dirpath = \"figures\"\n",
    "\n",
    "for gene in selected_genes:\n",
    "    zt.ciona.plotting.plot_expression_violin_for_all_stages(\n",
    "        input_id=gene,\n",
    "        input_id_type=CionaIDTypes.HGNC_GENE_SYMBOL,\n",
    "        data_dirpath=PIEKARZ_DATA_DIRPATH,\n",
    "        mapper=id_mapper,\n",
    "        color_mode=\"cluster\",\n",
    "        output_dirpath=output_dirpath,\n",
    "    )\n",
    "\n",
    "    zt.ciona.plotting.plot_expression_violin_for_all_stages(\n",
    "        input_id=gene,\n",
    "        input_id_type=CionaIDTypes.HGNC_GENE_SYMBOL,\n",
    "        data_dirpath=PIEKARZ_DATA_DIRPATH,\n",
    "        mapper=id_mapper,\n",
    "        color_mode=\"tissue\",\n",
    "        output_dirpath=output_dirpath,\n",
    "    )"
   ]
  }
 ],
 "metadata": {
  "kernelspec": {
   "display_name": "2025-zoogle",
   "language": "python",
   "name": "python3"
  },
  "language_info": {
   "codemirror_mode": {
    "name": "ipython",
    "version": 3
   },
   "file_extension": ".py",
   "mimetype": "text/x-python",
   "name": "python",
   "nbconvert_exporter": "python",
   "pygments_lexer": "ipython3",
   "version": "3.12.0"
  }
 },
 "nbformat": 4,
 "nbformat_minor": 2
}
